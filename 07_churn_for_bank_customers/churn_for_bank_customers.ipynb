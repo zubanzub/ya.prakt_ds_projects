{
 "cells": [
  {
   "cell_type": "markdown",
   "metadata": {},
   "source": [
    "# Отток клиентов банка"
   ]
  },
  {
   "cell_type": "markdown",
   "metadata": {},
   "source": [
    "## Введение\n",
    "\n",
    "**Цель проекта**: построение модели для задачи классификации: спрогнозировать, уйдёт клиент из банка в ближайшее время или нет, исходя из предоставленных исторических данных о поведении клиентов и расторжении договоров с банком.\n",
    "\n",
    "\n",
    "**Входные данные** \n",
    "\n",
    "Информация об исторических данных о поведении клиентов и расторжении договоров с банком (*/datasets/Churn.csv*):  \n",
    "\n",
    "\n",
    "***Признаки***\n",
    "- *RowNumber* — индекс строки в данных\n",
    "- *CustomerId* — уникальный идентификатор клиента\n",
    "- *Surname* — фамилия\n",
    "- *CreditScore* — кредитный рейтинг\n",
    "- *Geography* — страна проживания\n",
    "- *Gender* — пол\n",
    "- *Age* — возраст\n",
    "- *Tenure* — количество недвижимости у клиента\n",
    "- *Balance* — баланс на счёте\n",
    "- *NumOfProducts* — количество продуктов банка, используемых клиентом\n",
    "- *HasCrCard* — наличие кредитной карты\n",
    "- *IsActiveMember* — активность клиента\n",
    "- *EstimatedSalary* — предполагаемая зарплата  \n",
    "\n",
    "\n",
    "***Целевой признак***\n",
    "- *Exited* — факт ухода клиента"
   ]
  },
  {
   "cell_type": "markdown",
   "metadata": {},
   "source": [
    "## Подготовка и общий обзор полученных данных"
   ]
  },
  {
   "cell_type": "markdown",
   "metadata": {},
   "source": [
    "Импортируем необходимые библиотеки для дальнейшей работы:"
   ]
  },
  {
   "cell_type": "code",
   "execution_count": 1,
   "metadata": {},
   "outputs": [],
   "source": [
    "import pandas as pd\n",
    "import numpy as np\n",
    "import matplotlib.pyplot as plt\n",
    "import seaborn as sns\n",
    "from tqdm import tqdm\n",
    "import warnings\n",
    "\n",
    "\n",
    "from sklearn.model_selection import train_test_split\n",
    "from sklearn.tree import DecisionTreeClassifier\n",
    "from sklearn.ensemble import RandomForestClassifier\n",
    "from sklearn.linear_model import LogisticRegression\n",
    "from sklearn.metrics import accuracy_score, confusion_matrix, recall_score, precision_score, f1_score, roc_auc_score, roc_curve, precision_recall_curve\n",
    "from sklearn.preprocessing import StandardScaler \n",
    "from sklearn.utils import shuffle"
   ]
  },
  {
   "cell_type": "markdown",
   "metadata": {},
   "source": [
    "Прочтем предоставленный файл и сохраним DataFrame в соответствующей переменной. Выведем и изучим общую информацию о полученных данных, проверим корректность названий столбцов, количество пропусков и дубликатов:"
   ]
  },
  {
   "cell_type": "code",
   "execution_count": 2,
   "metadata": {},
   "outputs": [
    {
     "name": "stdout",
     "output_type": "stream",
     "text": [
      "<class 'pandas.core.frame.DataFrame'>\n",
      "RangeIndex: 10000 entries, 0 to 9999\n",
      "Data columns (total 14 columns):\n",
      "RowNumber          10000 non-null int64\n",
      "CustomerId         10000 non-null int64\n",
      "Surname            10000 non-null object\n",
      "CreditScore        10000 non-null int64\n",
      "Geography          10000 non-null object\n",
      "Gender             10000 non-null object\n",
      "Age                10000 non-null int64\n",
      "Tenure             9091 non-null float64\n",
      "Balance            10000 non-null float64\n",
      "NumOfProducts      10000 non-null int64\n",
      "HasCrCard          10000 non-null int64\n",
      "IsActiveMember     10000 non-null int64\n",
      "EstimatedSalary    10000 non-null float64\n",
      "Exited             10000 non-null int64\n",
      "dtypes: float64(3), int64(8), object(3)\n",
      "memory usage: 1.1+ MB\n",
      "\n",
      "Index(['RowNumber', 'CustomerId', 'Surname', 'CreditScore', 'Geography',\n",
      "       'Gender', 'Age', 'Tenure', 'Balance', 'NumOfProducts', 'HasCrCard',\n",
      "       'IsActiveMember', 'EstimatedSalary', 'Exited'],\n",
      "      dtype='object')\n",
      "\n"
     ]
    },
    {
     "data": {
      "text/html": [
       "<div>\n",
       "<style scoped>\n",
       "    .dataframe tbody tr th:only-of-type {\n",
       "        vertical-align: middle;\n",
       "    }\n",
       "\n",
       "    .dataframe tbody tr th {\n",
       "        vertical-align: top;\n",
       "    }\n",
       "\n",
       "    .dataframe thead th {\n",
       "        text-align: right;\n",
       "    }\n",
       "</style>\n",
       "<table border=\"1\" class=\"dataframe\">\n",
       "  <thead>\n",
       "    <tr style=\"text-align: right;\">\n",
       "      <th></th>\n",
       "      <th>RowNumber</th>\n",
       "      <th>CustomerId</th>\n",
       "      <th>Surname</th>\n",
       "      <th>CreditScore</th>\n",
       "      <th>Geography</th>\n",
       "      <th>Gender</th>\n",
       "      <th>Age</th>\n",
       "      <th>Tenure</th>\n",
       "      <th>Balance</th>\n",
       "      <th>NumOfProducts</th>\n",
       "      <th>HasCrCard</th>\n",
       "      <th>IsActiveMember</th>\n",
       "      <th>EstimatedSalary</th>\n",
       "      <th>Exited</th>\n",
       "    </tr>\n",
       "  </thead>\n",
       "  <tbody>\n",
       "    <tr>\n",
       "      <td>0</td>\n",
       "      <td>1</td>\n",
       "      <td>15634602</td>\n",
       "      <td>Hargrave</td>\n",
       "      <td>619</td>\n",
       "      <td>France</td>\n",
       "      <td>Female</td>\n",
       "      <td>42</td>\n",
       "      <td>2.0</td>\n",
       "      <td>0.00</td>\n",
       "      <td>1</td>\n",
       "      <td>1</td>\n",
       "      <td>1</td>\n",
       "      <td>101348.88</td>\n",
       "      <td>1</td>\n",
       "    </tr>\n",
       "    <tr>\n",
       "      <td>1</td>\n",
       "      <td>2</td>\n",
       "      <td>15647311</td>\n",
       "      <td>Hill</td>\n",
       "      <td>608</td>\n",
       "      <td>Spain</td>\n",
       "      <td>Female</td>\n",
       "      <td>41</td>\n",
       "      <td>1.0</td>\n",
       "      <td>83807.86</td>\n",
       "      <td>1</td>\n",
       "      <td>0</td>\n",
       "      <td>1</td>\n",
       "      <td>112542.58</td>\n",
       "      <td>0</td>\n",
       "    </tr>\n",
       "    <tr>\n",
       "      <td>2</td>\n",
       "      <td>3</td>\n",
       "      <td>15619304</td>\n",
       "      <td>Onio</td>\n",
       "      <td>502</td>\n",
       "      <td>France</td>\n",
       "      <td>Female</td>\n",
       "      <td>42</td>\n",
       "      <td>8.0</td>\n",
       "      <td>159660.80</td>\n",
       "      <td>3</td>\n",
       "      <td>1</td>\n",
       "      <td>0</td>\n",
       "      <td>113931.57</td>\n",
       "      <td>1</td>\n",
       "    </tr>\n",
       "    <tr>\n",
       "      <td>3</td>\n",
       "      <td>4</td>\n",
       "      <td>15701354</td>\n",
       "      <td>Boni</td>\n",
       "      <td>699</td>\n",
       "      <td>France</td>\n",
       "      <td>Female</td>\n",
       "      <td>39</td>\n",
       "      <td>1.0</td>\n",
       "      <td>0.00</td>\n",
       "      <td>2</td>\n",
       "      <td>0</td>\n",
       "      <td>0</td>\n",
       "      <td>93826.63</td>\n",
       "      <td>0</td>\n",
       "    </tr>\n",
       "    <tr>\n",
       "      <td>4</td>\n",
       "      <td>5</td>\n",
       "      <td>15737888</td>\n",
       "      <td>Mitchell</td>\n",
       "      <td>850</td>\n",
       "      <td>Spain</td>\n",
       "      <td>Female</td>\n",
       "      <td>43</td>\n",
       "      <td>2.0</td>\n",
       "      <td>125510.82</td>\n",
       "      <td>1</td>\n",
       "      <td>1</td>\n",
       "      <td>1</td>\n",
       "      <td>79084.10</td>\n",
       "      <td>0</td>\n",
       "    </tr>\n",
       "  </tbody>\n",
       "</table>\n",
       "</div>"
      ],
      "text/plain": [
       "   RowNumber  CustomerId   Surname  CreditScore Geography  Gender  Age  \\\n",
       "0          1    15634602  Hargrave          619    France  Female   42   \n",
       "1          2    15647311      Hill          608     Spain  Female   41   \n",
       "2          3    15619304      Onio          502    France  Female   42   \n",
       "3          4    15701354      Boni          699    France  Female   39   \n",
       "4          5    15737888  Mitchell          850     Spain  Female   43   \n",
       "\n",
       "   Tenure    Balance  NumOfProducts  HasCrCard  IsActiveMember  \\\n",
       "0     2.0       0.00              1          1               1   \n",
       "1     1.0   83807.86              1          0               1   \n",
       "2     8.0  159660.80              3          1               0   \n",
       "3     1.0       0.00              2          0               0   \n",
       "4     2.0  125510.82              1          1               1   \n",
       "\n",
       "   EstimatedSalary  Exited  \n",
       "0        101348.88       1  \n",
       "1        112542.58       0  \n",
       "2        113931.57       1  \n",
       "3         93826.63       0  \n",
       "4         79084.10       0  "
      ]
     },
     "metadata": {},
     "output_type": "display_data"
    },
    {
     "name": "stdout",
     "output_type": "stream",
     "text": [
      "\n",
      "Количество пропусков:\n",
      "RowNumber            0\n",
      "CustomerId           0\n",
      "Surname              0\n",
      "CreditScore          0\n",
      "Geography            0\n",
      "Gender               0\n",
      "Age                  0\n",
      "Tenure             909\n",
      "Balance              0\n",
      "NumOfProducts        0\n",
      "HasCrCard            0\n",
      "IsActiveMember       0\n",
      "EstimatedSalary      0\n",
      "Exited               0\n",
      "dtype: int64\n",
      "\n",
      "Количество дубликатов: 0\n"
     ]
    }
   ],
   "source": [
    "clients_data = pd.read_csv('/datasets/Churn.csv')\n",
    "\n",
    "clients_data.info()\n",
    "print()\n",
    "print(clients_data.columns)\n",
    "print()\n",
    "display(clients_data.head())\n",
    "print()\n",
    "print('Количество пропусков:')\n",
    "print(clients_data.isna().sum())\n",
    "print()\n",
    "print('Количество дубликатов:', clients_data.duplicated().sum())"
   ]
  },
  {
   "cell_type": "markdown",
   "metadata": {},
   "source": [
    "Приведем наименования столбцов к удобному для работы формату: "
   ]
  },
  {
   "cell_type": "code",
   "execution_count": 3,
   "metadata": {},
   "outputs": [
    {
     "name": "stdout",
     "output_type": "stream",
     "text": [
      "Index(['row_number', 'custumer_id', 'surname', 'credit_score', 'geography',\n",
      "       'gender', 'age', 'tenure', 'balance', 'num_of_products', 'has_cr_card',\n",
      "       'is_active_member', 'estimated_salary', 'exited'],\n",
      "      dtype='object')\n"
     ]
    }
   ],
   "source": [
    "clients_data.set_axis(['row_number', 'custumer_id', 'surname', 'credit_score', 'geography', 'gender', 'age', 'tenure', \n",
    "                      'balance', 'num_of_products', 'has_cr_card', 'is_active_member', 'estimated_salary', \n",
    "                      'exited'], axis='columns', inplace=True)\n",
    "print(clients_data.columns)"
   ]
  },
  {
   "cell_type": "markdown",
   "metadata": {},
   "source": [
    "Заполним пропуски в столбце 'tenure': скорее всего NaN означает отсутствие у клиента недвижимости, вполне вероятно что он просто оставил данное поле незаполненным. Удаление строк с пропусками нецелесообразно, поскольку мы теряем почти 9.1% данных:"
   ]
  },
  {
   "cell_type": "code",
   "execution_count": 4,
   "metadata": {},
   "outputs": [
    {
     "data": {
      "text/plain": [
       "0.0     1291\n",
       "1.0      952\n",
       "2.0      950\n",
       "8.0      933\n",
       "3.0      928\n",
       "5.0      927\n",
       "7.0      925\n",
       "4.0      885\n",
       "9.0      882\n",
       "6.0      881\n",
       "10.0     446\n",
       "Name: tenure, dtype: int64"
      ]
     },
     "execution_count": 4,
     "metadata": {},
     "output_type": "execute_result"
    }
   ],
   "source": [
    "clients_data['tenure'] = clients_data['tenure'].fillna(0)\n",
    "clients_data['tenure'].value_counts()"
   ]
  },
  {
   "cell_type": "markdown",
   "metadata": {},
   "source": [
    "Для проверки признаков на наличие мультиколлинеарности построим матрицу корреляции. "
   ]
  },
  {
   "cell_type": "code",
   "execution_count": 5,
   "metadata": {},
   "outputs": [
    {
     "data": {
      "text/plain": [
       "<matplotlib.axes._subplots.AxesSubplot at 0x7eff89dd3510>"
      ]
     },
     "execution_count": 5,
     "metadata": {},
     "output_type": "execute_result"
    },
    {
     "data": {
      "image/png": "[encoded data removed]",
      "text/plain": [
       "<Figure size 1080x1080 with 2 Axes>"
      ]
     },
     "metadata": {
      "needs_background": "light"
     },
     "output_type": "display_data"
    }
   ],
   "source": [
    "# Исключим столбцы с качественными переменными\n",
    "clients_data_matrix = clients_data.drop(['row_number','custumer_id', 'has_cr_card', 'is_active_member', 'exited'], axis=1)\n",
    "\n",
    "matrix = np.triu(clients_data_matrix.corr())\n",
    "plt.figure(figsize=(15,15))\n",
    "sns.heatmap(clients_data_matrix.corr(), annot=True, mask=matrix, fmt='.3g', square=True)"
   ]
  },
  {
   "cell_type": "markdown",
   "metadata": {},
   "source": [
    "Мы видим, что корреляционная связь между показателями крайне слаба - самый большой коэффициент не превышает значения 0.03. Из этого можно сделать вывод о том, что мультиколлинеарность между показателями отсутствует."
   ]
  },
  {
   "cell_type": "markdown",
   "metadata": {},
   "source": [
    "Подготовим данные для дальнейшей работы:\n",
    "- 'row_number': данные практически дублируют индексы df и не несут смысловой нагрузки для поставленных целей - убираем за ненужностью.\n",
    "- 'custumer_id', 'surname': идентификатор пользователя и его фамилия нам также не помогут в решении вопроса - убираем.\n",
    "Прочие признаки нужны для построения модели, мультиколлинеарность между признаками не выявлена.\n",
    "\n",
    "Преобразуем категориальные признаки 'geography', 'gender' в численные. воспользуемся техникой OHE (т.к. она применима ко всем моделям) и избавимся от dummy-ловушки."
   ]
  },
  {
   "cell_type": "code",
   "execution_count": 6,
   "metadata": {},
   "outputs": [
    {
     "data": {
      "text/html": [
       "<div>\n",
       "<style scoped>\n",
       "    .dataframe tbody tr th:only-of-type {\n",
       "        vertical-align: middle;\n",
       "    }\n",
       "\n",
       "    .dataframe tbody tr th {\n",
       "        vertical-align: top;\n",
       "    }\n",
       "\n",
       "    .dataframe thead th {\n",
       "        text-align: right;\n",
       "    }\n",
       "</style>\n",
       "<table border=\"1\" class=\"dataframe\">\n",
       "  <thead>\n",
       "    <tr style=\"text-align: right;\">\n",
       "      <th></th>\n",
       "      <th>credit_score</th>\n",
       "      <th>geography</th>\n",
       "      <th>gender</th>\n",
       "      <th>age</th>\n",
       "      <th>tenure</th>\n",
       "      <th>balance</th>\n",
       "      <th>num_of_products</th>\n",
       "      <th>has_cr_card</th>\n",
       "      <th>is_active_member</th>\n",
       "      <th>estimated_salary</th>\n",
       "      <th>exited</th>\n",
       "    </tr>\n",
       "  </thead>\n",
       "  <tbody>\n",
       "    <tr>\n",
       "      <td>0</td>\n",
       "      <td>619</td>\n",
       "      <td>France</td>\n",
       "      <td>Female</td>\n",
       "      <td>42</td>\n",
       "      <td>2.0</td>\n",
       "      <td>0.00</td>\n",
       "      <td>1</td>\n",
       "      <td>1</td>\n",
       "      <td>1</td>\n",
       "      <td>101348.88</td>\n",
       "      <td>1</td>\n",
       "    </tr>\n",
       "    <tr>\n",
       "      <td>1</td>\n",
       "      <td>608</td>\n",
       "      <td>Spain</td>\n",
       "      <td>Female</td>\n",
       "      <td>41</td>\n",
       "      <td>1.0</td>\n",
       "      <td>83807.86</td>\n",
       "      <td>1</td>\n",
       "      <td>0</td>\n",
       "      <td>1</td>\n",
       "      <td>112542.58</td>\n",
       "      <td>0</td>\n",
       "    </tr>\n",
       "    <tr>\n",
       "      <td>2</td>\n",
       "      <td>502</td>\n",
       "      <td>France</td>\n",
       "      <td>Female</td>\n",
       "      <td>42</td>\n",
       "      <td>8.0</td>\n",
       "      <td>159660.80</td>\n",
       "      <td>3</td>\n",
       "      <td>1</td>\n",
       "      <td>0</td>\n",
       "      <td>113931.57</td>\n",
       "      <td>1</td>\n",
       "    </tr>\n",
       "    <tr>\n",
       "      <td>3</td>\n",
       "      <td>699</td>\n",
       "      <td>France</td>\n",
       "      <td>Female</td>\n",
       "      <td>39</td>\n",
       "      <td>1.0</td>\n",
       "      <td>0.00</td>\n",
       "      <td>2</td>\n",
       "      <td>0</td>\n",
       "      <td>0</td>\n",
       "      <td>93826.63</td>\n",
       "      <td>0</td>\n",
       "    </tr>\n",
       "    <tr>\n",
       "      <td>4</td>\n",
       "      <td>850</td>\n",
       "      <td>Spain</td>\n",
       "      <td>Female</td>\n",
       "      <td>43</td>\n",
       "      <td>2.0</td>\n",
       "      <td>125510.82</td>\n",
       "      <td>1</td>\n",
       "      <td>1</td>\n",
       "      <td>1</td>\n",
       "      <td>79084.10</td>\n",
       "      <td>0</td>\n",
       "    </tr>\n",
       "  </tbody>\n",
       "</table>\n",
       "</div>"
      ],
      "text/plain": [
       "   credit_score geography  gender  age  tenure    balance  num_of_products  \\\n",
       "0           619    France  Female   42     2.0       0.00                1   \n",
       "1           608     Spain  Female   41     1.0   83807.86                1   \n",
       "2           502    France  Female   42     8.0  159660.80                3   \n",
       "3           699    France  Female   39     1.0       0.00                2   \n",
       "4           850     Spain  Female   43     2.0  125510.82                1   \n",
       "\n",
       "   has_cr_card  is_active_member  estimated_salary  exited  \n",
       "0            1                 1         101348.88       1  \n",
       "1            0                 1         112542.58       0  \n",
       "2            1                 0         113931.57       1  \n",
       "3            0                 0          93826.63       0  \n",
       "4            1                 1          79084.10       0  "
      ]
     },
     "execution_count": 6,
     "metadata": {},
     "output_type": "execute_result"
    }
   ],
   "source": [
    "# Уберем ненужные столбцы:\n",
    "clients_data = clients_data.drop(['row_number', 'custumer_id', 'surname'], axis=1)\n",
    "clients_data.head()"
   ]
  },
  {
   "cell_type": "code",
   "execution_count": 7,
   "metadata": {
    "scrolled": false
   },
   "outputs": [
    {
     "data": {
      "text/html": [
       "<div>\n",
       "<style scoped>\n",
       "    .dataframe tbody tr th:only-of-type {\n",
       "        vertical-align: middle;\n",
       "    }\n",
       "\n",
       "    .dataframe tbody tr th {\n",
       "        vertical-align: top;\n",
       "    }\n",
       "\n",
       "    .dataframe thead th {\n",
       "        text-align: right;\n",
       "    }\n",
       "</style>\n",
       "<table border=\"1\" class=\"dataframe\">\n",
       "  <thead>\n",
       "    <tr style=\"text-align: right;\">\n",
       "      <th></th>\n",
       "      <th>credit_score</th>\n",
       "      <th>age</th>\n",
       "      <th>tenure</th>\n",
       "      <th>balance</th>\n",
       "      <th>num_of_products</th>\n",
       "      <th>has_cr_card</th>\n",
       "      <th>is_active_member</th>\n",
       "      <th>estimated_salary</th>\n",
       "      <th>exited</th>\n",
       "      <th>geography_Germany</th>\n",
       "      <th>geography_Spain</th>\n",
       "      <th>gender_Male</th>\n",
       "    </tr>\n",
       "  </thead>\n",
       "  <tbody>\n",
       "    <tr>\n",
       "      <td>0</td>\n",
       "      <td>619</td>\n",
       "      <td>42</td>\n",
       "      <td>2.0</td>\n",
       "      <td>0.00</td>\n",
       "      <td>1</td>\n",
       "      <td>1</td>\n",
       "      <td>1</td>\n",
       "      <td>101348.88</td>\n",
       "      <td>1</td>\n",
       "      <td>0</td>\n",
       "      <td>0</td>\n",
       "      <td>0</td>\n",
       "    </tr>\n",
       "    <tr>\n",
       "      <td>1</td>\n",
       "      <td>608</td>\n",
       "      <td>41</td>\n",
       "      <td>1.0</td>\n",
       "      <td>83807.86</td>\n",
       "      <td>1</td>\n",
       "      <td>0</td>\n",
       "      <td>1</td>\n",
       "      <td>112542.58</td>\n",
       "      <td>0</td>\n",
       "      <td>0</td>\n",
       "      <td>1</td>\n",
       "      <td>0</td>\n",
       "    </tr>\n",
       "    <tr>\n",
       "      <td>2</td>\n",
       "      <td>502</td>\n",
       "      <td>42</td>\n",
       "      <td>8.0</td>\n",
       "      <td>159660.80</td>\n",
       "      <td>3</td>\n",
       "      <td>1</td>\n",
       "      <td>0</td>\n",
       "      <td>113931.57</td>\n",
       "      <td>1</td>\n",
       "      <td>0</td>\n",
       "      <td>0</td>\n",
       "      <td>0</td>\n",
       "    </tr>\n",
       "    <tr>\n",
       "      <td>3</td>\n",
       "      <td>699</td>\n",
       "      <td>39</td>\n",
       "      <td>1.0</td>\n",
       "      <td>0.00</td>\n",
       "      <td>2</td>\n",
       "      <td>0</td>\n",
       "      <td>0</td>\n",
       "      <td>93826.63</td>\n",
       "      <td>0</td>\n",
       "      <td>0</td>\n",
       "      <td>0</td>\n",
       "      <td>0</td>\n",
       "    </tr>\n",
       "    <tr>\n",
       "      <td>4</td>\n",
       "      <td>850</td>\n",
       "      <td>43</td>\n",
       "      <td>2.0</td>\n",
       "      <td>125510.82</td>\n",
       "      <td>1</td>\n",
       "      <td>1</td>\n",
       "      <td>1</td>\n",
       "      <td>79084.10</td>\n",
       "      <td>0</td>\n",
       "      <td>0</td>\n",
       "      <td>1</td>\n",
       "      <td>0</td>\n",
       "    </tr>\n",
       "  </tbody>\n",
       "</table>\n",
       "</div>"
      ],
      "text/plain": [
       "   credit_score  age  tenure    balance  num_of_products  has_cr_card  \\\n",
       "0           619   42     2.0       0.00                1            1   \n",
       "1           608   41     1.0   83807.86                1            0   \n",
       "2           502   42     8.0  159660.80                3            1   \n",
       "3           699   39     1.0       0.00                2            0   \n",
       "4           850   43     2.0  125510.82                1            1   \n",
       "\n",
       "   is_active_member  estimated_salary  exited  geography_Germany  \\\n",
       "0                 1         101348.88       1                  0   \n",
       "1                 1         112542.58       0                  0   \n",
       "2                 0         113931.57       1                  0   \n",
       "3                 0          93826.63       0                  0   \n",
       "4                 1          79084.10       0                  0   \n",
       "\n",
       "   geography_Spain  gender_Male  \n",
       "0                0            0  \n",
       "1                1            0  \n",
       "2                0            0  \n",
       "3                0            0  \n",
       "4                1            0  "
      ]
     },
     "metadata": {},
     "output_type": "display_data"
    }
   ],
   "source": [
    "# Кодирование OHE:\n",
    "clients_data_ohe = pd.get_dummies(clients_data, drop_first=True)\n",
    "display(clients_data_ohe.head())"
   ]
  },
  {
   "cell_type": "markdown",
   "metadata": {},
   "source": [
    "Из-за разного масштаба признаков требуется провести их стандартизацию. \n",
    "Для начала выделим обучающую, валидационную и тестовую выборки, используя метод train_test_split, и сохраним их в соответствующих переменных. Поскольку у нас нет спрятанной тестовой выборки, используем для разделения соотношение 60/20/20:"
   ]
  },
  {
   "cell_type": "code",
   "execution_count": 8,
   "metadata": {},
   "outputs": [
    {
     "name": "stdout",
     "output_type": "stream",
     "text": [
      "(6000, 12) (2000, 12) (2000, 12)\n"
     ]
    }
   ],
   "source": [
    "clients_data_train, clients_data_other = train_test_split(clients_data_ohe, test_size=0.4, random_state=42)\n",
    "clients_data_valid, clients_data_test = train_test_split(clients_data_other, test_size=0.5, random_state=42)\n",
    "print(clients_data_train.shape, clients_data_valid.shape, clients_data_test.shape)"
   ]
  },
  {
   "cell_type": "markdown",
   "metadata": {},
   "source": [
    "Для каждой выборки выделим набор переменных и целевые признаки:"
   ]
  },
  {
   "cell_type": "code",
   "execution_count": 9,
   "metadata": {},
   "outputs": [],
   "source": [
    "features_train = clients_data_train.drop('exited', axis=1)\n",
    "target_train = clients_data_train['exited']\n",
    "features_valid = clients_data_valid.drop('exited', axis=1)\n",
    "target_valid = clients_data_valid['exited']\n",
    "features_test = clients_data_test.drop('exited', axis=1)\n",
    "target_test = clients_data_test['exited'].reset_index(drop=True)"
   ]
  },
  {
   "cell_type": "markdown",
   "metadata": {},
   "source": [
    "Проведем стандартизацию признаков:"
   ]
  },
  {
   "cell_type": "code",
   "execution_count": 10,
   "metadata": {},
   "outputs": [],
   "source": [
    "numeric_columns = ['credit_score', 'age', 'tenure', 'balance', 'num_of_products', 'estimated_salary']\n",
    "scaler = StandardScaler()\n",
    "scaler.fit(features_train[numeric_columns])\n",
    "\n",
    "\n",
    "features_train[numeric_columns] = scaler.transform(features_train[numeric_columns])\n",
    "features_valid[numeric_columns] = scaler.transform(features_valid[numeric_columns])\n",
    "features_test[numeric_columns] = scaler.transform(features_test[numeric_columns])"
   ]
  },
  {
   "cell_type": "markdown",
   "metadata": {},
   "source": [
    "**Вывод:**\n",
    "\n",
    "Мы подготовили данные для обучения модели: провели кодирование, масштабирование, разделение выборок."
   ]
  },
  {
   "cell_type": "markdown",
   "metadata": {},
   "source": [
    "## Исследование моделей"
   ]
  },
  {
   "cell_type": "markdown",
   "metadata": {},
   "source": [
    "Исследуем адекватность модели. Для проведения соответствующей оценки проверим, как часто в целевом признаке встречается класс «1» или «0» методом 'value_counts()':"
   ]
  },
  {
   "cell_type": "code",
   "execution_count": 11,
   "metadata": {},
   "outputs": [
    {
     "name": "stdout",
     "output_type": "stream",
     "text": [
      "Частоты классов целевого признака по датасету:\n",
      "0    0.7963\n",
      "1    0.2037\n",
      "Name: exited, dtype: float64\n"
     ]
    }
   ],
   "source": [
    "class_frequrncy = clients_data_ohe['exited'].value_counts(normalize=True)\n",
    "print('Частоты классов целевого признака по датасету:')\n",
    "print(class_frequrncy)"
   ]
  },
  {
   "cell_type": "markdown",
   "metadata": {},
   "source": [
    "На каждый положительный ответ приходится примерно 4 отрицательных. Судя по всему, мы столкнулись с дисбалансом классов.\n",
    "\n",
    "Обучим модели Дерева решений, Случайного леса и Логистической регрессии, и получим результаты предсказания на валидационной и тестовой выборках. \n",
    "После этого проанализируем частоты классов в результатах предсказаний по каждой из моделей и просчитаем метрики качества (accuracy, recall, precosion, f1, AUC-ROC):"
   ]
  },
  {
   "cell_type": "markdown",
   "metadata": {},
   "source": [
    "### *дерево решений*"
   ]
  },
  {
   "cell_type": "code",
   "execution_count": 12,
   "metadata": {},
   "outputs": [],
   "source": [
    "# Уберем предупреждения, которые могут выйти в дальнейшем:\n",
    "pd.set_option('mode.chained_assignment', None)\n",
    "warnings.filterwarnings(\"ignore\")\n",
    "\n",
    "\n",
    "# Создадим фукнкцию для дерева решений:\n",
    "def decision_tree_model(r_state, depth, cl_weight, features, target):\n",
    "    model = DecisionTreeClassifier(random_state=r_state, max_depth = depth, class_weight=cl_weight)\n",
    "    model.fit(features, target)\n",
    "    return model"
   ]
  },
  {
   "cell_type": "code",
   "execution_count": 13,
   "metadata": {},
   "outputs": [
    {
     "name": "stdout",
     "output_type": "stream",
     "text": [
      "Лучшая модель:\n",
      "DecisionTreeClassifier(class_weight=None, criterion='gini', max_depth=6,\n",
      "                       max_features=None, max_leaf_nodes=None,\n",
      "                       min_impurity_decrease=0.0, min_impurity_split=None,\n",
      "                       min_samples_leaf=1, min_samples_split=2,\n",
      "                       min_weight_fraction_leaf=0.0, presort=False,\n",
      "                       random_state=42, splitter='best')\n",
      "Лучшее значение f1 выборки: 0.527687\n"
     ]
    }
   ],
   "source": [
    "# Определим наилучшие гиперпараметры для модели:\n",
    "best_model = None\n",
    "best_result = 0\n",
    "best_depth = 0\n",
    "for depth in range(1, 11):\n",
    "#for depth in range(1,101): # на глубине в 100 результат не меняется - лучший результат при значении,  равном 6\n",
    "    model = decision_tree_model(42, depth, None, features_train, target_train)\n",
    "    predictions_valid = model.predict(features_valid)\n",
    "    result = f1_score(target_valid, predictions_valid)\n",
    "    if result > best_result:\n",
    "        best_depth = depth\n",
    "        best_model = model\n",
    "        best_result = result\n",
    "\n",
    "print('Лучшая модель:')\n",
    "print(best_model)\n",
    "print('Лучшее значение f1 выборки: {:.6f}'.format(best_result))"
   ]
  },
  {
   "cell_type": "markdown",
   "metadata": {},
   "source": [
    "Построим модель с найденными оптимальными параметрами и предскажем результаты на тестовой выборке. Выведем метрики качества для полученной модели на валидационной и тестовой выборках:"
   ]
  },
  {
   "cell_type": "code",
   "execution_count": 14,
   "metadata": {},
   "outputs": [],
   "source": [
    "# Создадим функцию для предсказаний и вывода метрик:\n",
    "def metrics_score(name, features, target):\n",
    "    predictions = model.predict(features)\n",
    "    probabilities = model.predict_proba(features)\n",
    "    probabilities_one = probabilities[:, 1]\n",
    "    class_frequency = pd.Series(predictions).value_counts(normalize=True)\n",
    "    print(name)\n",
    "    print('Частоты классов в предсказаниях')\n",
    "    print(class_frequency)\n",
    "    print('Матрица ошибок')\n",
    "    print(confusion_matrix(target, predictions))\n",
    "    print('Accuracy: {:.6f}'.format(accuracy_score(target, predictions)))\n",
    "    print('Recall: {:.6f}'.format(recall_score(target, predictions)))\n",
    "    print('Precision: {:.6f}'.format(precision_score(target, predictions)))\n",
    "    print('F1: {:.6f}'.format(f1_score(target, predictions)))\n",
    "    print('AUC-ROC: {:.6f}'.format(roc_auc_score(target, probabilities_one)))\n",
    "    print()\n",
    "    return pd.Series([name, \n",
    "                      accuracy_score(target, predictions), \n",
    "                      recall_score(target, predictions),\n",
    "                      precision_score(target, predictions),\n",
    "                      f1_score(target, predictions),\n",
    "                      roc_auc_score(target, probabilities_one)])"
   ]
  },
  {
   "cell_type": "code",
   "execution_count": 15,
   "metadata": {},
   "outputs": [
    {
     "name": "stdout",
     "output_type": "stream",
     "text": [
      "valid\n",
      "Частоты классов в предсказаниях\n",
      "0    0.883\n",
      "1    0.117\n",
      "dtype: float64\n",
      "Матрица ошибок\n",
      "[[1548   72]\n",
      " [ 218  162]]\n",
      "Accuracy: 0.855000\n",
      "Recall: 0.426316\n",
      "Precision: 0.692308\n",
      "F1: 0.527687\n",
      "AUC-ROC: 0.807398\n",
      "\n",
      "test\n",
      "Частоты классов в предсказаниях\n",
      "0    0.864\n",
      "1    0.136\n",
      "dtype: float64\n",
      "Матрица ошибок\n",
      "[[1504   66]\n",
      " [ 224  206]]\n",
      "Accuracy: 0.855000\n",
      "Recall: 0.479070\n",
      "Precision: 0.757353\n",
      "F1: 0.586895\n",
      "AUC-ROC: 0.840934\n",
      "\n"
     ]
    }
   ],
   "source": [
    "model = decision_tree_model(42, 6, None, features_train, target_train)\n",
    "# Сохраним метрики в переменной: dt - decision_tree, n0 - normal_selection, class_weight=None\n",
    "dt_n0_valid = metrics_score('valid', features_valid, target_valid) \n",
    "dt_n0_test = metrics_score('test', features_test, target_test)"
   ]
  },
  {
   "cell_type": "markdown",
   "metadata": {},
   "source": [
    "Снова видим дисбаланс классов, причем соотношение сдвинулось в сторону увеличения числа отрицательных ответов.  \n",
    "Полученное значение показателя F1 валидационной выборки не удовлетворяет требуемому граничному значению 0.59."
   ]
  },
  {
   "cell_type": "markdown",
   "metadata": {},
   "source": [
    "### *случайный лес*"
   ]
  },
  {
   "cell_type": "code",
   "execution_count": 16,
   "metadata": {},
   "outputs": [],
   "source": [
    "# Создадим фукнкцию для случайного леса:\n",
    "def random_forest_model(r_state, depth, est, cl_weight, features, target):\n",
    "    model = RandomForestClassifier(random_state=r_state, max_depth = depth, n_estimators = est, class_weight=cl_weight)\n",
    "    model.fit(features, target)\n",
    "    return model"
   ]
  },
  {
   "cell_type": "code",
   "execution_count": 17,
   "metadata": {},
   "outputs": [
    {
     "name": "stderr",
     "output_type": "stream",
     "text": [
      "100%|██████████| 100/100 [13:43<00:00,  8.23s/it]"
     ]
    },
    {
     "name": "stdout",
     "output_type": "stream",
     "text": [
      "Лучшая модель:\n",
      "RandomForestClassifier(bootstrap=True, class_weight=None, criterion='gini',\n",
      "                       max_depth=12, max_features='auto', max_leaf_nodes=None,\n",
      "                       min_impurity_decrease=0.0, min_impurity_split=None,\n",
      "                       min_samples_leaf=1, min_samples_split=2,\n",
      "                       min_weight_fraction_leaf=0.0, n_estimators=78,\n",
      "                       n_jobs=None, oob_score=False, random_state=42, verbose=0,\n",
      "                       warm_start=False)\n",
      "Лучшее значение f1 валидационной выборки: 0.576728\n"
     ]
    },
    {
     "name": "stderr",
     "output_type": "stream",
     "text": [
      "\n"
     ]
    }
   ],
   "source": [
    "# Случайный лес\n",
    "best_model = None\n",
    "best_result = 0\n",
    "best_depth = 0\n",
    "best_est = 0\n",
    "for est in tqdm(range(1,101)): \n",
    "    for depth in range(1,21):\n",
    "        model = random_forest_model(42, depth, est, None, features_train, target_train)\n",
    "        predictions_valid = model.predict(features_valid)\n",
    "        result = f1_score(target_valid, predictions_valid)\n",
    "        if result > best_result:\n",
    "            best_model = model\n",
    "            best_result = result\n",
    "            best_depth = depth\n",
    "            best_est = est\n",
    "\n",
    "print('Лучшая модель:')\n",
    "print(best_model)\n",
    "print('Лучшее значение f1 валидационной выборки: {:.6f}'.format(best_result))"
   ]
  },
  {
   "cell_type": "markdown",
   "metadata": {},
   "source": [
    "Построим модель с найденными оптимальными параметрами и предскажем результаты на тестовой выборке:"
   ]
  },
  {
   "cell_type": "code",
   "execution_count": 18,
   "metadata": {},
   "outputs": [
    {
     "name": "stdout",
     "output_type": "stream",
     "text": [
      "valid\n",
      "Частоты классов в предсказаниях\n",
      "0    0.8935\n",
      "1    0.1065\n",
      "dtype: float64\n",
      "Матрица ошибок\n",
      "[[1578   42]\n",
      " [ 209  171]]\n",
      "Accuracy: 0.874500\n",
      "Recall: 0.450000\n",
      "Precision: 0.802817\n",
      "F1: 0.576728\n",
      "AUC-ROC: 0.839198\n",
      "\n",
      "test\n",
      "Частоты классов в предсказаниях\n",
      "0    0.875\n",
      "1    0.125\n",
      "dtype: float64\n",
      "Матрица ошибок\n",
      "[[1522   48]\n",
      " [ 228  202]]\n",
      "Accuracy: 0.862000\n",
      "Recall: 0.469767\n",
      "Precision: 0.808000\n",
      "F1: 0.594118\n",
      "AUC-ROC: 0.862808\n",
      "\n"
     ]
    }
   ],
   "source": [
    "model = random_forest_model(42, 12, 78, None, features_train, target_train)\n",
    "rf_n0_valid = metrics_score('valid', features_valid, target_valid) \n",
    "rf_n0_test = metrics_score('test', features_test, target_test)"
   ]
  },
  {
   "cell_type": "markdown",
   "metadata": {},
   "source": [
    "Тот же дисбаланс классов.\n",
    "\n",
    "Модель дала гораздо лучшие предсказания, чем предыдущая. Метрики F1 для тестовой выборки превышают требуемое значение 0.59. Посмотрим позднее, что случится, когда мы избавимся от дисбаланса."
   ]
  },
  {
   "cell_type": "markdown",
   "metadata": {},
   "source": [
    "### *логистическая регрессия*"
   ]
  },
  {
   "cell_type": "code",
   "execution_count": 19,
   "metadata": {},
   "outputs": [
    {
     "name": "stdout",
     "output_type": "stream",
     "text": [
      "valid\n",
      "Частоты классов в предсказаниях\n",
      "0    0.9305\n",
      "1    0.0695\n",
      "dtype: float64\n",
      "Матрица ошибок\n",
      "[[1558   62]\n",
      " [ 303   77]]\n",
      "Accuracy: 0.817500\n",
      "Recall: 0.202632\n",
      "Precision: 0.553957\n",
      "F1: 0.296724\n",
      "AUC-ROC: 0.753265\n",
      "\n",
      "test\n",
      "Частоты классов в предсказаниях\n",
      "0    0.9195\n",
      "1    0.0805\n",
      "dtype: float64\n",
      "Матрица ошибок\n",
      "[[1503   67]\n",
      " [ 336   94]]\n",
      "Accuracy: 0.798500\n",
      "Recall: 0.218605\n",
      "Precision: 0.583851\n",
      "F1: 0.318105\n",
      "AUC-ROC: 0.778840\n",
      "\n"
     ]
    }
   ],
   "source": [
    "# Логистическая регрессия\n",
    "model = LogisticRegression(random_state=42)\n",
    "model.fit(features_train, target_train)\n",
    "\n",
    "lr_n0_valid = metrics_score('valid', features_valid, target_valid) \n",
    "lr_n0_test = metrics_score('test', features_test, target_test)"
   ]
  },
  {
   "cell_type": "markdown",
   "metadata": {},
   "source": [
    "Метрики модели логистической регрессии показывают наихудшие результаты."
   ]
  },
  {
   "cell_type": "markdown",
   "metadata": {},
   "source": [
    "**Вывод:**   \n",
    "\n",
    "Целевой признак содержит дисбаланс классов, от которого следует избавиться. Мы видим, что наилучшие результаты показывает модель случайного леса."
   ]
  },
  {
   "cell_type": "markdown",
   "metadata": {},
   "source": [
    "# 3. Борьба с дисбалансом и тестирование моделей"
   ]
  },
  {
   "cell_type": "markdown",
   "metadata": {},
   "source": [
    "Мы выявили, что в наших моделях присутствует дисбаланс классов. Для того, чтобы избавиться от него попробуем воспользоваться увеличением выборки, уменьшением выборки, а также установим для моделей гиперпараметр `class_weight='balanced'`."
   ]
  },
  {
   "cell_type": "code",
   "execution_count": 20,
   "metadata": {},
   "outputs": [],
   "source": [
    "# Составим функцию для увеличения выборки:\n",
    "def upsample(features, target, repeat):\n",
    "    # Разделим обучающую выборку на отрицательные и положительные объекты:\n",
    "    features_zeros = features[target == 0]\n",
    "    features_ones = features[target == 1]\n",
    "    target_zeros = target[target == 0]\n",
    "    target_ones = target[target == 1]\n",
    "    features_upsampled = pd.concat([features_zeros] + [features_ones] * repeat)\n",
    "    target_upsampled = pd.concat([target_zeros] + [target_ones] * repeat)\n",
    "    # Перемешаем данные\n",
    "    features_upsampled, target_upsampled = shuffle(features_upsampled, target_upsampled, random_state=42)\n",
    "    return features_upsampled, target_upsampled"
   ]
  },
  {
   "cell_type": "code",
   "execution_count": 21,
   "metadata": {},
   "outputs": [],
   "source": [
    "# Составим функцию для уменьшения выборки:\n",
    "def downsample(features, target, fraction):\n",
    "    features_zeros = features[target == 0]\n",
    "    features_ones = features[target == 1]\n",
    "    target_zeros = target[target == 0]\n",
    "    target_ones = target[target == 1]\n",
    "    features_downsampled = pd.concat(\n",
    "        [features_zeros.sample(frac=fraction, random_state=42)] + [features_ones])\n",
    "    target_downsampled = pd.concat(\n",
    "        [target_zeros.sample(frac=fraction, random_state=42)] + [target_ones])\n",
    "    # Перемешаем данные:\n",
    "    features_downsampled, target_downsampled = shuffle(\n",
    "        features_downsampled, target_downsampled, random_state=42)\n",
    "    return features_downsampled, target_downsampled"
   ]
  },
  {
   "cell_type": "code",
   "execution_count": 22,
   "metadata": {},
   "outputs": [
    {
     "name": "stdout",
     "output_type": "stream",
     "text": [
      "(9681, 11) (9681,)\n",
      "(2420, 11) (2420,)\n",
      "(8000, 11) (8000,)\n",
      "(11681, 11) (11681,)\n",
      "(4420, 11) (4420,)\n"
     ]
    }
   ],
   "source": [
    "# Поскольку отношение количества положительных классов к отрицательным примерно составляло 1:4, домножим на 4:\n",
    "features_upsampled, target_upsampled = upsample(features_train, target_train, 4)\n",
    "print(features_upsampled.shape, target_upsampled.shape)\n",
    "# Аналогично для уменьшения выборки разделим на 1/4:\n",
    "features_downsampled, target_downsampled = downsample(features_train, target_train, 0.25)\n",
    "print(features_downsampled.shape, target_downsampled.shape)\n",
    "# Создадим выборки для тестирования учшей модели, объединив обучающую и валидационную\n",
    "# в целях возможного улучшения моделей\n",
    "features_train_concated = pd.concat([features_train, features_valid])\n",
    "target_train_concated = pd.concat([target_train, target_valid])\n",
    "print(features_train_concated.shape, target_train_concated.shape)\n",
    "\n",
    "features_upsampled_concated = pd.concat([features_upsampled, features_valid])\n",
    "target_upsampled_concated = pd.concat([target_upsampled, target_valid])\n",
    "print(features_upsampled_concated.shape, target_upsampled_concated.shape)\n",
    "\n",
    "features_downsampled_concated = pd.concat([features_downsampled, features_valid])\n",
    "target_downsampled_concated = pd.concat([target_downsampled, target_valid])\n",
    "print(features_downsampled_concated.shape, target_downsampled_concated.shape)"
   ]
  },
  {
   "cell_type": "markdown",
   "metadata": {},
   "source": [
    "Снова проверим модели, используя для обучения полученные выборки."
   ]
  },
  {
   "cell_type": "markdown",
   "metadata": {},
   "source": [
    "### *cбалансированная модель дерева решений*"
   ]
  },
  {
   "cell_type": "markdown",
   "metadata": {},
   "source": [
    "Обучим модели дерева решений, используя обычную, увеличенную и уменьшенную обучающие выборки, а также проверим метрики при значении гиперпараметра `class_weight='balanced'`."
   ]
  },
  {
   "cell_type": "code",
   "execution_count": 23,
   "metadata": {},
   "outputs": [
    {
     "name": "stdout",
     "output_type": "stream",
     "text": [
      "Глубина: 7\n",
      "valid\n",
      "Частоты классов в предсказаниях\n",
      "0    0.7105\n",
      "1    0.2895\n",
      "dtype: float64\n",
      "Матрица ошибок\n",
      "[[1297  323]\n",
      " [ 124  256]]\n",
      "Accuracy: 0.776500\n",
      "Recall: 0.673684\n",
      "Precision: 0.442142\n",
      "F1: 0.533889\n",
      "AUC-ROC: 0.804666\n",
      "\n",
      "test\n",
      "Частоты классов в предсказаниях\n",
      "0    0.6965\n",
      "1    0.3035\n",
      "dtype: float64\n",
      "Матрица ошибок\n",
      "[[1277  293]\n",
      " [ 116  314]]\n",
      "Accuracy: 0.795500\n",
      "Recall: 0.730233\n",
      "Precision: 0.517298\n",
      "F1: 0.605593\n",
      "AUC-ROC: 0.822060\n",
      "\n",
      "test2\n",
      "Частоты классов в предсказаниях\n",
      "0    0.7545\n",
      "1    0.2455\n",
      "dtype: float64\n",
      "Матрица ошибок\n",
      "[[1354  216]\n",
      " [ 155  275]]\n",
      "Accuracy: 0.814500\n",
      "Recall: 0.639535\n",
      "Precision: 0.560081\n",
      "F1: 0.597177\n",
      "AUC-ROC: 0.822369\n",
      "\n"
     ]
    }
   ],
   "source": [
    "# Увеличенная выборка + class_weight=None\n",
    "best_result = 0\n",
    "best_depth = 0\n",
    "for depth in range(1, 11):\n",
    "#for depth in range(1,101): # на глубине в 100 результат не меняется\n",
    "    model = decision_tree_model(42, depth, None, features_upsampled, target_upsampled)\n",
    "    predictions_valid = model.predict(features_valid)\n",
    "    result = f1_score(target_valid, predictions_valid)\n",
    "    if result > best_result:\n",
    "        best_depth = depth\n",
    "        best_model = model\n",
    "        best_result = result\n",
    "\n",
    "model = decision_tree_model(42, best_depth, None, features_upsampled, target_upsampled)\n",
    "print('Глубина:', best_depth)\n",
    "dt_u0_valid = metrics_score('valid', features_valid, target_valid) \n",
    "dt_u0_test = metrics_score('test', features_test, target_test)\n",
    "\n",
    "model = decision_tree_model(42, best_depth, None, features_upsampled_concated, target_upsampled_concated)\n",
    "dt_u0_test2 = metrics_score('test2', features_test, target_test)"
   ]
  },
  {
   "cell_type": "code",
   "execution_count": 24,
   "metadata": {},
   "outputs": [
    {
     "name": "stdout",
     "output_type": "stream",
     "text": [
      "Глубина: 3\n",
      "valid\n",
      "Частоты классов в предсказаниях\n",
      "0    0.751\n",
      "1    0.249\n",
      "dtype: float64\n",
      "Матрица ошибок\n",
      "[[1350  270]\n",
      " [ 152  228]]\n",
      "Accuracy: 0.789000\n",
      "Recall: 0.600000\n",
      "Precision: 0.457831\n",
      "F1: 0.519362\n",
      "AUC-ROC: 0.773580\n",
      "\n",
      "test\n",
      "Частоты классов в предсказаниях\n",
      "0    0.7405\n",
      "1    0.2595\n",
      "dtype: float64\n",
      "Матрица ошибок\n",
      "[[1329  241]\n",
      " [ 152  278]]\n",
      "Accuracy: 0.803500\n",
      "Recall: 0.646512\n",
      "Precision: 0.535645\n",
      "F1: 0.585880\n",
      "AUC-ROC: 0.816377\n",
      "\n",
      "test2\n",
      "Частоты классов в предсказаниях\n",
      "0    0.825\n",
      "1    0.175\n",
      "dtype: float64\n",
      "Матрица ошибок\n",
      "[[1439  131]\n",
      " [ 211  219]]\n",
      "Accuracy: 0.829000\n",
      "Recall: 0.509302\n",
      "Precision: 0.625714\n",
      "F1: 0.561538\n",
      "AUC-ROC: 0.810601\n",
      "\n"
     ]
    }
   ],
   "source": [
    "# Уменьшенная выборка + class_weight=None\n",
    "best_result = 0\n",
    "best_depth = 0\n",
    "for depth in range(1, 11):\n",
    "#for depth in range(1,101): # на глубине в 100 результат не меняется\n",
    "    model = decision_tree_model(42, depth, None, features_downsampled, target_downsampled)\n",
    "    predictions_valid = model.predict(features_valid)\n",
    "    result = f1_score(target_valid, predictions_valid)\n",
    "    if result > best_result:\n",
    "        best_depth = depth\n",
    "        best_model = model\n",
    "        best_result = result\n",
    "\n",
    "model = decision_tree_model(42, best_depth, None, features_downsampled, target_downsampled)\n",
    "print('Глубина:', best_depth)\n",
    "dt_d0_valid = metrics_score('valid', features_valid, target_valid) \n",
    "dt_d0_test = metrics_score('test', features_test, target_test)\n",
    "\n",
    "model = decision_tree_model(42, best_depth, None, features_downsampled_concated, target_downsampled_concated)\n",
    "dt_d0_test2 = metrics_score('test2', features_test, target_test)"
   ]
  },
  {
   "cell_type": "code",
   "execution_count": 25,
   "metadata": {},
   "outputs": [
    {
     "name": "stdout",
     "output_type": "stream",
     "text": [
      "Глубина: 7\n",
      "valid\n",
      "Частоты классов в предсказаниях\n",
      "0    0.712\n",
      "1    0.288\n",
      "dtype: float64\n",
      "Матрица ошибок\n",
      "[[1299  321]\n",
      " [ 125  255]]\n",
      "Accuracy: 0.777000\n",
      "Recall: 0.671053\n",
      "Precision: 0.442708\n",
      "F1: 0.533473\n",
      "AUC-ROC: 0.803936\n",
      "\n",
      "test\n",
      "Частоты классов в предсказаниях\n",
      "0    0.699\n",
      "1    0.301\n",
      "dtype: float64\n",
      "Матрица ошибок\n",
      "[[1282  288]\n",
      " [ 116  314]]\n",
      "Accuracy: 0.798000\n",
      "Recall: 0.730233\n",
      "Precision: 0.521595\n",
      "F1: 0.608527\n",
      "AUC-ROC: 0.822609\n",
      "\n",
      "test2\n",
      "Частоты классов в предсказаниях\n",
      "0    0.6615\n",
      "1    0.3385\n",
      "dtype: float64\n",
      "Матрица ошибок\n",
      "[[1221  349]\n",
      " [ 102  328]]\n",
      "Accuracy: 0.774500\n",
      "Recall: 0.762791\n",
      "Precision: 0.484490\n",
      "F1: 0.592593\n",
      "AUC-ROC: 0.842438\n",
      "\n"
     ]
    }
   ],
   "source": [
    "# Обычная выборка + class_weight='balanced'\n",
    "best_model = None\n",
    "best_result = 0\n",
    "best_depth = 0\n",
    "for depth in range(1, 11):\n",
    "#for depth in range(1,101): # на глубине в 100 результат не меняется\n",
    "    model = decision_tree_model(42, depth, 'balanced', features_train, target_train)\n",
    "    predictions_valid = model.predict(features_valid)\n",
    "    result = f1_score(target_valid, predictions_valid)\n",
    "    if result > best_result:\n",
    "        best_depth = depth\n",
    "        best_model = model\n",
    "        best_result = result\n",
    "\n",
    "model = decision_tree_model(42, best_depth, 'balanced', features_train, target_train)\n",
    "print('Глубина:', best_depth)\n",
    "dt_n1_valid = metrics_score('valid', features_valid, target_valid) \n",
    "dt_n1_test = metrics_score('test', features_test, target_test)\n",
    "\n",
    "model = decision_tree_model(42, best_depth, 'balanced', features_train_concated, target_train_concated)\n",
    "dt_n1_test2 = metrics_score('test2', features_test, target_test)"
   ]
  },
  {
   "cell_type": "markdown",
   "metadata": {},
   "source": [
    "### *cбалансированная модель случайного леса*"
   ]
  },
  {
   "cell_type": "markdown",
   "metadata": {},
   "source": [
    "Проведем аналогичные манипуляции с моделью случайного леса:"
   ]
  },
  {
   "cell_type": "code",
   "execution_count": 26,
   "metadata": {},
   "outputs": [
    {
     "name": "stderr",
     "output_type": "stream",
     "text": [
      "100%|██████████| 100/100 [20:08<00:00, 12.09s/it]\n"
     ]
    },
    {
     "name": "stdout",
     "output_type": "stream",
     "text": [
      "Max_depth: 12\n",
      "N_estimators: 21\n",
      "valid\n",
      "Частоты классов в предсказаниях\n",
      "0    0.7815\n",
      "1    0.2185\n",
      "dtype: float64\n",
      "Матрица ошибок\n",
      "[[1427  193]\n",
      " [ 136  244]]\n",
      "Accuracy: 0.835500\n",
      "Recall: 0.642105\n",
      "Precision: 0.558352\n",
      "F1: 0.597307\n",
      "AUC-ROC: 0.835677\n",
      "\n",
      "test\n",
      "Частоты классов в предсказаниях\n",
      "0    0.7675\n",
      "1    0.2325\n",
      "dtype: float64\n",
      "Матрица ошибок\n",
      "[[1383  187]\n",
      " [ 152  278]]\n",
      "Accuracy: 0.830500\n",
      "Recall: 0.646512\n",
      "Precision: 0.597849\n",
      "F1: 0.621229\n",
      "AUC-ROC: 0.855264\n",
      "\n",
      "test2\n",
      "Частоты классов в предсказаниях\n",
      "0    0.795\n",
      "1    0.205\n",
      "dtype: float64\n",
      "Матрица ошибок\n",
      "[[1425  145]\n",
      " [ 165  265]]\n",
      "Accuracy: 0.845000\n",
      "Recall: 0.616279\n",
      "Precision: 0.646341\n",
      "F1: 0.630952\n",
      "AUC-ROC: 0.859016\n",
      "\n"
     ]
    }
   ],
   "source": [
    "# Увеличенная выборка + class_weight=None\n",
    "best_model = None\n",
    "best_result = 0\n",
    "best_depth = 0\n",
    "best_est = 0\n",
    "for est in tqdm(range(1,101)): \n",
    "    for depth in range(1,21):\n",
    "        model = random_forest_model(42, depth, est, None, features_upsampled, target_upsampled)\n",
    "        predictions_valid = model.predict(features_valid)\n",
    "        result = f1_score(target_valid, predictions_valid)\n",
    "        if result > best_result:\n",
    "            best_model = model\n",
    "            best_result = result\n",
    "            best_depth = depth\n",
    "            best_est = est\n",
    "\n",
    "model = random_forest_model(42, best_depth, best_est, None, features_upsampled, target_upsampled)\n",
    "print('Max_depth:', best_depth)\n",
    "print('N_estimators:', best_est)\n",
    "rf_u0_valid = metrics_score('valid', features_valid, target_valid) \n",
    "rf_u0_test = metrics_score('test', features_test, target_test)\n",
    "\n",
    "model = random_forest_model(42, best_depth, best_est, None, features_upsampled_concated, target_upsampled_concated)\n",
    "rf_u0_test2 = metrics_score('test2', features_test, target_test)"
   ]
  },
  {
   "cell_type": "code",
   "execution_count": 27,
   "metadata": {},
   "outputs": [
    {
     "name": "stderr",
     "output_type": "stream",
     "text": [
      "100%|██████████| 100/100 [07:13<00:00,  4.33s/it]\n"
     ]
    },
    {
     "name": "stdout",
     "output_type": "stream",
     "text": [
      "Max_depth: 6\n",
      "N_estimators: 78\n",
      "valid\n",
      "Частоты классов в предсказаниях\n",
      "0    0.69\n",
      "1    0.31\n",
      "dtype: float64\n",
      "Матрица ошибок\n",
      "[[1281  339]\n",
      " [  99  281]]\n",
      "Accuracy: 0.781000\n",
      "Recall: 0.739474\n",
      "Precision: 0.453226\n",
      "F1: 0.562000\n",
      "AUC-ROC: 0.838484\n",
      "\n",
      "test\n",
      "Частоты классов в предсказаниях\n",
      "0    0.6615\n",
      "1    0.3385\n",
      "dtype: float64\n",
      "Матрица ошибок\n",
      "[[1228  342]\n",
      " [  95  335]]\n",
      "Accuracy: 0.781500\n",
      "Recall: 0.779070\n",
      "Precision: 0.494830\n",
      "F1: 0.605239\n",
      "AUC-ROC: 0.861027\n",
      "\n",
      "test2\n",
      "Частоты классов в предсказаниях\n",
      "0    0.8135\n",
      "1    0.1865\n",
      "dtype: float64\n",
      "Матрица ошибок\n",
      "[[1452  118]\n",
      " [ 175  255]]\n",
      "Accuracy: 0.853500\n",
      "Recall: 0.593023\n",
      "Precision: 0.683646\n",
      "F1: 0.635118\n",
      "AUC-ROC: 0.866248\n",
      "\n"
     ]
    }
   ],
   "source": [
    "# Уменьшенная выборка + class_weight=None\n",
    "best_model = None\n",
    "best_result = 0\n",
    "best_depth = 0\n",
    "best_est = 0\n",
    "for est in tqdm(range(1,101)): \n",
    "    for depth in range(1,21):\n",
    "        model = random_forest_model(42, depth, est, None, features_downsampled, target_downsampled)\n",
    "        predictions_valid = model.predict(features_valid)\n",
    "        result = f1_score(target_valid, predictions_valid)\n",
    "        if result > best_result:\n",
    "            best_model = model\n",
    "            best_result = result\n",
    "            best_depth = depth\n",
    "            best_est = est\n",
    "\n",
    "model = random_forest_model(42, best_depth, best_est, None, features_downsampled, target_downsampled)\n",
    "print('Max_depth:', best_depth)\n",
    "print('N_estimators:', best_est)\n",
    "rf_d0_valid = metrics_score('valid', features_valid, target_valid) \n",
    "rf_d0_test = metrics_score('test', features_test, target_test)\n",
    "\n",
    "model = random_forest_model(42, best_depth, best_est, None, features_downsampled_concated, target_downsampled_concated)\n",
    "rf_d0_test2 = metrics_score('test2', features_test, target_test)"
   ]
  },
  {
   "cell_type": "code",
   "execution_count": 28,
   "metadata": {},
   "outputs": [
    {
     "name": "stderr",
     "output_type": "stream",
     "text": [
      "100%|██████████| 100/100 [13:03<00:00,  7.83s/it]\n"
     ]
    },
    {
     "name": "stdout",
     "output_type": "stream",
     "text": [
      "Max_depth: 11\n",
      "N_estimators: 44\n",
      "valid\n",
      "Частоты классов в предсказаниях\n",
      "0    0.82\n",
      "1    0.18\n",
      "dtype: float64\n",
      "Матрица ошибок\n",
      "[[1480  140]\n",
      " [ 160  220]]\n",
      "Accuracy: 0.850000\n",
      "Recall: 0.578947\n",
      "Precision: 0.611111\n",
      "F1: 0.594595\n",
      "AUC-ROC: 0.839142\n",
      "\n",
      "test\n",
      "Частоты классов в предсказаниях\n",
      "0    0.8065\n",
      "1    0.1935\n",
      "dtype: float64\n",
      "Матрица ошибок\n",
      "[[1439  131]\n",
      " [ 174  256]]\n",
      "Accuracy: 0.847500\n",
      "Recall: 0.595349\n",
      "Precision: 0.661499\n",
      "F1: 0.626683\n",
      "AUC-ROC: 0.860259\n",
      "\n",
      "test2\n",
      "Частоты классов в предсказаниях\n",
      "0    0.798\n",
      "1    0.202\n",
      "dtype: float64\n",
      "Матрица ошибок\n",
      "[[1434  136]\n",
      " [ 162  268]]\n",
      "Accuracy: 0.851000\n",
      "Recall: 0.623256\n",
      "Precision: 0.663366\n",
      "F1: 0.642686\n",
      "AUC-ROC: 0.863868\n",
      "\n"
     ]
    }
   ],
   "source": [
    "# Обычная выборка + class_weight='balanced'\n",
    "best_model = None\n",
    "best_result = 0\n",
    "best_depth = 0\n",
    "best_est = 0\n",
    "for est in tqdm(range(1,101)): \n",
    "    for depth in range(1,21):\n",
    "        model = random_forest_model(42, depth, est, 'balanced', features_train, target_train)\n",
    "        predictions_valid = model.predict(features_valid)\n",
    "        result = f1_score(target_valid, predictions_valid)\n",
    "        if result > best_result:\n",
    "            best_model = model\n",
    "            best_result = result\n",
    "            best_depth = depth\n",
    "            best_est = est\n",
    "\n",
    "model = random_forest_model(42, best_depth, best_est, 'balanced', features_train, target_train)\n",
    "print('Max_depth:', best_depth)\n",
    "print('N_estimators:', best_est)\n",
    "rf_n1_valid = metrics_score('valid', features_valid, target_valid) \n",
    "rf_n1_test = metrics_score('test', features_test, target_test)\n",
    "\n",
    "model = random_forest_model(42, best_depth, best_est, 'balanced', features_train_concated, target_train_concated)\n",
    "rf_n1_test2 = metrics_score('test2', features_test, target_test)"
   ]
  },
  {
   "cell_type": "markdown",
   "metadata": {},
   "source": [
    "### *cбалансированная модель логистической регрессии*"
   ]
  },
  {
   "cell_type": "markdown",
   "metadata": {},
   "source": [
    "Проведем аналогичные манипуляции с моделью логистической регрессии:"
   ]
  },
  {
   "cell_type": "code",
   "execution_count": 29,
   "metadata": {},
   "outputs": [
    {
     "name": "stdout",
     "output_type": "stream",
     "text": [
      "valid\n",
      "Частоты классов в предсказаниях\n",
      "0    0.6065\n",
      "1    0.3935\n",
      "dtype: float64\n",
      "Матрица ошибок\n",
      "[[1106  514]\n",
      " [ 107  273]]\n",
      "Accuracy: 0.689500\n",
      "Recall: 0.718421\n",
      "Precision: 0.346887\n",
      "F1: 0.467866\n",
      "AUC-ROC: 0.754045\n",
      "\n",
      "test\n",
      "Частоты классов в предсказаниях\n",
      "0    0.6025\n",
      "1    0.3975\n",
      "dtype: float64\n",
      "Матрица ошибок\n",
      "[[1085  485]\n",
      " [ 120  310]]\n",
      "Accuracy: 0.697500\n",
      "Recall: 0.720930\n",
      "Precision: 0.389937\n",
      "F1: 0.506122\n",
      "AUC-ROC: 0.783325\n",
      "\n",
      "test2\n",
      "Частоты классов в предсказаниях\n",
      "0    0.6815\n",
      "1    0.3185\n",
      "dtype: float64\n",
      "Матрица ошибок\n",
      "[[1214  356]\n",
      " [ 149  281]]\n",
      "Accuracy: 0.747500\n",
      "Recall: 0.653488\n",
      "Precision: 0.441130\n",
      "F1: 0.526710\n",
      "AUC-ROC: 0.783471\n",
      "\n"
     ]
    }
   ],
   "source": [
    "# Увеличенная выборка + class_weight=None\n",
    "model = LogisticRegression(random_state=42)\n",
    "model.fit(features_upsampled, target_upsampled)\n",
    "\n",
    "lr_u0_valid = metrics_score('valid', features_valid, target_valid) \n",
    "lr_u0_test = metrics_score('test', features_test, target_test)\n",
    "\n",
    "model.fit(features_upsampled_concated, target_upsampled_concated)\n",
    "lr_u0_test2 = metrics_score('test2', features_test, target_test)"
   ]
  },
  {
   "cell_type": "code",
   "execution_count": 30,
   "metadata": {},
   "outputs": [
    {
     "name": "stdout",
     "output_type": "stream",
     "text": [
      "valid\n",
      "Частоты классов в предсказаниях\n",
      "0    0.603\n",
      "1    0.397\n",
      "dtype: float64\n",
      "Матрица ошибок\n",
      "[[1099  521]\n",
      " [ 107  273]]\n",
      "Accuracy: 0.686000\n",
      "Recall: 0.718421\n",
      "Precision: 0.343829\n",
      "F1: 0.465077\n",
      "AUC-ROC: 0.752162\n",
      "\n",
      "test\n",
      "Частоты классов в предсказаниях\n",
      "0    0.5995\n",
      "1    0.4005\n",
      "dtype: float64\n",
      "Матрица ошибок\n",
      "[[1082  488]\n",
      " [ 117  313]]\n",
      "Accuracy: 0.697500\n",
      "Recall: 0.727907\n",
      "Precision: 0.390762\n",
      "F1: 0.508530\n",
      "AUC-ROC: 0.782985\n",
      "\n",
      "test2\n",
      "Частоты классов в предсказаниях\n",
      "0    0.791\n",
      "1    0.209\n",
      "dtype: float64\n",
      "Матрица ошибок\n",
      "[[1371  199]\n",
      " [ 211  219]]\n",
      "Accuracy: 0.795000\n",
      "Recall: 0.509302\n",
      "Precision: 0.523923\n",
      "F1: 0.516509\n",
      "AUC-ROC: 0.782431\n",
      "\n"
     ]
    }
   ],
   "source": [
    "# Уменьшенная выборка + class_weight=None\n",
    "model = LogisticRegression(random_state=42)\n",
    "model.fit(features_downsampled, target_downsampled)\n",
    "\n",
    "lr_d0_valid = metrics_score('valid', features_valid, target_valid) \n",
    "lr_d0_test = metrics_score('test', features_test, target_test)\n",
    "\n",
    "model.fit(features_downsampled_concated, target_downsampled_concated)\n",
    "lr_d0_test2 = metrics_score('test2', features_test, target_test)"
   ]
  },
  {
   "cell_type": "code",
   "execution_count": 31,
   "metadata": {},
   "outputs": [
    {
     "name": "stdout",
     "output_type": "stream",
     "text": [
      "valid\n",
      "Частоты классов в предсказаниях\n",
      "0    0.6165\n",
      "1    0.3835\n",
      "dtype: float64\n",
      "Матрица ошибок\n",
      "[[1120  500]\n",
      " [ 113  267]]\n",
      "Accuracy: 0.693500\n",
      "Recall: 0.702632\n",
      "Precision: 0.348110\n",
      "F1: 0.465562\n",
      "AUC-ROC: 0.754035\n",
      "\n",
      "test\n",
      "Частоты классов в предсказаниях\n",
      "0    0.6115\n",
      "1    0.3885\n",
      "dtype: float64\n",
      "Матрица ошибок\n",
      "[[1100  470]\n",
      " [ 123  307]]\n",
      "Accuracy: 0.703500\n",
      "Recall: 0.713953\n",
      "Precision: 0.395109\n",
      "F1: 0.508699\n",
      "AUC-ROC: 0.783293\n",
      "\n",
      "test2\n",
      "Частоты классов в предсказаниях\n",
      "0    0.612\n",
      "1    0.388\n",
      "dtype: float64\n",
      "Матрица ошибок\n",
      "[[1102  468]\n",
      " [ 122  308]]\n",
      "Accuracy: 0.705000\n",
      "Recall: 0.716279\n",
      "Precision: 0.396907\n",
      "F1: 0.510779\n",
      "AUC-ROC: 0.783897\n",
      "\n"
     ]
    }
   ],
   "source": [
    "# Обычная выборка + class_weight='balanced'\n",
    "model = LogisticRegression(random_state=42, class_weight='balanced')\n",
    "model.fit(features_train, target_train)\n",
    "\n",
    "lr_n1_valid = metrics_score('valid', features_valid, target_valid) \n",
    "lr_n1_test = metrics_score('test', features_test, target_test)\n",
    "\n",
    "model.fit(features_train_concated, target_train_concated)\n",
    "lr_n1_test2 = metrics_score('test2', features_test, target_test)"
   ]
  },
  {
   "cell_type": "markdown",
   "metadata": {},
   "source": [
    "## Сравнение метрик и выбор оптимальной модели"
   ]
  },
  {
   "cell_type": "markdown",
   "metadata": {},
   "source": [
    "Сформируем новый датафрейм из полученных значений метрик для определения самой качественной модели:"
   ]
  },
  {
   "cell_type": "code",
   "execution_count": 32,
   "metadata": {
    "scrolled": true
   },
   "outputs": [
    {
     "data": {
      "text/html": [
       "<div>\n",
       "<style scoped>\n",
       "    .dataframe tbody tr th:only-of-type {\n",
       "        vertical-align: middle;\n",
       "    }\n",
       "\n",
       "    .dataframe tbody tr th {\n",
       "        vertical-align: top;\n",
       "    }\n",
       "\n",
       "    .dataframe thead th {\n",
       "        text-align: right;\n",
       "    }\n",
       "</style>\n",
       "<table border=\"1\" class=\"dataframe\">\n",
       "  <thead>\n",
       "    <tr style=\"text-align: right;\">\n",
       "      <th></th>\n",
       "      <th>type</th>\n",
       "      <th>accuracy</th>\n",
       "      <th>recall</th>\n",
       "      <th>precision</th>\n",
       "      <th>f1</th>\n",
       "      <th>auc-roc</th>\n",
       "    </tr>\n",
       "  </thead>\n",
       "  <tbody>\n",
       "    <tr>\n",
       "      <td>dt_n0</td>\n",
       "      <td>valid</td>\n",
       "      <td>0.855</td>\n",
       "      <td>0.426316</td>\n",
       "      <td>0.692308</td>\n",
       "      <td>0.527687</td>\n",
       "      <td>0.807398</td>\n",
       "    </tr>\n",
       "    <tr>\n",
       "      <td>dt_u0</td>\n",
       "      <td>valid</td>\n",
       "      <td>0.7765</td>\n",
       "      <td>0.673684</td>\n",
       "      <td>0.442142</td>\n",
       "      <td>0.533889</td>\n",
       "      <td>0.804666</td>\n",
       "    </tr>\n",
       "    <tr>\n",
       "      <td>dt_d0</td>\n",
       "      <td>valid</td>\n",
       "      <td>0.789</td>\n",
       "      <td>0.6</td>\n",
       "      <td>0.457831</td>\n",
       "      <td>0.519362</td>\n",
       "      <td>0.77358</td>\n",
       "    </tr>\n",
       "    <tr>\n",
       "      <td>dt_n1</td>\n",
       "      <td>valid</td>\n",
       "      <td>0.777</td>\n",
       "      <td>0.671053</td>\n",
       "      <td>0.442708</td>\n",
       "      <td>0.533473</td>\n",
       "      <td>0.803936</td>\n",
       "    </tr>\n",
       "    <tr>\n",
       "      <td>rf_n0</td>\n",
       "      <td>valid</td>\n",
       "      <td>0.8745</td>\n",
       "      <td>0.45</td>\n",
       "      <td>0.802817</td>\n",
       "      <td>0.576728</td>\n",
       "      <td>0.839198</td>\n",
       "    </tr>\n",
       "  </tbody>\n",
       "</table>\n",
       "</div>"
      ],
      "text/plain": [
       "        type accuracy    recall precision        f1   auc-roc\n",
       "dt_n0  valid    0.855  0.426316  0.692308  0.527687  0.807398\n",
       "dt_u0  valid   0.7765  0.673684  0.442142  0.533889  0.804666\n",
       "dt_d0  valid    0.789       0.6  0.457831  0.519362   0.77358\n",
       "dt_n1  valid    0.777  0.671053  0.442708  0.533473  0.803936\n",
       "rf_n0  valid   0.8745      0.45  0.802817  0.576728  0.839198"
      ]
     },
     "metadata": {},
     "output_type": "display_data"
    }
   ],
   "source": [
    "df_metrics = pd.concat([dt_n0_valid, dt_u0_valid, dt_d0_valid, dt_n1_valid,\n",
    "                              rf_n0_valid, rf_u0_valid, rf_d0_valid, rf_n1_valid, \n",
    "                              lr_n0_valid, lr_u0_valid, lr_d0_valid, lr_n1_valid,\n",
    "                              dt_n0_test, dt_u0_test, dt_d0_test, dt_n1_test, \n",
    "                              rf_n0_test, rf_u0_test, rf_d0_test, rf_n1_test, \n",
    "                              lr_n0_test, lr_u0_test, lr_d0_test, lr_n1_test, \n",
    "                              dt_u0_test, dt_d0_test, dt_n1_test, \n",
    "                              rf_u0_test2, rf_d0_test2, rf_n1_test2, \n",
    "                              lr_u0_test2, lr_d0_test2, lr_n1_test2],\n",
    "                            axis=1)\n",
    "df_metrics = df_metrics.T\n",
    "df_metrics.columns = ['type', 'accuracy', 'recall', 'precision', 'f1', 'auc-roc']\n",
    "# \"dt\"-дерево решений, \"rf\"-случайный лес, \"lr\"логистическая регрессия\n",
    "# \"n\" - обычная обучающая выборка, \"u\" - увеличенная, \"d\" - уменьшенная\n",
    "# \"1\" - установлен гиперпараметр class_weight\n",
    "df_metrics.index = ['dt_n0', 'dt_u0', 'dt_d0', 'dt_n1',\n",
    "                              'rf_n0', 'rf_u0', 'rf_d0', 'rf_n1', \n",
    "                              'lr_n0', 'lr_u0', 'lr_d0', 'lr_n1',\n",
    "                              'dt_n0', 'dt_u0', 'dt_d0', 'dt_n1', \n",
    "                              'rf_n0', 'rf_u0', 'rf_d0', 'rf_n1', \n",
    "                              'lr_n0', 'lr_u0', 'lr_d0', 'lr_n1', \n",
    "                              'dt_u0', 'dt_d0', 'dt_n1', \n",
    "                              'rf_u0', 'rf_d0', 'rf_n1', \n",
    "                              'lr_u0', 'lr_d0', 'lr_n1']\n",
    "display(df_metrics.head())"
   ]
  },
  {
   "cell_type": "markdown",
   "metadata": {},
   "source": [
    "Отсортируем по самым большим значениям `f1` и `auc-roc` для валидационной и тестовой выборок:"
   ]
  },
  {
   "cell_type": "code",
   "execution_count": 33,
   "metadata": {},
   "outputs": [
    {
     "data": {
      "text/html": [
       "<div>\n",
       "<style scoped>\n",
       "    .dataframe tbody tr th:only-of-type {\n",
       "        vertical-align: middle;\n",
       "    }\n",
       "\n",
       "    .dataframe tbody tr th {\n",
       "        vertical-align: top;\n",
       "    }\n",
       "\n",
       "    .dataframe thead th {\n",
       "        text-align: right;\n",
       "    }\n",
       "</style>\n",
       "<table border=\"1\" class=\"dataframe\">\n",
       "  <thead>\n",
       "    <tr style=\"text-align: right;\">\n",
       "      <th></th>\n",
       "      <th>type</th>\n",
       "      <th>accuracy</th>\n",
       "      <th>recall</th>\n",
       "      <th>precision</th>\n",
       "      <th>f1</th>\n",
       "      <th>auc-roc</th>\n",
       "    </tr>\n",
       "  </thead>\n",
       "  <tbody>\n",
       "    <tr>\n",
       "      <td>rf_u0</td>\n",
       "      <td>valid</td>\n",
       "      <td>0.8355</td>\n",
       "      <td>0.642105</td>\n",
       "      <td>0.558352</td>\n",
       "      <td>0.597307</td>\n",
       "      <td>0.835677</td>\n",
       "    </tr>\n",
       "    <tr>\n",
       "      <td>rf_n1</td>\n",
       "      <td>valid</td>\n",
       "      <td>0.85</td>\n",
       "      <td>0.578947</td>\n",
       "      <td>0.611111</td>\n",
       "      <td>0.594595</td>\n",
       "      <td>0.839142</td>\n",
       "    </tr>\n",
       "    <tr>\n",
       "      <td>rf_n0</td>\n",
       "      <td>valid</td>\n",
       "      <td>0.8745</td>\n",
       "      <td>0.45</td>\n",
       "      <td>0.802817</td>\n",
       "      <td>0.576728</td>\n",
       "      <td>0.839198</td>\n",
       "    </tr>\n",
       "    <tr>\n",
       "      <td>rf_d0</td>\n",
       "      <td>valid</td>\n",
       "      <td>0.781</td>\n",
       "      <td>0.739474</td>\n",
       "      <td>0.453226</td>\n",
       "      <td>0.562</td>\n",
       "      <td>0.838484</td>\n",
       "    </tr>\n",
       "    <tr>\n",
       "      <td>dt_u0</td>\n",
       "      <td>valid</td>\n",
       "      <td>0.7765</td>\n",
       "      <td>0.673684</td>\n",
       "      <td>0.442142</td>\n",
       "      <td>0.533889</td>\n",
       "      <td>0.804666</td>\n",
       "    </tr>\n",
       "    <tr>\n",
       "      <td>dt_n1</td>\n",
       "      <td>valid</td>\n",
       "      <td>0.777</td>\n",
       "      <td>0.671053</td>\n",
       "      <td>0.442708</td>\n",
       "      <td>0.533473</td>\n",
       "      <td>0.803936</td>\n",
       "    </tr>\n",
       "  </tbody>\n",
       "</table>\n",
       "</div>"
      ],
      "text/plain": [
       "        type accuracy    recall precision        f1   auc-roc\n",
       "rf_u0  valid   0.8355  0.642105  0.558352  0.597307  0.835677\n",
       "rf_n1  valid     0.85  0.578947  0.611111  0.594595  0.839142\n",
       "rf_n0  valid   0.8745      0.45  0.802817  0.576728  0.839198\n",
       "rf_d0  valid    0.781  0.739474  0.453226     0.562  0.838484\n",
       "dt_u0  valid   0.7765  0.673684  0.442142  0.533889  0.804666\n",
       "dt_n1  valid    0.777  0.671053  0.442708  0.533473  0.803936"
      ]
     },
     "metadata": {},
     "output_type": "display_data"
    },
    {
     "data": {
      "text/html": [
       "<div>\n",
       "<style scoped>\n",
       "    .dataframe tbody tr th:only-of-type {\n",
       "        vertical-align: middle;\n",
       "    }\n",
       "\n",
       "    .dataframe tbody tr th {\n",
       "        vertical-align: top;\n",
       "    }\n",
       "\n",
       "    .dataframe thead th {\n",
       "        text-align: right;\n",
       "    }\n",
       "</style>\n",
       "<table border=\"1\" class=\"dataframe\">\n",
       "  <thead>\n",
       "    <tr style=\"text-align: right;\">\n",
       "      <th></th>\n",
       "      <th>type</th>\n",
       "      <th>accuracy</th>\n",
       "      <th>recall</th>\n",
       "      <th>precision</th>\n",
       "      <th>f1</th>\n",
       "      <th>auc-roc</th>\n",
       "    </tr>\n",
       "  </thead>\n",
       "  <tbody>\n",
       "    <tr>\n",
       "      <td>rf_n0</td>\n",
       "      <td>valid</td>\n",
       "      <td>0.8745</td>\n",
       "      <td>0.45</td>\n",
       "      <td>0.802817</td>\n",
       "      <td>0.576728</td>\n",
       "      <td>0.839198</td>\n",
       "    </tr>\n",
       "    <tr>\n",
       "      <td>rf_n1</td>\n",
       "      <td>valid</td>\n",
       "      <td>0.85</td>\n",
       "      <td>0.578947</td>\n",
       "      <td>0.611111</td>\n",
       "      <td>0.594595</td>\n",
       "      <td>0.839142</td>\n",
       "    </tr>\n",
       "    <tr>\n",
       "      <td>rf_d0</td>\n",
       "      <td>valid</td>\n",
       "      <td>0.781</td>\n",
       "      <td>0.739474</td>\n",
       "      <td>0.453226</td>\n",
       "      <td>0.562</td>\n",
       "      <td>0.838484</td>\n",
       "    </tr>\n",
       "    <tr>\n",
       "      <td>rf_u0</td>\n",
       "      <td>valid</td>\n",
       "      <td>0.8355</td>\n",
       "      <td>0.642105</td>\n",
       "      <td>0.558352</td>\n",
       "      <td>0.597307</td>\n",
       "      <td>0.835677</td>\n",
       "    </tr>\n",
       "    <tr>\n",
       "      <td>dt_n0</td>\n",
       "      <td>valid</td>\n",
       "      <td>0.855</td>\n",
       "      <td>0.426316</td>\n",
       "      <td>0.692308</td>\n",
       "      <td>0.527687</td>\n",
       "      <td>0.807398</td>\n",
       "    </tr>\n",
       "    <tr>\n",
       "      <td>dt_u0</td>\n",
       "      <td>valid</td>\n",
       "      <td>0.7765</td>\n",
       "      <td>0.673684</td>\n",
       "      <td>0.442142</td>\n",
       "      <td>0.533889</td>\n",
       "      <td>0.804666</td>\n",
       "    </tr>\n",
       "  </tbody>\n",
       "</table>\n",
       "</div>"
      ],
      "text/plain": [
       "        type accuracy    recall precision        f1   auc-roc\n",
       "rf_n0  valid   0.8745      0.45  0.802817  0.576728  0.839198\n",
       "rf_n1  valid     0.85  0.578947  0.611111  0.594595  0.839142\n",
       "rf_d0  valid    0.781  0.739474  0.453226     0.562  0.838484\n",
       "rf_u0  valid   0.8355  0.642105  0.558352  0.597307  0.835677\n",
       "dt_n0  valid    0.855  0.426316  0.692308  0.527687  0.807398\n",
       "dt_u0  valid   0.7765  0.673684  0.442142  0.533889  0.804666"
      ]
     },
     "metadata": {},
     "output_type": "display_data"
    },
    {
     "data": {
      "text/html": [
       "<div>\n",
       "<style scoped>\n",
       "    .dataframe tbody tr th:only-of-type {\n",
       "        vertical-align: middle;\n",
       "    }\n",
       "\n",
       "    .dataframe tbody tr th {\n",
       "        vertical-align: top;\n",
       "    }\n",
       "\n",
       "    .dataframe thead th {\n",
       "        text-align: right;\n",
       "    }\n",
       "</style>\n",
       "<table border=\"1\" class=\"dataframe\">\n",
       "  <thead>\n",
       "    <tr style=\"text-align: right;\">\n",
       "      <th></th>\n",
       "      <th>type</th>\n",
       "      <th>accuracy</th>\n",
       "      <th>recall</th>\n",
       "      <th>precision</th>\n",
       "      <th>f1</th>\n",
       "      <th>auc-roc</th>\n",
       "    </tr>\n",
       "  </thead>\n",
       "  <tbody>\n",
       "    <tr>\n",
       "      <td>rf_n1</td>\n",
       "      <td>test</td>\n",
       "      <td>0.8475</td>\n",
       "      <td>0.595349</td>\n",
       "      <td>0.661499</td>\n",
       "      <td>0.626683</td>\n",
       "      <td>0.860259</td>\n",
       "    </tr>\n",
       "    <tr>\n",
       "      <td>rf_u0</td>\n",
       "      <td>test</td>\n",
       "      <td>0.8305</td>\n",
       "      <td>0.646512</td>\n",
       "      <td>0.597849</td>\n",
       "      <td>0.621229</td>\n",
       "      <td>0.855264</td>\n",
       "    </tr>\n",
       "    <tr>\n",
       "      <td>dt_n1</td>\n",
       "      <td>test</td>\n",
       "      <td>0.798</td>\n",
       "      <td>0.730233</td>\n",
       "      <td>0.521595</td>\n",
       "      <td>0.608527</td>\n",
       "      <td>0.822609</td>\n",
       "    </tr>\n",
       "    <tr>\n",
       "      <td>dt_n1</td>\n",
       "      <td>test</td>\n",
       "      <td>0.798</td>\n",
       "      <td>0.730233</td>\n",
       "      <td>0.521595</td>\n",
       "      <td>0.608527</td>\n",
       "      <td>0.822609</td>\n",
       "    </tr>\n",
       "    <tr>\n",
       "      <td>dt_u0</td>\n",
       "      <td>test</td>\n",
       "      <td>0.7955</td>\n",
       "      <td>0.730233</td>\n",
       "      <td>0.517298</td>\n",
       "      <td>0.605593</td>\n",
       "      <td>0.82206</td>\n",
       "    </tr>\n",
       "    <tr>\n",
       "      <td>dt_u0</td>\n",
       "      <td>test</td>\n",
       "      <td>0.7955</td>\n",
       "      <td>0.730233</td>\n",
       "      <td>0.517298</td>\n",
       "      <td>0.605593</td>\n",
       "      <td>0.82206</td>\n",
       "    </tr>\n",
       "  </tbody>\n",
       "</table>\n",
       "</div>"
      ],
      "text/plain": [
       "       type accuracy    recall precision        f1   auc-roc\n",
       "rf_n1  test   0.8475  0.595349  0.661499  0.626683  0.860259\n",
       "rf_u0  test   0.8305  0.646512  0.597849  0.621229  0.855264\n",
       "dt_n1  test    0.798  0.730233  0.521595  0.608527  0.822609\n",
       "dt_n1  test    0.798  0.730233  0.521595  0.608527  0.822609\n",
       "dt_u0  test   0.7955  0.730233  0.517298  0.605593   0.82206\n",
       "dt_u0  test   0.7955  0.730233  0.517298  0.605593   0.82206"
      ]
     },
     "metadata": {},
     "output_type": "display_data"
    },
    {
     "data": {
      "text/html": [
       "<div>\n",
       "<style scoped>\n",
       "    .dataframe tbody tr th:only-of-type {\n",
       "        vertical-align: middle;\n",
       "    }\n",
       "\n",
       "    .dataframe tbody tr th {\n",
       "        vertical-align: top;\n",
       "    }\n",
       "\n",
       "    .dataframe thead th {\n",
       "        text-align: right;\n",
       "    }\n",
       "</style>\n",
       "<table border=\"1\" class=\"dataframe\">\n",
       "  <thead>\n",
       "    <tr style=\"text-align: right;\">\n",
       "      <th></th>\n",
       "      <th>type</th>\n",
       "      <th>accuracy</th>\n",
       "      <th>recall</th>\n",
       "      <th>precision</th>\n",
       "      <th>f1</th>\n",
       "      <th>auc-roc</th>\n",
       "    </tr>\n",
       "  </thead>\n",
       "  <tbody>\n",
       "    <tr>\n",
       "      <td>rf_n0</td>\n",
       "      <td>test</td>\n",
       "      <td>0.862</td>\n",
       "      <td>0.469767</td>\n",
       "      <td>0.808</td>\n",
       "      <td>0.594118</td>\n",
       "      <td>0.862808</td>\n",
       "    </tr>\n",
       "    <tr>\n",
       "      <td>rf_d0</td>\n",
       "      <td>test</td>\n",
       "      <td>0.7815</td>\n",
       "      <td>0.77907</td>\n",
       "      <td>0.49483</td>\n",
       "      <td>0.605239</td>\n",
       "      <td>0.861027</td>\n",
       "    </tr>\n",
       "    <tr>\n",
       "      <td>rf_n1</td>\n",
       "      <td>test</td>\n",
       "      <td>0.8475</td>\n",
       "      <td>0.595349</td>\n",
       "      <td>0.661499</td>\n",
       "      <td>0.626683</td>\n",
       "      <td>0.860259</td>\n",
       "    </tr>\n",
       "    <tr>\n",
       "      <td>rf_u0</td>\n",
       "      <td>test</td>\n",
       "      <td>0.8305</td>\n",
       "      <td>0.646512</td>\n",
       "      <td>0.597849</td>\n",
       "      <td>0.621229</td>\n",
       "      <td>0.855264</td>\n",
       "    </tr>\n",
       "    <tr>\n",
       "      <td>dt_n0</td>\n",
       "      <td>test</td>\n",
       "      <td>0.855</td>\n",
       "      <td>0.47907</td>\n",
       "      <td>0.757353</td>\n",
       "      <td>0.586895</td>\n",
       "      <td>0.840934</td>\n",
       "    </tr>\n",
       "    <tr>\n",
       "      <td>dt_n1</td>\n",
       "      <td>test</td>\n",
       "      <td>0.798</td>\n",
       "      <td>0.730233</td>\n",
       "      <td>0.521595</td>\n",
       "      <td>0.608527</td>\n",
       "      <td>0.822609</td>\n",
       "    </tr>\n",
       "  </tbody>\n",
       "</table>\n",
       "</div>"
      ],
      "text/plain": [
       "       type accuracy    recall precision        f1   auc-roc\n",
       "rf_n0  test    0.862  0.469767     0.808  0.594118  0.862808\n",
       "rf_d0  test   0.7815   0.77907   0.49483  0.605239  0.861027\n",
       "rf_n1  test   0.8475  0.595349  0.661499  0.626683  0.860259\n",
       "rf_u0  test   0.8305  0.646512  0.597849  0.621229  0.855264\n",
       "dt_n0  test    0.855   0.47907  0.757353  0.586895  0.840934\n",
       "dt_n1  test    0.798  0.730233  0.521595  0.608527  0.822609"
      ]
     },
     "metadata": {},
     "output_type": "display_data"
    },
    {
     "data": {
      "text/html": [
       "<div>\n",
       "<style scoped>\n",
       "    .dataframe tbody tr th:only-of-type {\n",
       "        vertical-align: middle;\n",
       "    }\n",
       "\n",
       "    .dataframe tbody tr th {\n",
       "        vertical-align: top;\n",
       "    }\n",
       "\n",
       "    .dataframe thead th {\n",
       "        text-align: right;\n",
       "    }\n",
       "</style>\n",
       "<table border=\"1\" class=\"dataframe\">\n",
       "  <thead>\n",
       "    <tr style=\"text-align: right;\">\n",
       "      <th></th>\n",
       "      <th>type</th>\n",
       "      <th>accuracy</th>\n",
       "      <th>recall</th>\n",
       "      <th>precision</th>\n",
       "      <th>f1</th>\n",
       "      <th>auc-roc</th>\n",
       "    </tr>\n",
       "  </thead>\n",
       "  <tbody>\n",
       "    <tr>\n",
       "      <td>rf_n1</td>\n",
       "      <td>test2</td>\n",
       "      <td>0.851</td>\n",
       "      <td>0.623256</td>\n",
       "      <td>0.663366</td>\n",
       "      <td>0.642686</td>\n",
       "      <td>0.863868</td>\n",
       "    </tr>\n",
       "    <tr>\n",
       "      <td>rf_d0</td>\n",
       "      <td>test2</td>\n",
       "      <td>0.8535</td>\n",
       "      <td>0.593023</td>\n",
       "      <td>0.683646</td>\n",
       "      <td>0.635118</td>\n",
       "      <td>0.866248</td>\n",
       "    </tr>\n",
       "    <tr>\n",
       "      <td>rf_u0</td>\n",
       "      <td>test2</td>\n",
       "      <td>0.845</td>\n",
       "      <td>0.616279</td>\n",
       "      <td>0.646341</td>\n",
       "      <td>0.630952</td>\n",
       "      <td>0.859016</td>\n",
       "    </tr>\n",
       "    <tr>\n",
       "      <td>lr_u0</td>\n",
       "      <td>test2</td>\n",
       "      <td>0.7475</td>\n",
       "      <td>0.653488</td>\n",
       "      <td>0.44113</td>\n",
       "      <td>0.52671</td>\n",
       "      <td>0.783471</td>\n",
       "    </tr>\n",
       "    <tr>\n",
       "      <td>lr_d0</td>\n",
       "      <td>test2</td>\n",
       "      <td>0.795</td>\n",
       "      <td>0.509302</td>\n",
       "      <td>0.523923</td>\n",
       "      <td>0.516509</td>\n",
       "      <td>0.782431</td>\n",
       "    </tr>\n",
       "    <tr>\n",
       "      <td>lr_n1</td>\n",
       "      <td>test2</td>\n",
       "      <td>0.705</td>\n",
       "      <td>0.716279</td>\n",
       "      <td>0.396907</td>\n",
       "      <td>0.510779</td>\n",
       "      <td>0.783897</td>\n",
       "    </tr>\n",
       "  </tbody>\n",
       "</table>\n",
       "</div>"
      ],
      "text/plain": [
       "        type accuracy    recall precision        f1   auc-roc\n",
       "rf_n1  test2    0.851  0.623256  0.663366  0.642686  0.863868\n",
       "rf_d0  test2   0.8535  0.593023  0.683646  0.635118  0.866248\n",
       "rf_u0  test2    0.845  0.616279  0.646341  0.630952  0.859016\n",
       "lr_u0  test2   0.7475  0.653488   0.44113   0.52671  0.783471\n",
       "lr_d0  test2    0.795  0.509302  0.523923  0.516509  0.782431\n",
       "lr_n1  test2    0.705  0.716279  0.396907  0.510779  0.783897"
      ]
     },
     "metadata": {},
     "output_type": "display_data"
    },
    {
     "data": {
      "text/html": [
       "<div>\n",
       "<style scoped>\n",
       "    .dataframe tbody tr th:only-of-type {\n",
       "        vertical-align: middle;\n",
       "    }\n",
       "\n",
       "    .dataframe tbody tr th {\n",
       "        vertical-align: top;\n",
       "    }\n",
       "\n",
       "    .dataframe thead th {\n",
       "        text-align: right;\n",
       "    }\n",
       "</style>\n",
       "<table border=\"1\" class=\"dataframe\">\n",
       "  <thead>\n",
       "    <tr style=\"text-align: right;\">\n",
       "      <th></th>\n",
       "      <th>type</th>\n",
       "      <th>accuracy</th>\n",
       "      <th>recall</th>\n",
       "      <th>precision</th>\n",
       "      <th>f1</th>\n",
       "      <th>auc-roc</th>\n",
       "    </tr>\n",
       "  </thead>\n",
       "  <tbody>\n",
       "    <tr>\n",
       "      <td>rf_d0</td>\n",
       "      <td>test2</td>\n",
       "      <td>0.8535</td>\n",
       "      <td>0.593023</td>\n",
       "      <td>0.683646</td>\n",
       "      <td>0.635118</td>\n",
       "      <td>0.866248</td>\n",
       "    </tr>\n",
       "    <tr>\n",
       "      <td>rf_n1</td>\n",
       "      <td>test2</td>\n",
       "      <td>0.851</td>\n",
       "      <td>0.623256</td>\n",
       "      <td>0.663366</td>\n",
       "      <td>0.642686</td>\n",
       "      <td>0.863868</td>\n",
       "    </tr>\n",
       "    <tr>\n",
       "      <td>rf_u0</td>\n",
       "      <td>test2</td>\n",
       "      <td>0.845</td>\n",
       "      <td>0.616279</td>\n",
       "      <td>0.646341</td>\n",
       "      <td>0.630952</td>\n",
       "      <td>0.859016</td>\n",
       "    </tr>\n",
       "    <tr>\n",
       "      <td>lr_n1</td>\n",
       "      <td>test2</td>\n",
       "      <td>0.705</td>\n",
       "      <td>0.716279</td>\n",
       "      <td>0.396907</td>\n",
       "      <td>0.510779</td>\n",
       "      <td>0.783897</td>\n",
       "    </tr>\n",
       "    <tr>\n",
       "      <td>lr_u0</td>\n",
       "      <td>test2</td>\n",
       "      <td>0.7475</td>\n",
       "      <td>0.653488</td>\n",
       "      <td>0.44113</td>\n",
       "      <td>0.52671</td>\n",
       "      <td>0.783471</td>\n",
       "    </tr>\n",
       "    <tr>\n",
       "      <td>lr_d0</td>\n",
       "      <td>test2</td>\n",
       "      <td>0.795</td>\n",
       "      <td>0.509302</td>\n",
       "      <td>0.523923</td>\n",
       "      <td>0.516509</td>\n",
       "      <td>0.782431</td>\n",
       "    </tr>\n",
       "  </tbody>\n",
       "</table>\n",
       "</div>"
      ],
      "text/plain": [
       "        type accuracy    recall precision        f1   auc-roc\n",
       "rf_d0  test2   0.8535  0.593023  0.683646  0.635118  0.866248\n",
       "rf_n1  test2    0.851  0.623256  0.663366  0.642686  0.863868\n",
       "rf_u0  test2    0.845  0.616279  0.646341  0.630952  0.859016\n",
       "lr_n1  test2    0.705  0.716279  0.396907  0.510779  0.783897\n",
       "lr_u0  test2   0.7475  0.653488   0.44113   0.52671  0.783471\n",
       "lr_d0  test2    0.795  0.509302  0.523923  0.516509  0.782431"
      ]
     },
     "metadata": {},
     "output_type": "display_data"
    }
   ],
   "source": [
    "display(df_metrics.query('type == \"valid\"').sort_values('f1', ascending=False).head(6))\n",
    "display(df_metrics.query('type == \"valid\"').sort_values('auc-roc', ascending=False).head(6))\n",
    "\n",
    "\n",
    "display(df_metrics.query('type == \"test\"').sort_values('f1', ascending=False).head(6))\n",
    "display(df_metrics.query('type == \"test\"').sort_values('auc-roc', ascending=False).head(6))\n",
    "\n",
    "display(df_metrics.query('type == \"test2\"').sort_values('f1', ascending=False).head(6))\n",
    "display(df_metrics.query('type == \"test2\"').sort_values('auc-roc', ascending=False).head(6))"
   ]
  },
  {
   "cell_type": "markdown",
   "metadata": {},
   "source": [
    "При предсказаниях по валидационной выборке метрики auc-roc и f1 являются наивысшими для моделей случайного леса. \n",
    "Наибольшее значения f1 > 0.59 нам дают следующие модели случайного леса:\n",
    "1. обученные на увеличенной выборке\n",
    "2. обученные на обычной выборке с гиперпараметром `class_weight = 'balanced`\n",
    "\n",
    "Однако если принимать во внимание метрику auc-roc, мы увидим, что модели случайного леса, обученные на увеличенной выборке, обладают самыми низкими значениями данной метрики, а значит и ближе к случайной модели. При этом модель, обученная на обычной выборке с гиперпараметром `class_weight = 'balanced` показывает один из лучших результатов.\n",
    "\n",
    "Построим кривые PR и ROC для оставшейся модели:"
   ]
  },
  {
   "cell_type": "markdown",
   "metadata": {},
   "source": [
    "**PR-кривая**"
   ]
  },
  {
   "cell_type": "code",
   "execution_count": 34,
   "metadata": {},
   "outputs": [],
   "source": [
    "model = random_forest_model(42, 11, 44, 'balanced', features_train, target_train)"
   ]
  },
  {
   "cell_type": "code",
   "execution_count": 35,
   "metadata": {},
   "outputs": [
    {
     "data": {
      "image/png": "[encoded data removed]",
      "text/plain": [
       "<Figure size 432x432 with 1 Axes>"
      ]
     },
     "metadata": {
      "needs_background": "light"
     },
     "output_type": "display_data"
    }
   ],
   "source": [
    "probabilities_valid = model.predict_proba(features_valid)\n",
    "precision, recall, thresholds = precision_recall_curve(target_valid, probabilities_valid[:, 1])\n",
    "plt.figure(figsize=(6, 6))\n",
    "plt.step(recall, precision, where='post')\n",
    "plt.xlabel('Recall')\n",
    "plt.ylabel('Precision')\n",
    "plt.ylim([0.0, 1.0])\n",
    "plt.xlim([0.0, 1.0])\n",
    "plt.title('Кривая Precision-Recall')\n",
    "plt.show() "
   ]
  },
  {
   "cell_type": "markdown",
   "metadata": {},
   "source": [
    "Кривая PR показывает, как меняются метрики precision и recall при изменении порога классификации. Мы видим достаточно высокие значения по обозначенным метрикам, что может свидетельствовать о хорошем качестве модели."
   ]
  },
  {
   "cell_type": "markdown",
   "metadata": {},
   "source": [
    "**ROC-кривая**"
   ]
  },
  {
   "cell_type": "code",
   "execution_count": 36,
   "metadata": {},
   "outputs": [
    {
     "name": "stdout",
     "output_type": "stream",
     "text": [
      "0.8391423001949319\n"
     ]
    },
    {
     "data": {
      "image/png": "[encoded data removed]",
      "text/plain": [
       "<Figure size 432x288 with 1 Axes>"
      ]
     },
     "metadata": {
      "needs_background": "light"
     },
     "output_type": "display_data"
    }
   ],
   "source": [
    "probabilities_valid = model.predict_proba(features_valid)\n",
    "probabilities_one_valid = probabilities_valid[:, 1]\n",
    "\n",
    "fpr, tpr, thresholds = roc_curve(target_valid, probabilities_one_valid) # < напишите код здесь >\n",
    "\n",
    "plt.figure()\n",
    "\n",
    "plt.plot(fpr, tpr) # < постройте график >\n",
    "\n",
    "# ROC-кривая случайной модели (выглядит как прямая)\n",
    "plt.plot([0, 1], [0, 1], linestyle='--')\n",
    "\n",
    "plt.xlim(0.0, 1)\n",
    "plt.ylim([0.0, 1.0])\n",
    "# < примените функции plt.xlim() и plt.ylim(), чтобы\n",
    "#   установить границы осей от 0 до 1 >\n",
    "\n",
    "plt.ylim([0.0, 1.05])\n",
    "plt.xlim([0.0, 1.0])\n",
    "\n",
    "# < примените функции plt.xlabel() и plt.ylabel(), чтобы\n",
    "#   подписать оси \"False Positive Rate\" и \"True Positive Rate\" >\n",
    "plt.xlabel('False Positive Rate')\n",
    "plt.ylabel('True Positive Rate')\n",
    "\n",
    "auc_roc = roc_auc_score(target_valid, probabilities_one_valid)\n",
    "plt.title('Кривая ROC')\n",
    "print(auc_roc)"
   ]
  },
  {
   "cell_type": "markdown",
   "metadata": {},
   "source": [
    "Кривая показывает, как сильно наша модель отличается от случайной. Значение метрики auc_roc = 0.839142 свидетельствует о достаточно хорошем качестве поолученной модели."
   ]
  },
  {
   "cell_type": "markdown",
   "metadata": {},
   "source": [
    "**Диаграмма важности факторов**"
   ]
  },
  {
   "cell_type": "markdown",
   "metadata": {},
   "source": [
    "Проранжируем важность признаков в порядке убывания. "
   ]
  },
  {
   "cell_type": "code",
   "execution_count": 37,
   "metadata": {
    "scrolled": false
   },
   "outputs": [
    {
     "name": "stdout",
     "output_type": "stream",
     "text": [
      "Feature ranking:\n",
      "1. feature 1 (0.289824)\n",
      "2. feature 4 (0.177986)\n",
      "3. feature 3 (0.129340)\n",
      "4. feature 7 (0.104156)\n",
      "5. feature 0 (0.100310)\n",
      "6. feature 2 (0.057212)\n",
      "7. feature 6 (0.050786)\n",
      "8. feature 8 (0.043146)\n",
      "9. feature 10 (0.020062)\n",
      "10. feature 5 (0.013899)\n",
      "11. feature 9 (0.013279)\n"
     ]
    },
    {
     "data": {
      "image/png": "[encoded data removed]",
      "text/plain": [
       "<Figure size 1080x1080 with 1 Axes>"
      ]
     },
     "metadata": {
      "needs_background": "light"
     },
     "output_type": "display_data"
    }
   ],
   "source": [
    "importances = model.feature_importances_\n",
    "std = np.std([tree.feature_importances_ for tree in model.estimators_],\n",
    "             axis=0)\n",
    "indices = np.argsort(importances)[::-1]\n",
    "feature_names = features_train.columns\n",
    "feature_names = [feature_names[i] for i in indices]\n",
    "\n",
    "# Print the feature ranking\n",
    "print(\"Feature ranking:\")\n",
    "\n",
    "for f in range(features_train.shape[1]):\n",
    "    print(\"%d. feature %d (%f)\" % (f + 1, indices[f], importances[indices[f]]))\n",
    "\n",
    "# Plot the impurity-based feature importances of the forest\n",
    "plt.figure(figsize=(15,15))\n",
    "plt.title(\"Feature importances\")\n",
    "plt.bar(range(features_train.shape[1]), importances[indices],\n",
    "        color=\"r\", yerr=std[indices], align=\"center\")\n",
    "plt.xticks(range(features_train.shape[1]), feature_names)\n",
    "plt.xlim([-1, features_train.shape[1]])\n",
    "plt.show()"
   ]
  },
  {
   "cell_type": "markdown",
   "metadata": {},
   "source": [
    "Наиболее значимыми признаками, влияющими на возможность ухода клиента из банка, являются:\n",
    "- возраст клиента;\n",
    "- количество продуктов банка, используемых клиентом;\n",
    "- баланс на счете;\n",
    "- предполагаемая зарплата;\n",
    "- кредитный рейтинг.  \n",
    "\n",
    "В свою очередь, наименее значитыми являются признаки различия пола, страны проживания и наличия кредитной карты."
   ]
  },
  {
   "cell_type": "markdown",
   "metadata": {},
   "source": [
    "**Вывод:**  \n",
    "\n",
    "Мы выявили вид моделей и их гиперпараметры, при которых выполняется требуемое условие по метрике f1>0.59, проанализировали для них значение метрики auc-roc, что позволило нам определить оптимальную модель, а также отразили наиболее значимые признаки, на основании которых можно наиболее достоверно предсказать уход клиента из банка."
   ]
  },
  {
   "cell_type": "markdown",
   "metadata": {},
   "source": [
    "## Заключение и общие выводы по проекту"
   ]
  },
  {
   "cell_type": "markdown",
   "metadata": {},
   "source": [
    "В ходе проведенного исследования мы определили оптимальную модель, которая поможет спрогнозировать уход клиента из банка. \n",
    "Полученная модель - модель случайного леса (при `random_state = 42`) с гиперпараметрами:  \n",
    "- `max_depth = 11`\n",
    "- `n-estimators = 44`\n",
    "- `class_weight = \"balanced\"`\n",
    "\n",
    "При данных параметрах, метрики будут следующими:"
   ]
  },
  {
   "cell_type": "code",
   "execution_count": 38,
   "metadata": {},
   "outputs": [
    {
     "data": {
      "text/html": [
       "<div>\n",
       "<style scoped>\n",
       "    .dataframe tbody tr th:only-of-type {\n",
       "        vertical-align: middle;\n",
       "    }\n",
       "\n",
       "    .dataframe tbody tr th {\n",
       "        vertical-align: top;\n",
       "    }\n",
       "\n",
       "    .dataframe thead th {\n",
       "        text-align: right;\n",
       "    }\n",
       "</style>\n",
       "<table border=\"1\" class=\"dataframe\">\n",
       "  <thead>\n",
       "    <tr style=\"text-align: right;\">\n",
       "      <th></th>\n",
       "      <th>type</th>\n",
       "      <th>accuracy</th>\n",
       "      <th>recall</th>\n",
       "      <th>precision</th>\n",
       "      <th>f1</th>\n",
       "      <th>auc-roc</th>\n",
       "    </tr>\n",
       "  </thead>\n",
       "  <tbody>\n",
       "    <tr>\n",
       "      <td>rf_n1</td>\n",
       "      <td>valid</td>\n",
       "      <td>0.85</td>\n",
       "      <td>0.578947</td>\n",
       "      <td>0.611111</td>\n",
       "      <td>0.594595</td>\n",
       "      <td>0.839142</td>\n",
       "    </tr>\n",
       "    <tr>\n",
       "      <td>rf_n1</td>\n",
       "      <td>test</td>\n",
       "      <td>0.8475</td>\n",
       "      <td>0.595349</td>\n",
       "      <td>0.661499</td>\n",
       "      <td>0.626683</td>\n",
       "      <td>0.860259</td>\n",
       "    </tr>\n",
       "    <tr>\n",
       "      <td>rf_n1</td>\n",
       "      <td>test2</td>\n",
       "      <td>0.851</td>\n",
       "      <td>0.623256</td>\n",
       "      <td>0.663366</td>\n",
       "      <td>0.642686</td>\n",
       "      <td>0.863868</td>\n",
       "    </tr>\n",
       "  </tbody>\n",
       "</table>\n",
       "</div>"
      ],
      "text/plain": [
       "        type accuracy    recall precision        f1   auc-roc\n",
       "rf_n1  valid     0.85  0.578947  0.611111  0.594595  0.839142\n",
       "rf_n1   test   0.8475  0.595349  0.661499  0.626683  0.860259\n",
       "rf_n1  test2    0.851  0.623256  0.663366  0.642686  0.863868"
      ]
     },
     "execution_count": 38,
     "metadata": {},
     "output_type": "execute_result"
    }
   ],
   "source": [
    "df_metrics.loc['rf_n1']"
   ]
  },
  {
   "cell_type": "markdown",
   "metadata": {},
   "source": [
    "По значимости, в ТОП-3 входят следующие параметры:\n",
    "- возраст клиента;\n",
    "- количество продуктов банка, используемых клиентом;\n",
    "- баланс на счете."
   ]
  }
 ],
 "metadata": {
  "ExecuteTimeLog": [
   {
    "duration": 3078,
    "start_time": "2021-07-18T22:31:20.983Z"
   },
   {
    "duration": 130,
    "start_time": "2021-07-18T22:31:24.065Z"
   },
   {
    "duration": 8,
    "start_time": "2021-07-18T22:31:24.199Z"
   },
   {
    "duration": 21,
    "start_time": "2021-07-18T22:31:24.211Z"
   },
   {
    "duration": 1239,
    "start_time": "2021-07-18T22:31:24.235Z"
   },
   {
    "duration": 27,
    "start_time": "2021-07-18T22:31:25.478Z"
   },
   {
    "duration": 66,
    "start_time": "2021-07-18T22:31:25.508Z"
   },
   {
    "duration": 20,
    "start_time": "2021-07-18T22:31:25.580Z"
   },
   {
    "duration": 10,
    "start_time": "2021-07-18T22:31:25.604Z"
   },
   {
    "duration": 72,
    "start_time": "2021-07-18T22:31:25.616Z"
   },
   {
    "duration": 9,
    "start_time": "2021-07-18T22:31:25.690Z"
   },
   {
    "duration": 6,
    "start_time": "2021-07-18T22:31:25.701Z"
   },
   {
    "duration": 265,
    "start_time": "2021-07-18T22:31:25.710Z"
   },
   {
    "duration": 8,
    "start_time": "2021-07-18T22:31:25.978Z"
   },
   {
    "duration": 141,
    "start_time": "2021-07-18T22:31:25.989Z"
   },
   {
    "duration": 5,
    "start_time": "2021-07-18T22:31:26.133Z"
   },
   {
    "duration": 823520,
    "start_time": "2021-07-18T22:31:26.141Z"
   },
   {
    "duration": 915,
    "start_time": "2021-07-18T22:45:09.668Z"
   },
   {
    "duration": 390,
    "start_time": "2021-07-18T22:45:10.586Z"
   },
   {
    "duration": 6,
    "start_time": "2021-07-18T22:45:10.978Z"
   },
   {
    "duration": 6,
    "start_time": "2021-07-18T22:45:10.987Z"
   },
   {
    "duration": 75,
    "start_time": "2021-07-18T22:45:10.996Z"
   },
   {
    "duration": 492,
    "start_time": "2021-07-18T22:45:11.075Z"
   },
   {
    "duration": 246,
    "start_time": "2021-07-18T22:45:11.570Z"
   },
   {
    "duration": 410,
    "start_time": "2021-07-18T22:45:11.818Z"
   },
   {
    "duration": 1209474,
    "start_time": "2021-07-18T22:45:12.230Z"
   },
   {
    "duration": 433902,
    "start_time": "2021-07-18T23:05:21.706Z"
   },
   {
    "duration": 784118,
    "start_time": "2021-07-18T23:12:35.611Z"
   },
   {
    "duration": 755,
    "start_time": "2021-07-18T23:25:39.731Z"
   },
   {
    "duration": 801,
    "start_time": "2021-07-18T23:25:40.489Z"
   },
   {
    "duration": 806,
    "start_time": "2021-07-18T23:25:41.292Z"
   },
   {
    "duration": 23,
    "start_time": "2021-07-18T23:25:42.101Z"
   },
   {
    "duration": 159,
    "start_time": "2021-07-18T23:25:42.126Z"
   },
   {
    "duration": 578,
    "start_time": "2021-07-18T23:25:42.289Z"
   },
   {
    "duration": 502,
    "start_time": "2021-07-18T23:25:42.870Z"
   },
   {
    "duration": 498,
    "start_time": "2021-07-18T23:25:43.375Z"
   },
   {
    "duration": 997,
    "start_time": "2021-07-18T23:25:43.877Z"
   },
   {
    "duration": 21,
    "start_time": "2021-07-18T23:25:44.877Z"
   }
  ],
  "kernelspec": {
   "display_name": "Python 3",
   "language": "python",
   "name": "python3"
  },
  "language_info": {
   "codemirror_mode": {
    "name": "ipython",
    "version": 3
   },
   "file_extension": ".py",
   "mimetype": "text/x-python",
   "name": "python",
   "nbconvert_exporter": "python",
   "pygments_lexer": "ipython3",
   "version": "3.7.8"
  },
  "toc": {
   "base_numbering": 1,
   "nav_menu": {},
   "number_sections": true,
   "sideBar": true,
   "skip_h1_title": true,
   "title_cell": "Table of Contents",
   "title_sidebar": "Contents",
   "toc_cell": false,
   "toc_position": {},
   "toc_section_display": true,
   "toc_window_display": true
  }
 },
 "nbformat": 4,
 "nbformat_minor": 2
}
