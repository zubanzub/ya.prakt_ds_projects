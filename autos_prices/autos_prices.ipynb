{
 "cells": [
  {
   "cell_type": "markdown",
   "metadata": {},
   "source": [
    "# Определение стоимости автомобилей"
   ]
  },
  {
   "cell_type": "markdown",
   "metadata": {},
   "source": [
    "### Введение\n",
    "\n",
    "**Цель проекта**: построение модели для определения рыночной стоимости автомобилей с пробегом.\n",
    "\n",
    "**Входные данные** \n",
    "\n",
    "Информация об автомобилях (технические характеристики, комплектация и цены) находится в файле: `/datasets/autos.csv`\n",
    "\n",
    "\n",
    "***Признаки***\n",
    "- *DateCrawled* — дата скачивания анкеты из базы;\n",
    "- *VehicleType* — тип автомобильного кузова;\n",
    "- *RegistrationYear* — год регистрации автомобиля;\n",
    "- *Gearbox* — тип коробки передач;\n",
    "- *Power* — мощность (л. с.);\n",
    "- *Model* — модель автомобиля;\n",
    "- *Kilometer* — пробег (км);\n",
    "- *RegistrationMonth* — месяц регистрации автомобиля;\n",
    "- *FuelType* — тип топлива;\n",
    "- *Brand* — марка автомобиля;\n",
    "- *NotRepaired* — была машина в ремонте или нет;\n",
    "- *DateCreated* — дата создания анкеты;\n",
    "- *NumberOfPictures* — количество фотографий автомобиля;\n",
    "- *PostalCode* — почтовый индекс владельца анкеты (пользователя);\n",
    "- *LastSeen* — дата последней активности пользователя\n",
    "\n",
    "***Целевой признак***\n",
    "- *Price* — цена (евро)"
   ]
  },
  {
   "cell_type": "markdown",
   "metadata": {},
   "source": [
    "## Подготовка данных"
   ]
  },
  {
   "cell_type": "code",
   "execution_count": 51,
   "metadata": {},
   "outputs": [],
   "source": [
    "# Импортируем библиотеки, которые нам понадобятся в дальнейшем:\n",
    "import pandas as pd\n",
    "import numpy as np\n",
    "import datetime as dt\n",
    "import math\n",
    "import matplotlib.pyplot as plt\n",
    "import lightgbm as lgb\n",
    "from scipy import stats as st\n",
    "import plotly.express as px\n",
    "import plotly.graph_objects as go\n",
    "import seaborn as sns\n",
    "from IPython.core.display import HTML\n",
    "from datetime import datetime, timedelta\n",
    "from sklearn.pipeline import Pipeline\n",
    "from lightgbm import LGBMRegressor\n",
    "from catboost import Pool, CatBoostRegressor, CatBoost, cv\n",
    "import warnings\n",
    "\n",
    "# sklearn\n",
    "from sklearn.model_selection import train_test_split, cross_validate, GridSearchCV, cross_val_score\n",
    "from sklearn.linear_model import LinearRegression\n",
    "from sklearn.tree import DecisionTreeRegressor\n",
    "from sklearn.ensemble import RandomForestRegressor\n",
    "from sklearn.metrics import mean_squared_error, r2_score, mean_absolute_error, make_scorer\n",
    "from sklearn.preprocessing import StandardScaler, OrdinalEncoder, MinMaxScaler\n",
    "from sklearn.utils import shuffle\n",
    "from sklearn.compose import ColumnTransformer\n",
    "from sklearn.multioutput import MultiOutputRegressor"
   ]
  },
  {
   "cell_type": "markdown",
   "metadata": {},
   "source": [
    "Прочтем предоставленный файл и сохраним DataFrame в соответствующей переменной. Выведем и изучим общую информацию о полученных данных, проверим корректность названий столбцов, количество пропусков и дубликатов:"
   ]
  },
  {
   "cell_type": "code",
   "execution_count": 2,
   "metadata": {},
   "outputs": [
    {
     "name": "stdout",
     "output_type": "stream",
     "text": [
      "<class 'pandas.core.frame.DataFrame'>\n",
      "RangeIndex: 354369 entries, 0 to 354368\n",
      "Data columns (total 16 columns):\n",
      "DateCrawled          354369 non-null object\n",
      "Price                354369 non-null int64\n",
      "VehicleType          316879 non-null object\n",
      "RegistrationYear     354369 non-null int64\n",
      "Gearbox              334536 non-null object\n",
      "Power                354369 non-null int64\n",
      "Model                334664 non-null object\n",
      "Kilometer            354369 non-null int64\n",
      "RegistrationMonth    354369 non-null int64\n",
      "FuelType             321474 non-null object\n",
      "Brand                354369 non-null object\n",
      "NotRepaired          283215 non-null object\n",
      "DateCreated          354369 non-null object\n",
      "NumberOfPictures     354369 non-null int64\n",
      "PostalCode           354369 non-null int64\n",
      "LastSeen             354369 non-null object\n",
      "dtypes: int64(7), object(9)\n",
      "memory usage: 43.3+ MB\n",
      "\n",
      "Index(['DateCrawled', 'Price', 'VehicleType', 'RegistrationYear', 'Gearbox',\n",
      "       'Power', 'Model', 'Kilometer', 'RegistrationMonth', 'FuelType', 'Brand',\n",
      "       'NotRepaired', 'DateCreated', 'NumberOfPictures', 'PostalCode',\n",
      "       'LastSeen'],\n",
      "      dtype='object')\n",
      "\n"
     ]
    },
    {
     "data": {
      "text/html": [
       "<div>\n",
       "<style scoped>\n",
       "    .dataframe tbody tr th:only-of-type {\n",
       "        vertical-align: middle;\n",
       "    }\n",
       "\n",
       "    .dataframe tbody tr th {\n",
       "        vertical-align: top;\n",
       "    }\n",
       "\n",
       "    .dataframe thead th {\n",
       "        text-align: right;\n",
       "    }\n",
       "</style>\n",
       "<table border=\"1\" class=\"dataframe\">\n",
       "  <thead>\n",
       "    <tr style=\"text-align: right;\">\n",
       "      <th></th>\n",
       "      <th>DateCrawled</th>\n",
       "      <th>Price</th>\n",
       "      <th>VehicleType</th>\n",
       "      <th>RegistrationYear</th>\n",
       "      <th>Gearbox</th>\n",
       "      <th>Power</th>\n",
       "      <th>Model</th>\n",
       "      <th>Kilometer</th>\n",
       "      <th>RegistrationMonth</th>\n",
       "      <th>FuelType</th>\n",
       "      <th>Brand</th>\n",
       "      <th>NotRepaired</th>\n",
       "      <th>DateCreated</th>\n",
       "      <th>NumberOfPictures</th>\n",
       "      <th>PostalCode</th>\n",
       "      <th>LastSeen</th>\n",
       "    </tr>\n",
       "  </thead>\n",
       "  <tbody>\n",
       "    <tr>\n",
       "      <td>0</td>\n",
       "      <td>2016-03-24 11:52:17</td>\n",
       "      <td>480</td>\n",
       "      <td>NaN</td>\n",
       "      <td>1993</td>\n",
       "      <td>manual</td>\n",
       "      <td>0</td>\n",
       "      <td>golf</td>\n",
       "      <td>150000</td>\n",
       "      <td>0</td>\n",
       "      <td>petrol</td>\n",
       "      <td>volkswagen</td>\n",
       "      <td>NaN</td>\n",
       "      <td>2016-03-24 00:00:00</td>\n",
       "      <td>0</td>\n",
       "      <td>70435</td>\n",
       "      <td>2016-04-07 03:16:57</td>\n",
       "    </tr>\n",
       "    <tr>\n",
       "      <td>1</td>\n",
       "      <td>2016-03-24 10:58:45</td>\n",
       "      <td>18300</td>\n",
       "      <td>coupe</td>\n",
       "      <td>2011</td>\n",
       "      <td>manual</td>\n",
       "      <td>190</td>\n",
       "      <td>NaN</td>\n",
       "      <td>125000</td>\n",
       "      <td>5</td>\n",
       "      <td>gasoline</td>\n",
       "      <td>audi</td>\n",
       "      <td>yes</td>\n",
       "      <td>2016-03-24 00:00:00</td>\n",
       "      <td>0</td>\n",
       "      <td>66954</td>\n",
       "      <td>2016-04-07 01:46:50</td>\n",
       "    </tr>\n",
       "    <tr>\n",
       "      <td>2</td>\n",
       "      <td>2016-03-14 12:52:21</td>\n",
       "      <td>9800</td>\n",
       "      <td>suv</td>\n",
       "      <td>2004</td>\n",
       "      <td>auto</td>\n",
       "      <td>163</td>\n",
       "      <td>grand</td>\n",
       "      <td>125000</td>\n",
       "      <td>8</td>\n",
       "      <td>gasoline</td>\n",
       "      <td>jeep</td>\n",
       "      <td>NaN</td>\n",
       "      <td>2016-03-14 00:00:00</td>\n",
       "      <td>0</td>\n",
       "      <td>90480</td>\n",
       "      <td>2016-04-05 12:47:46</td>\n",
       "    </tr>\n",
       "    <tr>\n",
       "      <td>3</td>\n",
       "      <td>2016-03-17 16:54:04</td>\n",
       "      <td>1500</td>\n",
       "      <td>small</td>\n",
       "      <td>2001</td>\n",
       "      <td>manual</td>\n",
       "      <td>75</td>\n",
       "      <td>golf</td>\n",
       "      <td>150000</td>\n",
       "      <td>6</td>\n",
       "      <td>petrol</td>\n",
       "      <td>volkswagen</td>\n",
       "      <td>no</td>\n",
       "      <td>2016-03-17 00:00:00</td>\n",
       "      <td>0</td>\n",
       "      <td>91074</td>\n",
       "      <td>2016-03-17 17:40:17</td>\n",
       "    </tr>\n",
       "    <tr>\n",
       "      <td>4</td>\n",
       "      <td>2016-03-31 17:25:20</td>\n",
       "      <td>3600</td>\n",
       "      <td>small</td>\n",
       "      <td>2008</td>\n",
       "      <td>manual</td>\n",
       "      <td>69</td>\n",
       "      <td>fabia</td>\n",
       "      <td>90000</td>\n",
       "      <td>7</td>\n",
       "      <td>gasoline</td>\n",
       "      <td>skoda</td>\n",
       "      <td>no</td>\n",
       "      <td>2016-03-31 00:00:00</td>\n",
       "      <td>0</td>\n",
       "      <td>60437</td>\n",
       "      <td>2016-04-06 10:17:21</td>\n",
       "    </tr>\n",
       "  </tbody>\n",
       "</table>\n",
       "</div>"
      ],
      "text/plain": [
       "           DateCrawled  Price VehicleType  RegistrationYear Gearbox  Power  \\\n",
       "0  2016-03-24 11:52:17    480         NaN              1993  manual      0   \n",
       "1  2016-03-24 10:58:45  18300       coupe              2011  manual    190   \n",
       "2  2016-03-14 12:52:21   9800         suv              2004    auto    163   \n",
       "3  2016-03-17 16:54:04   1500       small              2001  manual     75   \n",
       "4  2016-03-31 17:25:20   3600       small              2008  manual     69   \n",
       "\n",
       "   Model  Kilometer  RegistrationMonth  FuelType       Brand NotRepaired  \\\n",
       "0   golf     150000                  0    petrol  volkswagen         NaN   \n",
       "1    NaN     125000                  5  gasoline        audi         yes   \n",
       "2  grand     125000                  8  gasoline        jeep         NaN   \n",
       "3   golf     150000                  6    petrol  volkswagen          no   \n",
       "4  fabia      90000                  7  gasoline       skoda          no   \n",
       "\n",
       "           DateCreated  NumberOfPictures  PostalCode             LastSeen  \n",
       "0  2016-03-24 00:00:00                 0       70435  2016-04-07 03:16:57  \n",
       "1  2016-03-24 00:00:00                 0       66954  2016-04-07 01:46:50  \n",
       "2  2016-03-14 00:00:00                 0       90480  2016-04-05 12:47:46  \n",
       "3  2016-03-17 00:00:00                 0       91074  2016-03-17 17:40:17  \n",
       "4  2016-03-31 00:00:00                 0       60437  2016-04-06 10:17:21  "
      ]
     },
     "metadata": {},
     "output_type": "display_data"
    },
    {
     "name": "stdout",
     "output_type": "stream",
     "text": [
      "\n",
      "Количество пропусков:\n",
      "DateCrawled              0\n",
      "Price                    0\n",
      "VehicleType          37490\n",
      "RegistrationYear         0\n",
      "Gearbox              19833\n",
      "Power                    0\n",
      "Model                19705\n",
      "Kilometer                0\n",
      "RegistrationMonth        0\n",
      "FuelType             32895\n",
      "Brand                    0\n",
      "NotRepaired          71154\n",
      "DateCreated              0\n",
      "NumberOfPictures         0\n",
      "PostalCode               0\n",
      "LastSeen                 0\n",
      "dtype: int64\n",
      "\n",
      "Количество дубликатов: 4\n"
     ]
    }
   ],
   "source": [
    "data_autos = pd.read_csv('/datasets/autos.csv')\n",
    "data_autos.info()\n",
    "print()\n",
    "print(data_autos.columns)\n",
    "print()\n",
    "display(data_autos.head())\n",
    "print()\n",
    "print('Количество пропусков:')\n",
    "print(data_autos.isna().sum())\n",
    "print()\n",
    "print('Количество дубликатов:', data_autos.duplicated().sum())"
   ]
  },
  {
   "cell_type": "markdown",
   "metadata": {},
   "source": [
    "Приведем наименования столбцов к удобному для работы формату (изменим на формат на snake case):"
   ]
  },
  {
   "cell_type": "code",
   "execution_count": 3,
   "metadata": {},
   "outputs": [
    {
     "name": "stdout",
     "output_type": "stream",
     "text": [
      "Index(['date_crawled', 'price', 'vehicle_type', 'registration_year', 'gearbox',\n",
      "       'power', 'model', 'kilometer', 'registration_month', 'fuel_type',\n",
      "       'brand', 'not_repaired', 'date_created', 'number_of_pictures',\n",
      "       'postal_code', 'last_seen'],\n",
      "      dtype='object')\n"
     ]
    }
   ],
   "source": [
    "data_autos.set_axis(['date_crawled', 'price', 'vehicle_type', 'registration_year', 'gearbox',\n",
    "                     'power', 'model', 'kilometer', 'registration_month', 'fuel_type', \n",
    "                     'brand', 'not_repaired', 'date_created', 'number_of_pictures', \n",
    "                     'postal_code', 'last_seen'], axis='columns', inplace=True)\n",
    "print(data_autos.columns)"
   ]
  },
  {
   "cell_type": "markdown",
   "metadata": {},
   "source": [
    "Устраним полные дубликаты, поскольку высока вероятность их возникновения в результате технических ошибок:"
   ]
  },
  {
   "cell_type": "code",
   "execution_count": 4,
   "metadata": {
    "scrolled": true
   },
   "outputs": [
    {
     "name": "stdout",
     "output_type": "stream",
     "text": [
      "(354365, 16)\n"
     ]
    }
   ],
   "source": [
    "data_autos = data_autos.drop_duplicates().reset_index(drop=True)\n",
    "print(data_autos.shape)"
   ]
  },
  {
   "cell_type": "markdown",
   "metadata": {},
   "source": [
    "Рассмотрим пропуски и возможности их устранения"
   ]
  },
  {
   "cell_type": "code",
   "execution_count": 5,
   "metadata": {},
   "outputs": [],
   "source": [
    "# Составим функцию для проверки уникальных и пропущенных значений:\n",
    "def lost_data(data, column):\n",
    "    print(column)\n",
    "    print(data[column].unique())\n",
    "    print(data[column].value_counts())\n",
    "    print()"
   ]
  },
  {
   "cell_type": "code",
   "execution_count": 6,
   "metadata": {
    "scrolled": true
   },
   "outputs": [
    {
     "name": "stdout",
     "output_type": "stream",
     "text": [
      "date_crawled\n",
      "['2016-03-24 11:52:17' '2016-03-24 10:58:45' '2016-03-14 12:52:21' ...\n",
      " '2016-03-21 09:50:58' '2016-03-14 17:48:27' '2016-03-19 18:57:12']\n",
      "2016-03-24 14:49:47    7\n",
      "2016-03-26 22:57:31    6\n",
      "2016-03-19 21:49:56    6\n",
      "2016-03-22 14:50:05    5\n",
      "2016-03-22 10:42:10    5\n",
      "                      ..\n",
      "2016-03-15 18:49:27    1\n",
      "2016-03-09 14:48:54    1\n",
      "2016-03-22 16:25:17    1\n",
      "2016-03-25 22:51:28    1\n",
      "2016-03-20 18:47:46    1\n",
      "Name: date_crawled, Length: 271174, dtype: int64\n",
      "\n",
      "price\n",
      "[  480 18300  9800 ... 12395 18429 10985]\n",
      "0        10772\n",
      "500       5670\n",
      "1500      5394\n",
      "1000      4648\n",
      "1200      4594\n",
      "         ...  \n",
      "13440        1\n",
      "1414         1\n",
      "8069         1\n",
      "10370        1\n",
      "384          1\n",
      "Name: price, Length: 3731, dtype: int64\n",
      "\n",
      "vehicle_type\n",
      "[nan 'coupe' 'suv' 'small' 'sedan' 'convertible' 'bus' 'wagon' 'other']\n",
      "sedan          91457\n",
      "small          79830\n",
      "wagon          65165\n",
      "bus            28775\n",
      "convertible    20203\n",
      "coupe          16161\n",
      "suv            11996\n",
      "other           3288\n",
      "Name: vehicle_type, dtype: int64\n",
      "\n",
      "registration_year\n",
      "[1993 2011 2004 2001 2008 1995 1980 2014 1998 2005 1910 2016 2007 2009\n",
      " 2002 2018 1997 1990 2017 1981 2003 1994 1991 1984 2006 1999 2012 2010\n",
      " 2000 1992 2013 1996 1985 1989 2015 1982 1976 1983 1973 1111 1969 1971\n",
      " 1987 1986 1988 1970 1965 1945 1925 1974 1979 1955 1978 1972 1968 1977\n",
      " 1961 1960 1966 1975 1963 1964 5000 1954 1958 1967 1959 9999 1956 3200\n",
      " 1000 1941 8888 1500 2200 4100 1962 1929 1957 1940 3000 2066 1949 2019\n",
      " 1937 1951 1800 1953 1234 8000 5300 9000 2900 6000 5900 5911 1933 1400\n",
      " 1950 4000 1948 1952 1200 8500 1932 1255 3700 3800 4800 1942 7000 1935\n",
      " 1936 6500 1923 2290 2500 1930 1001 9450 1944 1943 1934 1938 1688 2800\n",
      " 1253 1928 1919 5555 5600 1600 2222 1039 9996 1300 8455 1931 1915 4500\n",
      " 1920 1602 7800 9229 1947 1927 7100 8200 1946 7500 3500]\n",
      "2000    24490\n",
      "1999    22727\n",
      "2005    22109\n",
      "2001    20123\n",
      "2006    19900\n",
      "        ...  \n",
      "3200        1\n",
      "1920        1\n",
      "1919        1\n",
      "1915        1\n",
      "8455        1\n",
      "Name: registration_year, Length: 151, dtype: int64\n",
      "\n",
      "gearbox\n",
      "['manual' 'auto' nan]\n",
      "manual    268249\n",
      "auto       66283\n",
      "Name: gearbox, dtype: int64\n",
      "\n",
      "power\n",
      "[    0   190   163    75    69   102   109    50   125   101   105   140\n",
      "   115   131    60   136   160   231    90   118   193    99   113   218\n",
      "   122   129    70   306    95    61   177    80   170    55   143    64\n",
      "   286   232   150   156    82   155    54   185    87   180    86    84\n",
      "   224   235   200   178   265    77   110   144   120   116   184   126\n",
      "   204    88   194   305   197   179   250    45   313    41   165    98\n",
      "   130   114   211    56   201   213    58   107    83   174   100   220\n",
      "    85    73   192    68    66   299    74    52   147    65   310    71\n",
      "    97   239   203     5   300   103   258   320    63    81   148    44\n",
      "   145   230   280   260   104   188   333   186   117   141    59   132\n",
      "   234   158    39    92    51   135    53   209    43   146    67   106\n",
      "   166   276   344    72   249   237   245   111   326   279    23   138\n",
      "   175    96   226    26    37   301   334   128   133   124    33   219\n",
      "   241   167    94   182   196   238  1398   228   112    48   272   139\n",
      "  1799    40   240    79   256   360   243   375   252   396   340   108\n",
      "   121   345   187   289   222   198   284   450   233   387   152   347\n",
      "   172    57   137   212   476   314    30     7    47   173   290   207\n",
      "   205   171   750    78    91    89   349   325    76   151   350   953\n",
      "    93   142   500   343   199   119   164    16   264   367   208   210\n",
      "    46   435  1001   225   127   176   161   603   307   354    35   206\n",
      "   771   355   273   223   255   123   154   149  7515  1400   268   620\n",
      "   169   400   275    34     2   242  1779   285   162   328  1753   329\n",
      "   134   420   247   168 10317   215    18   330   283    62    10   214\n",
      "   183   254    15   321   322   315   952   600   181   426   599   379\n",
      "   999    22   157    42   195   553     4   309   507   381   271   440\n",
      "   189   401  1111  2729    21   236  1240  1704   521     1  1900   270\n",
      "    24   159   292   808   515  1200   303    29    38  1993    14   216\n",
      "   610   504    49   267   331   363   261   385  1011   253   696 10520\n",
      "   376   227   311    27   217    20  1999    11  1056    25   394    12\n",
      "   298   296  1659   294   551  6920   246    17  1800  1625   368   390\n",
      "   221  1367   259   606   327  2017  1597   266   374   392     9   405\n",
      "    13   262   601   430   295     8   411   900   541  7512   382 10218\n",
      "  7544  1102   287    19   751   297  1090   457   282   602   388     6\n",
      "  1000  5411   335  1360   202  3750   805  1062  1024 11530   364  1796\n",
      "  5000   269   460  1002   288  1780 12012 17932   316  2005  1399   191\n",
      "   278  1300   380   257   449  1256   153  1653   520   560   281 12510\n",
      "     3  1500   386    32  1202  2016  1436  1405   671   274  1288  1055\n",
      " 10912 15016  6226  1115   277  1105   341  1223  2340  8404  1968   338\n",
      "   445  1920   370   517  4400 10710 10522  9010   431  1164 11509   371\n",
      "  1501   428 11635    36   304   348  1703  1910  1995   579 10000   580\n",
      "   408    31  1005   358  1403   489  5575 19211   585   960   365   353\n",
      "   490   352  1801   346   550  3199   800  7508  1312   357  1937   950\n",
      "  4700  1600  3454 19208   251   850   337   700  8011  2331  2789   487\n",
      "   519  2461  6006  3500  5815  6018  1781  1503   612  1596   229  1506\n",
      "  5809 15020  5867  2172  1598 17410  1363   584  1054   851  1339   318\n",
      "   510   525  1700    28  1151   685  6011   317   703  1771 15001   514\n",
      "   362   332   324  6045   530   425   308  6010   475   903   640  2000\n",
      "   248   651  2799 17011   505  1103  1521   351 16051   398  9000  1998\n",
      " 10311   409  1230 17019 12684  8259  1895   901  1317   871   909  2201\n",
      "  1595   776 17700 11011  1199   459  1162  1120 15033  1896   339   361\n",
      "   574  6512   454   650 13616   604   607 16312  1082   336 20000   416\n",
      "   678  6012  1401  1021  1870 13636  1250  9710   323  1158  2009   902\n",
      "  6062  1275   572   244   399  1016   743  1221  2402 16011  1362   544\n",
      "   645   907   702 12512  1986  1003  1432  9013  9011   442  1017  1394\n",
      " 15017 10910  1992   540  2018 11025  1433  1701  2792  1502  1239  1390\n",
      " 14009  1160  1351 11111  1783  9007   923  1149   754  1988   402  2004\n",
      "  5420  1793  1324   356  7511  1299   293 19312  1079  1689   998  1100\n",
      "  9012  1933   508 16311   682  1252  1922  7529   732  2389  2200  1707\n",
      "  1416  8500  1012   485  3000 10110   421  4507  1631  7518   377  1004\n",
      "  2007  2598  1548  1241]\n",
      "0        40225\n",
      "75       24023\n",
      "60       15897\n",
      "150      14590\n",
      "101      13298\n",
      "         ...  \n",
      "16311        1\n",
      "1360         1\n",
      "1968         1\n",
      "6226         1\n",
      "6006         1\n",
      "Name: power, Length: 712, dtype: int64\n",
      "\n",
      "model\n",
      "['golf' nan 'grand' 'fabia' '3er' '2_reihe' 'other' 'c_max' '3_reihe'\n",
      " 'passat' 'navara' 'ka' 'polo' 'twingo' 'a_klasse' 'scirocco' '5er'\n",
      " 'meriva' 'arosa' 'c4' 'civic' 'transporter' 'punto' 'e_klasse' 'clio'\n",
      " 'kadett' 'kangoo' 'corsa' 'one' 'fortwo' '1er' 'b_klasse' 'signum'\n",
      " 'astra' 'a8' 'jetta' 'fiesta' 'c_klasse' 'micra' 'vito' 'sprinter' '156'\n",
      " 'escort' 'forester' 'xc_reihe' 'scenic' 'a4' 'a1' 'insignia' 'combo'\n",
      " 'focus' 'tt' 'a6' 'jazz' 'omega' 'slk' '7er' '80' '147' '100' 'z_reihe'\n",
      " 'sportage' 'sorento' 'v40' 'ibiza' 'mustang' 'eos' 'touran' 'getz' 'a3'\n",
      " 'almera' 'megane' 'lupo' 'r19' 'zafira' 'caddy' 'mondeo' 'cordoba' 'colt'\n",
      " 'impreza' 'vectra' 'berlingo' 'tiguan' 'i_reihe' 'espace' 'sharan'\n",
      " '6_reihe' 'panda' 'up' 'seicento' 'ceed' '5_reihe' 'yeti' 'octavia' 'mii'\n",
      " 'rx_reihe' '6er' 'modus' 'fox' 'matiz' 'beetle' 'c1' 'rio' 'touareg'\n",
      " 'logan' 'spider' 'cuore' 's_max' 'a2' 'galaxy' 'c3' 'viano' 's_klasse'\n",
      " '1_reihe' 'avensis' 'roomster' 'sl' 'kaefer' 'santa' 'cooper' 'leon'\n",
      " '4_reihe' 'a5' '500' 'laguna' 'ptcruiser' 'clk' 'primera' 'x_reihe'\n",
      " 'exeo' '159' 'transit' 'juke' 'qashqai' 'carisma' 'accord' 'corolla'\n",
      " 'lanos' 'phaeton' 'verso' 'swift' 'rav' 'picanto' 'boxster' 'kalos'\n",
      " 'superb' 'stilo' 'alhambra' 'mx_reihe' 'roadster' 'ypsilon' 'cayenne'\n",
      " 'galant' 'justy' '90' 'sirion' 'crossfire' 'agila' 'duster' 'cr_reihe'\n",
      " 'v50' 'c_reihe' 'v_klasse' 'm_klasse' 'yaris' 'c5' 'aygo' 'cc' 'carnival'\n",
      " 'fusion' '911' 'bora' 'forfour' 'm_reihe' 'cl' 'tigra' '300c' 'spark'\n",
      " 'v70' 'kuga' 'x_type' 'ducato' 's_type' 'x_trail' 'toledo' 'altea'\n",
      " 'voyager' 'calibra' 'bravo' 'antara' 'tucson' 'citigo' 'jimny' 'wrangler'\n",
      " 'lybra' 'q7' 'lancer' 'captiva' 'c2' 'discovery' 'freelander' 'sandero'\n",
      " 'note' '900' 'cherokee' 'clubman' 'samara' 'defender' '601' 'cx_reihe'\n",
      " 'legacy' 'pajero' 'auris' 'niva' 's60' 'nubira' 'vivaro' 'g_klasse'\n",
      " 'lodgy' '850' 'range_rover' 'q3' 'serie_2' 'glk' 'charade' 'croma'\n",
      " 'outlander' 'doblo' 'musa' 'move' '9000' 'v60' '145' 'aveo' '200' 'b_max'\n",
      " 'range_rover_sport' 'terios' 'rangerover' 'q5' 'range_rover_evoque'\n",
      " 'materia' 'delta' 'gl' 'kalina' 'amarok' 'elefantino' 'i3' 'kappa'\n",
      " 'serie_3' 'serie_1']\n",
      "golf                  29232\n",
      "other                 24420\n",
      "3er                   19761\n",
      "polo                  13066\n",
      "corsa                 12570\n",
      "                      ...  \n",
      "i3                        8\n",
      "rangerover                4\n",
      "serie_3                   4\n",
      "range_rover_evoque        2\n",
      "serie_1                   2\n",
      "Name: model, Length: 250, dtype: int64\n",
      "\n",
      "kilometer\n",
      "[150000 125000  90000  40000  30000  70000   5000 100000  60000  20000\n",
      "  80000  50000  10000]\n",
      "150000    238207\n",
      "125000     36453\n",
      "100000     14882\n",
      "90000      11567\n",
      "80000      10047\n",
      "70000       8593\n",
      "60000       7444\n",
      "5000        6397\n",
      "50000       6232\n",
      "40000       4911\n",
      "30000       4436\n",
      "20000       3974\n",
      "10000       1222\n",
      "Name: kilometer, dtype: int64\n",
      "\n",
      "registration_month\n",
      "[ 0  5  8  6  7 10 12 11  2  3  1  4  9]\n",
      "0     37352\n",
      "3     34373\n",
      "6     31507\n",
      "4     29270\n",
      "5     29153\n",
      "7     27211\n",
      "10    26099\n",
      "12    24289\n",
      "11    24186\n",
      "9     23813\n",
      "1     23218\n",
      "8     22627\n",
      "2     21267\n",
      "Name: registration_month, dtype: int64\n",
      "\n",
      "fuel_type\n",
      "['petrol' 'gasoline' nan 'lpg' 'other' 'hybrid' 'cng' 'electric']\n",
      "petrol      216349\n",
      "gasoline     98719\n",
      "lpg           5310\n",
      "cng            565\n",
      "hybrid         233\n",
      "other          204\n",
      "electric        90\n",
      "Name: fuel_type, dtype: int64\n",
      "\n",
      "brand\n",
      "['volkswagen' 'audi' 'jeep' 'skoda' 'bmw' 'peugeot' 'ford' 'mazda'\n",
      " 'nissan' 'renault' 'mercedes_benz' 'opel' 'seat' 'citroen' 'honda' 'fiat'\n",
      " 'mini' 'smart' 'hyundai' 'sonstige_autos' 'alfa_romeo' 'subaru' 'volvo'\n",
      " 'mitsubishi' 'kia' 'suzuki' 'lancia' 'toyota' 'chevrolet' 'dacia'\n",
      " 'daihatsu' 'trabant' 'saab' 'chrysler' 'jaguar' 'daewoo' 'porsche'\n",
      " 'rover' 'land_rover' 'lada']\n",
      "volkswagen        77012\n",
      "opel              39931\n",
      "bmw               36914\n",
      "mercedes_benz     32044\n",
      "audi              29456\n",
      "ford              25179\n",
      "renault           17927\n",
      "peugeot           10998\n",
      "fiat               9643\n",
      "seat               6907\n",
      "mazda              5615\n",
      "skoda              5500\n",
      "smart              5246\n",
      "citroen            5148\n",
      "nissan             4941\n",
      "toyota             4606\n",
      "hyundai            3587\n",
      "sonstige_autos     3374\n",
      "volvo              3210\n",
      "mini               3202\n",
      "mitsubishi         3022\n",
      "honda              2817\n",
      "kia                2465\n",
      "suzuki             2322\n",
      "alfa_romeo         2314\n",
      "chevrolet          1754\n",
      "chrysler           1439\n",
      "dacia               900\n",
      "daihatsu            806\n",
      "subaru              762\n",
      "porsche             758\n",
      "jeep                677\n",
      "trabant             589\n",
      "land_rover          545\n",
      "daewoo              542\n",
      "saab                526\n",
      "jaguar              505\n",
      "rover               486\n",
      "lancia              471\n",
      "lada                225\n",
      "Name: brand, dtype: int64\n",
      "\n",
      "not_repaired\n",
      "[nan 'yes' 'no']\n",
      "no     247158\n",
      "yes     36053\n",
      "Name: not_repaired, dtype: int64\n",
      "\n",
      "date_created\n",
      "['2016-03-24 00:00:00' '2016-03-14 00:00:00' '2016-03-17 00:00:00'\n",
      " '2016-03-31 00:00:00' '2016-04-04 00:00:00' '2016-04-01 00:00:00'\n",
      " '2016-03-21 00:00:00' '2016-03-26 00:00:00' '2016-04-07 00:00:00'\n",
      " '2016-03-15 00:00:00' '2016-03-11 00:00:00' '2016-03-20 00:00:00'\n",
      " '2016-03-23 00:00:00' '2016-03-27 00:00:00' '2016-03-12 00:00:00'\n",
      " '2016-03-13 00:00:00' '2016-03-18 00:00:00' '2016-03-10 00:00:00'\n",
      " '2016-03-07 00:00:00' '2016-03-09 00:00:00' '2016-03-08 00:00:00'\n",
      " '2016-04-03 00:00:00' '2016-03-29 00:00:00' '2016-03-25 00:00:00'\n",
      " '2016-03-28 00:00:00' '2016-03-30 00:00:00' '2016-03-22 00:00:00'\n",
      " '2016-02-09 00:00:00' '2016-03-05 00:00:00' '2016-04-02 00:00:00'\n",
      " '2016-03-16 00:00:00' '2016-03-19 00:00:00' '2016-04-05 00:00:00'\n",
      " '2016-03-06 00:00:00' '2016-02-12 00:00:00' '2016-03-03 00:00:00'\n",
      " '2016-03-01 00:00:00' '2016-03-04 00:00:00' '2016-04-06 00:00:00'\n",
      " '2016-02-15 00:00:00' '2016-02-24 00:00:00' '2016-02-27 00:00:00'\n",
      " '2015-03-20 00:00:00' '2016-02-28 00:00:00' '2016-02-17 00:00:00'\n",
      " '2016-01-27 00:00:00' '2016-02-20 00:00:00' '2016-02-29 00:00:00'\n",
      " '2016-02-10 00:00:00' '2016-02-23 00:00:00' '2016-02-21 00:00:00'\n",
      " '2015-11-02 00:00:00' '2016-02-19 00:00:00' '2016-02-26 00:00:00'\n",
      " '2016-02-11 00:00:00' '2016-01-10 00:00:00' '2016-02-06 00:00:00'\n",
      " '2016-02-18 00:00:00' '2016-01-29 00:00:00' '2016-03-02 00:00:00'\n",
      " '2015-12-06 00:00:00' '2016-01-24 00:00:00' '2016-01-30 00:00:00'\n",
      " '2016-02-02 00:00:00' '2016-02-16 00:00:00' '2016-02-13 00:00:00'\n",
      " '2016-02-05 00:00:00' '2016-02-22 00:00:00' '2015-11-17 00:00:00'\n",
      " '2014-03-10 00:00:00' '2016-02-07 00:00:00' '2016-01-23 00:00:00'\n",
      " '2016-02-25 00:00:00' '2016-02-14 00:00:00' '2016-01-02 00:00:00'\n",
      " '2015-09-04 00:00:00' '2015-11-12 00:00:00' '2015-12-27 00:00:00'\n",
      " '2015-11-24 00:00:00' '2016-01-20 00:00:00' '2016-02-03 00:00:00'\n",
      " '2015-12-05 00:00:00' '2015-08-07 00:00:00' '2016-01-28 00:00:00'\n",
      " '2016-01-31 00:00:00' '2016-02-08 00:00:00' '2016-01-07 00:00:00'\n",
      " '2016-01-22 00:00:00' '2016-01-18 00:00:00' '2016-01-08 00:00:00'\n",
      " '2015-11-23 00:00:00' '2016-01-13 00:00:00' '2016-01-17 00:00:00'\n",
      " '2016-01-15 00:00:00' '2015-11-08 00:00:00' '2016-01-26 00:00:00'\n",
      " '2016-02-04 00:00:00' '2016-01-25 00:00:00' '2016-01-16 00:00:00'\n",
      " '2015-08-10 00:00:00' '2016-01-03 00:00:00' '2016-01-19 00:00:00'\n",
      " '2015-12-30 00:00:00' '2016-02-01 00:00:00' '2015-12-17 00:00:00'\n",
      " '2015-11-10 00:00:00' '2016-01-06 00:00:00' '2015-09-09 00:00:00'\n",
      " '2015-06-18 00:00:00']\n",
      "2016-04-03 00:00:00    13718\n",
      "2016-04-04 00:00:00    13317\n",
      "2016-03-20 00:00:00    12918\n",
      "2016-03-12 00:00:00    12840\n",
      "2016-03-21 00:00:00    12691\n",
      "                       ...  \n",
      "2015-12-27 00:00:00        1\n",
      "2015-11-12 00:00:00        1\n",
      "2015-03-20 00:00:00        1\n",
      "2014-03-10 00:00:00        1\n",
      "2016-01-03 00:00:00        1\n",
      "Name: date_created, Length: 109, dtype: int64\n",
      "\n",
      "number_of_pictures\n",
      "[0]\n",
      "0    354365\n",
      "Name: number_of_pictures, dtype: int64\n",
      "\n",
      "postal_code\n",
      "[70435 66954 90480 ... 38528 38325 31096]\n",
      "10115    819\n",
      "65428    613\n",
      "66333    343\n",
      "44145    317\n",
      "32257    317\n",
      "        ... \n",
      "6725       1\n",
      "6922       1\n",
      "85071      1\n",
      "97528      1\n",
      "63931      1\n",
      "Name: postal_code, Length: 8143, dtype: int64\n",
      "\n",
      "last_seen\n",
      "['2016-04-07 03:16:57' '2016-04-07 01:46:50' '2016-04-05 12:47:46' ...\n",
      " '2016-03-19 20:44:43' '2016-03-29 10:17:23' '2016-03-21 10:42:49']\n",
      "2016-04-06 13:45:54    17\n",
      "2016-04-07 13:17:48    16\n",
      "2016-04-06 01:15:23    16\n",
      "2016-04-06 09:46:00    16\n",
      "2016-04-06 04:15:59    16\n",
      "                       ..\n",
      "2016-04-03 18:15:25     1\n",
      "2016-03-23 20:15:42     1\n",
      "2016-03-11 11:59:22     1\n",
      "2016-03-29 16:55:27     1\n",
      "2016-03-20 03:44:48     1\n",
      "Name: last_seen, Length: 179150, dtype: int64\n",
      "\n"
     ]
    }
   ],
   "source": [
    "for i in data_autos.columns:\n",
    "    lost_data(data_autos, i)"
   ]
  },
  {
   "cell_type": "markdown",
   "metadata": {},
   "source": [
    "***Не требуют обработки***:  \n",
    "- *'price'*: целевой признак. Имеются аномальные нулевые значения, которые можно объяснить тем, что владельцы отдают даром автомобили (вероятно битые и в короткие сроки. достаточно распространенная пркатика на Западе). Ввиду отсутствия дополнительной информации - оставляем без изменений;\n",
    "- *'kilometer'*: пропущенных данных нет, значения адекватны;\n",
    "- *'brand'*: пропущенных данных нет, значения адекватны;\n",
    "\n",
    "\n",
    "***Требуют обработки***:  \n",
    "- *'vehicle_type'*: имеются порядка 10% пропущенных значений, что достаточно много. Из-за невозможности уточнения информации и отсутствия источников для адекватной замены на имеющиеся группы, заполним пропуски категорией 'unknown';\n",
    "- *'registration_year'*: пропусков нет. Имеются аномальные значения, например год регистрации 1111 или 5000. Поскольку это явная ошибка, возможно вызванная некорректным форматом введимых данных в соответствующее поле, либо техническим сбоем, исключим позиции, год регистрации для которых выходит за рамки интервала 1900-2021 гг;\n",
    "- *'gearbox'*: имеются порядка 5,5% пропущенных значений, что достаточно много. Из-за невозможности уточнения информации и отсутствия источников для адекватной замены на имеющиеся группы, заполним пропуски категорией 'unknown';\n",
    "- *'power'*: мощность двигателя не имеет пропущенных значений, однако явно выбиваются аномальные значения - как нулевые, так и сверхогромные более 3500 (максимальная на текущий момент мощность гоночного болида Nissan GT-R от Extreme Turbo Systems). Значений свыше 3500 - 89 шт., их можно удалить без ущерба. Пробема в нулевых значениях - их причина появления может быть вызвана множеством причин: от банального технического сбоя, до человеческого фактора - владельцы авто просто не заполнили данную информацию. Наиболее обосновано смотрится предположение о том, что двигатель в автомобиле просто отсутствует. В случае отсутствия возможности подтвердить или опровергнуть данное предположение, используем его для обоснование для нулевых значений, что позволит нам сохранить большой массив информации.\n",
    "- *'model'*: имеются порядка 5,5% пропущенных значений, что достаточно много. С учетом того, что у нас есть полные данные о бренде автомобиля, мы можем использовать для пропусков модальные значения по каждой из соответствующих групп. \n",
    "- *'fuel_type'*: имеются порядка 10% пропущенных значений, что достаточно много. Из-за невозможности уточнения информации и отсутствия источников для адекватной замены на имеющиеся группы, заполним пропуски категорией 'unknown';\n",
    "- *'not_repaired'*: самое большое число пропусков ~20%. Поскольку удаление такого числа негативно скажется на качестве обучения, будем исходить из того, что отсутствие данных подразумевает, что клиент не сделал соответствующую отметку о том, что машина была в ремонте, т.е. заменим пропуски значением \"no\";\n",
    "\n",
    "***Не имеют предсказательной силы***:  \n",
    "- *'date_crawled'*: пропущенных данных нет. Признак не имеет предсказательной силы, можно исключить.\n",
    "- *'registration_month'*: имеются аномальные значения - количество категорий - 13, что нелогично. Признак имеет крайне низкую предсказательную силу, особенно с учетом наличия гораздо более информативного показателя 'registration_year'. Исключаем.\n",
    "- *'date_created'*: пропущенных данных нет. Признак не имеет предсказательной силы, можно исключить.\n",
    "- *'number_of_pictures'*: имеется только единственное значение. Пропущенных данных нет. Признак не имеет предсказательной силы, можно исключить.\n",
    "- *'postal_code'*: пропущенных данных нет. Признак имеет очень слабую предсказательную силу, можно исключить.\n",
    "- *'last_seen'*: пропущенных данных нет. Признак не имеет предсказательной силы, можно исключить."
   ]
  },
  {
   "cell_type": "code",
   "execution_count": 7,
   "metadata": {},
   "outputs": [],
   "source": [
    "# Исключаем признаки, которые не имеют предсказательной силы:\n",
    "data_autos = data_autos.drop(['date_crawled', 'registration_month', 'date_created', 'number_of_pictures', \n",
    "                              'postal_code', 'last_seen'], axis=1)"
   ]
  },
  {
   "cell_type": "code",
   "execution_count": 12,
   "metadata": {},
   "outputs": [],
   "source": [
    "# Избавляемся от аномальных значений:\n",
    "data_autos = data_autos.query('(registration_year >= 1900) and (registration_year < 2021)').reset_index(drop=True)\n",
    "data_autos = data_autos.query('power <= 3500').reset_index(drop=True)"
   ]
  },
  {
   "cell_type": "code",
   "execution_count": 13,
   "metadata": {},
   "outputs": [
    {
     "data": {
      "text/plain": [
       "brand\n",
       "alfa_romeo               156\n",
       "audi                      a4\n",
       "bmw                      3er\n",
       "chevrolet              other\n",
       "chrysler               other\n",
       "citroen                other\n",
       "dacia                  logan\n",
       "daewoo                 matiz\n",
       "daihatsu               cuore\n",
       "fiat                   punto\n",
       "ford                   focus\n",
       "honda                  civic\n",
       "hyundai              i_reihe\n",
       "jaguar                 other\n",
       "jeep                   grand\n",
       "kia                    other\n",
       "lada                    niva\n",
       "lancia               ypsilon\n",
       "land_rover        freelander\n",
       "mazda                3_reihe\n",
       "mercedes_benz       c_klasse\n",
       "mini                  cooper\n",
       "mitsubishi              colt\n",
       "nissan                 micra\n",
       "opel                   corsa\n",
       "peugeot              2_reihe\n",
       "porsche              cayenne\n",
       "renault               twingo\n",
       "rover                  other\n",
       "saab                   other\n",
       "seat                   ibiza\n",
       "skoda                octavia\n",
       "smart                 fortwo\n",
       "sonstige_autos           NaN\n",
       "subaru               impreza\n",
       "suzuki                 other\n",
       "toyota                 yaris\n",
       "trabant                  601\n",
       "volkswagen              golf\n",
       "volvo                    v40\n",
       "Name: model, dtype: object"
      ]
     },
     "metadata": {},
     "output_type": "display_data"
    }
   ],
   "source": [
    "# Заменяем пропуски модальными значениями:\n",
    "model_grouped = data_autos.groupby('brand').agg(lambda x: x.mode(dropna=False)[0])['model']\n",
    "display(model_grouped)"
   ]
  },
  {
   "cell_type": "markdown",
   "metadata": {},
   "source": [
    "Для sonstige_autos модальным значением модели является \"NaN\". Поскольку данная формулировка предполагает прочие неперечисленные бренды, заполним обозначенные пропуски значением \"other\""
   ]
  },
  {
   "cell_type": "code",
   "execution_count": 14,
   "metadata": {},
   "outputs": [],
   "source": [
    "#Заполним пропуски модами соответствующих брендов:\n",
    "data_autos['model'] = data_autos['model'].fillna(0)\n",
    "\n",
    "def modas_model(row):\n",
    "    model = row['model']\n",
    "    brand = row['brand']\n",
    "    if model == 0:\n",
    "        return model_grouped[brand]\n",
    "    return model\n",
    "\n",
    "data_autos['model'] = data_autos.apply(modas_model, axis=1)"
   ]
  },
  {
   "cell_type": "code",
   "execution_count": 17,
   "metadata": {},
   "outputs": [
    {
     "data": {
      "text/html": [
       "<div>\n",
       "<style scoped>\n",
       "    .dataframe tbody tr th:only-of-type {\n",
       "        vertical-align: middle;\n",
       "    }\n",
       "\n",
       "    .dataframe tbody tr th {\n",
       "        vertical-align: top;\n",
       "    }\n",
       "\n",
       "    .dataframe thead th {\n",
       "        text-align: right;\n",
       "    }\n",
       "</style>\n",
       "<table border=\"1\" class=\"dataframe\">\n",
       "  <thead>\n",
       "    <tr style=\"text-align: right;\">\n",
       "      <th></th>\n",
       "      <th>price</th>\n",
       "      <th>vehicle_type</th>\n",
       "      <th>registration_year</th>\n",
       "      <th>gearbox</th>\n",
       "      <th>power</th>\n",
       "      <th>model</th>\n",
       "      <th>kilometer</th>\n",
       "      <th>fuel_type</th>\n",
       "      <th>brand</th>\n",
       "      <th>not_repaired</th>\n",
       "    </tr>\n",
       "  </thead>\n",
       "  <tbody>\n",
       "    <tr>\n",
       "      <td>0</td>\n",
       "      <td>480</td>\n",
       "      <td>NaN</td>\n",
       "      <td>1993</td>\n",
       "      <td>manual</td>\n",
       "      <td>0</td>\n",
       "      <td>golf</td>\n",
       "      <td>150000</td>\n",
       "      <td>petrol</td>\n",
       "      <td>volkswagen</td>\n",
       "      <td>NaN</td>\n",
       "    </tr>\n",
       "    <tr>\n",
       "      <td>1</td>\n",
       "      <td>18300</td>\n",
       "      <td>coupe</td>\n",
       "      <td>2011</td>\n",
       "      <td>manual</td>\n",
       "      <td>190</td>\n",
       "      <td>a4</td>\n",
       "      <td>125000</td>\n",
       "      <td>gasoline</td>\n",
       "      <td>audi</td>\n",
       "      <td>yes</td>\n",
       "    </tr>\n",
       "    <tr>\n",
       "      <td>2</td>\n",
       "      <td>9800</td>\n",
       "      <td>suv</td>\n",
       "      <td>2004</td>\n",
       "      <td>auto</td>\n",
       "      <td>163</td>\n",
       "      <td>grand</td>\n",
       "      <td>125000</td>\n",
       "      <td>gasoline</td>\n",
       "      <td>jeep</td>\n",
       "      <td>NaN</td>\n",
       "    </tr>\n",
       "    <tr>\n",
       "      <td>3</td>\n",
       "      <td>1500</td>\n",
       "      <td>small</td>\n",
       "      <td>2001</td>\n",
       "      <td>manual</td>\n",
       "      <td>75</td>\n",
       "      <td>golf</td>\n",
       "      <td>150000</td>\n",
       "      <td>petrol</td>\n",
       "      <td>volkswagen</td>\n",
       "      <td>no</td>\n",
       "    </tr>\n",
       "    <tr>\n",
       "      <td>4</td>\n",
       "      <td>3600</td>\n",
       "      <td>small</td>\n",
       "      <td>2008</td>\n",
       "      <td>manual</td>\n",
       "      <td>69</td>\n",
       "      <td>fabia</td>\n",
       "      <td>90000</td>\n",
       "      <td>gasoline</td>\n",
       "      <td>skoda</td>\n",
       "      <td>no</td>\n",
       "    </tr>\n",
       "    <tr>\n",
       "      <td>...</td>\n",
       "      <td>...</td>\n",
       "      <td>...</td>\n",
       "      <td>...</td>\n",
       "      <td>...</td>\n",
       "      <td>...</td>\n",
       "      <td>...</td>\n",
       "      <td>...</td>\n",
       "      <td>...</td>\n",
       "      <td>...</td>\n",
       "      <td>...</td>\n",
       "    </tr>\n",
       "    <tr>\n",
       "      <td>354101</td>\n",
       "      <td>0</td>\n",
       "      <td>NaN</td>\n",
       "      <td>2005</td>\n",
       "      <td>manual</td>\n",
       "      <td>0</td>\n",
       "      <td>colt</td>\n",
       "      <td>150000</td>\n",
       "      <td>petrol</td>\n",
       "      <td>mitsubishi</td>\n",
       "      <td>yes</td>\n",
       "    </tr>\n",
       "    <tr>\n",
       "      <td>354102</td>\n",
       "      <td>2200</td>\n",
       "      <td>NaN</td>\n",
       "      <td>2005</td>\n",
       "      <td>NaN</td>\n",
       "      <td>0</td>\n",
       "      <td>NaN</td>\n",
       "      <td>20000</td>\n",
       "      <td>NaN</td>\n",
       "      <td>sonstige_autos</td>\n",
       "      <td>NaN</td>\n",
       "    </tr>\n",
       "    <tr>\n",
       "      <td>354103</td>\n",
       "      <td>1199</td>\n",
       "      <td>convertible</td>\n",
       "      <td>2000</td>\n",
       "      <td>auto</td>\n",
       "      <td>101</td>\n",
       "      <td>fortwo</td>\n",
       "      <td>125000</td>\n",
       "      <td>petrol</td>\n",
       "      <td>smart</td>\n",
       "      <td>no</td>\n",
       "    </tr>\n",
       "    <tr>\n",
       "      <td>354104</td>\n",
       "      <td>9200</td>\n",
       "      <td>bus</td>\n",
       "      <td>1996</td>\n",
       "      <td>manual</td>\n",
       "      <td>102</td>\n",
       "      <td>transporter</td>\n",
       "      <td>150000</td>\n",
       "      <td>gasoline</td>\n",
       "      <td>volkswagen</td>\n",
       "      <td>no</td>\n",
       "    </tr>\n",
       "    <tr>\n",
       "      <td>354105</td>\n",
       "      <td>3400</td>\n",
       "      <td>wagon</td>\n",
       "      <td>2002</td>\n",
       "      <td>manual</td>\n",
       "      <td>100</td>\n",
       "      <td>golf</td>\n",
       "      <td>150000</td>\n",
       "      <td>gasoline</td>\n",
       "      <td>volkswagen</td>\n",
       "      <td>NaN</td>\n",
       "    </tr>\n",
       "  </tbody>\n",
       "</table>\n",
       "<p>354106 rows × 10 columns</p>\n",
       "</div>"
      ],
      "text/plain": [
       "        price vehicle_type  registration_year gearbox  power        model  \\\n",
       "0         480          NaN               1993  manual      0         golf   \n",
       "1       18300        coupe               2011  manual    190           a4   \n",
       "2        9800          suv               2004    auto    163        grand   \n",
       "3        1500        small               2001  manual     75         golf   \n",
       "4        3600        small               2008  manual     69        fabia   \n",
       "...       ...          ...                ...     ...    ...          ...   \n",
       "354101      0          NaN               2005  manual      0         colt   \n",
       "354102   2200          NaN               2005     NaN      0          NaN   \n",
       "354103   1199  convertible               2000    auto    101       fortwo   \n",
       "354104   9200          bus               1996  manual    102  transporter   \n",
       "354105   3400        wagon               2002  manual    100         golf   \n",
       "\n",
       "        kilometer fuel_type           brand not_repaired  \n",
       "0          150000    petrol      volkswagen          NaN  \n",
       "1          125000  gasoline            audi          yes  \n",
       "2          125000  gasoline            jeep          NaN  \n",
       "3          150000    petrol      volkswagen           no  \n",
       "4           90000  gasoline           skoda           no  \n",
       "...           ...       ...             ...          ...  \n",
       "354101     150000    petrol      mitsubishi          yes  \n",
       "354102      20000       NaN  sonstige_autos          NaN  \n",
       "354103     125000    petrol           smart           no  \n",
       "354104     150000  gasoline      volkswagen           no  \n",
       "354105     150000  gasoline      volkswagen          NaN  \n",
       "\n",
       "[354106 rows x 10 columns]"
      ]
     },
     "metadata": {},
     "output_type": "display_data"
    }
   ],
   "source": [
    "#display(data_autos)"
   ]
  },
  {
   "cell_type": "code",
   "execution_count": 18,
   "metadata": {},
   "outputs": [],
   "source": [
    "# Заполняем пропуски значениями:\n",
    "data_autos.loc[:, ['vehicle_type', 'gearbox', 'fuel_type']] = data_autos.loc[:, \n",
    "                                                                             ['vehicle_type', 'gearbox', 'fuel_type']].fillna('unknown')\n",
    "data_autos['model'] = data_autos['model'].fillna('other')\n",
    "data_autos['not_repaired'] = data_autos['not_repaired'].fillna('no')"
   ]
  },
  {
   "cell_type": "code",
   "execution_count": 19,
   "metadata": {},
   "outputs": [
    {
     "name": "stdout",
     "output_type": "stream",
     "text": [
      "price                 int64\n",
      "vehicle_type         object\n",
      "registration_year     int64\n",
      "gearbox              object\n",
      "power                 int64\n",
      "model                object\n",
      "kilometer             int64\n",
      "fuel_type            object\n",
      "brand                object\n",
      "not_repaired         object\n",
      "dtype: object\n"
     ]
    }
   ],
   "source": [
    "# Проверим типы данных\n",
    "print(data_autos.dtypes)"
   ]
  },
  {
   "cell_type": "markdown",
   "metadata": {},
   "source": [
    "Типы данных адекватны. \n",
    "\n",
    "Поскольку для обучения модели признаки не могут быть категориальными, преобразуем последние в численные: для ускорения процесса обучения используем технику OHE для 'vehicle_type', 'gearbox', 'fuel_type', 'not_repaired' (так как в них достаточно невысокое количество значений) и технику порядкового кодирования для 'model', 'brand' (использование OHE нецелесообразно из-за большого числа категорий, что значительно увеличит размер выборок)."
   ]
  },
  {
   "cell_type": "code",
   "execution_count": 20,
   "metadata": {},
   "outputs": [
    {
     "data": {
      "text/html": [
       "<div>\n",
       "<style scoped>\n",
       "    .dataframe tbody tr th:only-of-type {\n",
       "        vertical-align: middle;\n",
       "    }\n",
       "\n",
       "    .dataframe tbody tr th {\n",
       "        vertical-align: top;\n",
       "    }\n",
       "\n",
       "    .dataframe thead th {\n",
       "        text-align: right;\n",
       "    }\n",
       "</style>\n",
       "<table border=\"1\" class=\"dataframe\">\n",
       "  <thead>\n",
       "    <tr style=\"text-align: right;\">\n",
       "      <th></th>\n",
       "      <th>model</th>\n",
       "      <th>brand</th>\n",
       "    </tr>\n",
       "  </thead>\n",
       "  <tbody>\n",
       "    <tr>\n",
       "      <td>0</td>\n",
       "      <td>116</td>\n",
       "      <td>38</td>\n",
       "    </tr>\n",
       "    <tr>\n",
       "      <td>1</td>\n",
       "      <td>29</td>\n",
       "      <td>1</td>\n",
       "    </tr>\n",
       "    <tr>\n",
       "      <td>2</td>\n",
       "      <td>117</td>\n",
       "      <td>14</td>\n",
       "    </tr>\n",
       "    <tr>\n",
       "      <td>3</td>\n",
       "      <td>116</td>\n",
       "      <td>38</td>\n",
       "    </tr>\n",
       "    <tr>\n",
       "      <td>4</td>\n",
       "      <td>101</td>\n",
       "      <td>31</td>\n",
       "    </tr>\n",
       "  </tbody>\n",
       "</table>\n",
       "</div>"
      ],
      "text/plain": [
       "   model  brand\n",
       "0    116     38\n",
       "1     29      1\n",
       "2    117     14\n",
       "3    116     38\n",
       "4    101     31"
      ]
     },
     "metadata": {},
     "output_type": "display_data"
    },
    {
     "name": "stdout",
     "output_type": "stream",
     "text": [
      "(354106, 2)\n"
     ]
    }
   ],
   "source": [
    "# Выделим числовые признаки, признаки для OHE и для OrdinalEcoder:\n",
    "numeric_columns = ['price', 'registration_year', 'power', 'kilometer']\n",
    "ohe_columns = ['vehicle_type', 'gearbox', 'fuel_type', 'not_repaired']\n",
    "ordinal_columns = ['model', 'brand']\n",
    "\n",
    "# Порядковое кодирование:\n",
    "encoder = OrdinalEncoder()\n",
    "data_autos_ordinal = pd.DataFrame(encoder.fit_transform(data_autos.loc[:, ordinal_columns]),\n",
    "                            columns=ordinal_columns)\n",
    "data_autos_ordinal = data_autos_ordinal.astype('int')\n",
    "display(data_autos_ordinal.head())\n",
    "print(data_autos_ordinal.shape)"
   ]
  },
  {
   "cell_type": "code",
   "execution_count": 21,
   "metadata": {},
   "outputs": [
    {
     "data": {
      "text/html": [
       "<div>\n",
       "<style scoped>\n",
       "    .dataframe tbody tr th:only-of-type {\n",
       "        vertical-align: middle;\n",
       "    }\n",
       "\n",
       "    .dataframe tbody tr th {\n",
       "        vertical-align: top;\n",
       "    }\n",
       "\n",
       "    .dataframe thead th {\n",
       "        text-align: right;\n",
       "    }\n",
       "</style>\n",
       "<table border=\"1\" class=\"dataframe\">\n",
       "  <thead>\n",
       "    <tr style=\"text-align: right;\">\n",
       "      <th></th>\n",
       "      <th>vehicle_type_convertible</th>\n",
       "      <th>vehicle_type_coupe</th>\n",
       "      <th>vehicle_type_other</th>\n",
       "      <th>vehicle_type_sedan</th>\n",
       "      <th>vehicle_type_small</th>\n",
       "      <th>vehicle_type_suv</th>\n",
       "      <th>vehicle_type_unknown</th>\n",
       "      <th>vehicle_type_wagon</th>\n",
       "      <th>gearbox_manual</th>\n",
       "      <th>gearbox_unknown</th>\n",
       "      <th>fuel_type_electric</th>\n",
       "      <th>fuel_type_gasoline</th>\n",
       "      <th>fuel_type_hybrid</th>\n",
       "      <th>fuel_type_lpg</th>\n",
       "      <th>fuel_type_other</th>\n",
       "      <th>fuel_type_petrol</th>\n",
       "      <th>fuel_type_unknown</th>\n",
       "      <th>not_repaired_yes</th>\n",
       "    </tr>\n",
       "  </thead>\n",
       "  <tbody>\n",
       "    <tr>\n",
       "      <td>0</td>\n",
       "      <td>0</td>\n",
       "      <td>0</td>\n",
       "      <td>0</td>\n",
       "      <td>0</td>\n",
       "      <td>0</td>\n",
       "      <td>0</td>\n",
       "      <td>1</td>\n",
       "      <td>0</td>\n",
       "      <td>1</td>\n",
       "      <td>0</td>\n",
       "      <td>0</td>\n",
       "      <td>0</td>\n",
       "      <td>0</td>\n",
       "      <td>0</td>\n",
       "      <td>0</td>\n",
       "      <td>1</td>\n",
       "      <td>0</td>\n",
       "      <td>0</td>\n",
       "    </tr>\n",
       "    <tr>\n",
       "      <td>1</td>\n",
       "      <td>0</td>\n",
       "      <td>1</td>\n",
       "      <td>0</td>\n",
       "      <td>0</td>\n",
       "      <td>0</td>\n",
       "      <td>0</td>\n",
       "      <td>0</td>\n",
       "      <td>0</td>\n",
       "      <td>1</td>\n",
       "      <td>0</td>\n",
       "      <td>0</td>\n",
       "      <td>1</td>\n",
       "      <td>0</td>\n",
       "      <td>0</td>\n",
       "      <td>0</td>\n",
       "      <td>0</td>\n",
       "      <td>0</td>\n",
       "      <td>1</td>\n",
       "    </tr>\n",
       "    <tr>\n",
       "      <td>2</td>\n",
       "      <td>0</td>\n",
       "      <td>0</td>\n",
       "      <td>0</td>\n",
       "      <td>0</td>\n",
       "      <td>0</td>\n",
       "      <td>1</td>\n",
       "      <td>0</td>\n",
       "      <td>0</td>\n",
       "      <td>0</td>\n",
       "      <td>0</td>\n",
       "      <td>0</td>\n",
       "      <td>1</td>\n",
       "      <td>0</td>\n",
       "      <td>0</td>\n",
       "      <td>0</td>\n",
       "      <td>0</td>\n",
       "      <td>0</td>\n",
       "      <td>0</td>\n",
       "    </tr>\n",
       "    <tr>\n",
       "      <td>3</td>\n",
       "      <td>0</td>\n",
       "      <td>0</td>\n",
       "      <td>0</td>\n",
       "      <td>0</td>\n",
       "      <td>1</td>\n",
       "      <td>0</td>\n",
       "      <td>0</td>\n",
       "      <td>0</td>\n",
       "      <td>1</td>\n",
       "      <td>0</td>\n",
       "      <td>0</td>\n",
       "      <td>0</td>\n",
       "      <td>0</td>\n",
       "      <td>0</td>\n",
       "      <td>0</td>\n",
       "      <td>1</td>\n",
       "      <td>0</td>\n",
       "      <td>0</td>\n",
       "    </tr>\n",
       "    <tr>\n",
       "      <td>4</td>\n",
       "      <td>0</td>\n",
       "      <td>0</td>\n",
       "      <td>0</td>\n",
       "      <td>0</td>\n",
       "      <td>1</td>\n",
       "      <td>0</td>\n",
       "      <td>0</td>\n",
       "      <td>0</td>\n",
       "      <td>1</td>\n",
       "      <td>0</td>\n",
       "      <td>0</td>\n",
       "      <td>1</td>\n",
       "      <td>0</td>\n",
       "      <td>0</td>\n",
       "      <td>0</td>\n",
       "      <td>0</td>\n",
       "      <td>0</td>\n",
       "      <td>0</td>\n",
       "    </tr>\n",
       "  </tbody>\n",
       "</table>\n",
       "</div>"
      ],
      "text/plain": [
       "   vehicle_type_convertible  vehicle_type_coupe  vehicle_type_other  \\\n",
       "0                         0                   0                   0   \n",
       "1                         0                   1                   0   \n",
       "2                         0                   0                   0   \n",
       "3                         0                   0                   0   \n",
       "4                         0                   0                   0   \n",
       "\n",
       "   vehicle_type_sedan  vehicle_type_small  vehicle_type_suv  \\\n",
       "0                   0                   0                 0   \n",
       "1                   0                   0                 0   \n",
       "2                   0                   0                 1   \n",
       "3                   0                   1                 0   \n",
       "4                   0                   1                 0   \n",
       "\n",
       "   vehicle_type_unknown  vehicle_type_wagon  gearbox_manual  gearbox_unknown  \\\n",
       "0                     1                   0               1                0   \n",
       "1                     0                   0               1                0   \n",
       "2                     0                   0               0                0   \n",
       "3                     0                   0               1                0   \n",
       "4                     0                   0               1                0   \n",
       "\n",
       "   fuel_type_electric  fuel_type_gasoline  fuel_type_hybrid  fuel_type_lpg  \\\n",
       "0                   0                   0                 0              0   \n",
       "1                   0                   1                 0              0   \n",
       "2                   0                   1                 0              0   \n",
       "3                   0                   0                 0              0   \n",
       "4                   0                   1                 0              0   \n",
       "\n",
       "   fuel_type_other  fuel_type_petrol  fuel_type_unknown  not_repaired_yes  \n",
       "0                0                 1                  0                 0  \n",
       "1                0                 0                  0                 1  \n",
       "2                0                 0                  0                 0  \n",
       "3                0                 1                  0                 0  \n",
       "4                0                 0                  0                 0  "
      ]
     },
     "metadata": {},
     "output_type": "display_data"
    },
    {
     "name": "stdout",
     "output_type": "stream",
     "text": [
      "(354106, 18)\n"
     ]
    }
   ],
   "source": [
    "# OHE:\n",
    "data_autos_ohe = pd.get_dummies(data_autos.loc[:, ohe_columns], drop_first=True)\n",
    "display(data_autos_ohe.head())\n",
    "print(data_autos_ohe.shape)"
   ]
  },
  {
   "cell_type": "code",
   "execution_count": 22,
   "metadata": {},
   "outputs": [
    {
     "data": {
      "text/html": [
       "<div>\n",
       "<style scoped>\n",
       "    .dataframe tbody tr th:only-of-type {\n",
       "        vertical-align: middle;\n",
       "    }\n",
       "\n",
       "    .dataframe tbody tr th {\n",
       "        vertical-align: top;\n",
       "    }\n",
       "\n",
       "    .dataframe thead th {\n",
       "        text-align: right;\n",
       "    }\n",
       "</style>\n",
       "<table border=\"1\" class=\"dataframe\">\n",
       "  <thead>\n",
       "    <tr style=\"text-align: right;\">\n",
       "      <th></th>\n",
       "      <th>price</th>\n",
       "      <th>registration_year</th>\n",
       "      <th>power</th>\n",
       "      <th>kilometer</th>\n",
       "      <th>model</th>\n",
       "      <th>brand</th>\n",
       "      <th>vehicle_type_convertible</th>\n",
       "      <th>vehicle_type_coupe</th>\n",
       "      <th>vehicle_type_other</th>\n",
       "      <th>vehicle_type_sedan</th>\n",
       "      <th>...</th>\n",
       "      <th>gearbox_manual</th>\n",
       "      <th>gearbox_unknown</th>\n",
       "      <th>fuel_type_electric</th>\n",
       "      <th>fuel_type_gasoline</th>\n",
       "      <th>fuel_type_hybrid</th>\n",
       "      <th>fuel_type_lpg</th>\n",
       "      <th>fuel_type_other</th>\n",
       "      <th>fuel_type_petrol</th>\n",
       "      <th>fuel_type_unknown</th>\n",
       "      <th>not_repaired_yes</th>\n",
       "    </tr>\n",
       "  </thead>\n",
       "  <tbody>\n",
       "    <tr>\n",
       "      <td>0</td>\n",
       "      <td>480</td>\n",
       "      <td>1993</td>\n",
       "      <td>0</td>\n",
       "      <td>150000</td>\n",
       "      <td>116</td>\n",
       "      <td>38</td>\n",
       "      <td>0</td>\n",
       "      <td>0</td>\n",
       "      <td>0</td>\n",
       "      <td>0</td>\n",
       "      <td>...</td>\n",
       "      <td>1</td>\n",
       "      <td>0</td>\n",
       "      <td>0</td>\n",
       "      <td>0</td>\n",
       "      <td>0</td>\n",
       "      <td>0</td>\n",
       "      <td>0</td>\n",
       "      <td>1</td>\n",
       "      <td>0</td>\n",
       "      <td>0</td>\n",
       "    </tr>\n",
       "    <tr>\n",
       "      <td>1</td>\n",
       "      <td>18300</td>\n",
       "      <td>2011</td>\n",
       "      <td>190</td>\n",
       "      <td>125000</td>\n",
       "      <td>29</td>\n",
       "      <td>1</td>\n",
       "      <td>0</td>\n",
       "      <td>1</td>\n",
       "      <td>0</td>\n",
       "      <td>0</td>\n",
       "      <td>...</td>\n",
       "      <td>1</td>\n",
       "      <td>0</td>\n",
       "      <td>0</td>\n",
       "      <td>1</td>\n",
       "      <td>0</td>\n",
       "      <td>0</td>\n",
       "      <td>0</td>\n",
       "      <td>0</td>\n",
       "      <td>0</td>\n",
       "      <td>1</td>\n",
       "    </tr>\n",
       "    <tr>\n",
       "      <td>2</td>\n",
       "      <td>9800</td>\n",
       "      <td>2004</td>\n",
       "      <td>163</td>\n",
       "      <td>125000</td>\n",
       "      <td>117</td>\n",
       "      <td>14</td>\n",
       "      <td>0</td>\n",
       "      <td>0</td>\n",
       "      <td>0</td>\n",
       "      <td>0</td>\n",
       "      <td>...</td>\n",
       "      <td>0</td>\n",
       "      <td>0</td>\n",
       "      <td>0</td>\n",
       "      <td>1</td>\n",
       "      <td>0</td>\n",
       "      <td>0</td>\n",
       "      <td>0</td>\n",
       "      <td>0</td>\n",
       "      <td>0</td>\n",
       "      <td>0</td>\n",
       "    </tr>\n",
       "    <tr>\n",
       "      <td>3</td>\n",
       "      <td>1500</td>\n",
       "      <td>2001</td>\n",
       "      <td>75</td>\n",
       "      <td>150000</td>\n",
       "      <td>116</td>\n",
       "      <td>38</td>\n",
       "      <td>0</td>\n",
       "      <td>0</td>\n",
       "      <td>0</td>\n",
       "      <td>0</td>\n",
       "      <td>...</td>\n",
       "      <td>1</td>\n",
       "      <td>0</td>\n",
       "      <td>0</td>\n",
       "      <td>0</td>\n",
       "      <td>0</td>\n",
       "      <td>0</td>\n",
       "      <td>0</td>\n",
       "      <td>1</td>\n",
       "      <td>0</td>\n",
       "      <td>0</td>\n",
       "    </tr>\n",
       "    <tr>\n",
       "      <td>4</td>\n",
       "      <td>3600</td>\n",
       "      <td>2008</td>\n",
       "      <td>69</td>\n",
       "      <td>90000</td>\n",
       "      <td>101</td>\n",
       "      <td>31</td>\n",
       "      <td>0</td>\n",
       "      <td>0</td>\n",
       "      <td>0</td>\n",
       "      <td>0</td>\n",
       "      <td>...</td>\n",
       "      <td>1</td>\n",
       "      <td>0</td>\n",
       "      <td>0</td>\n",
       "      <td>1</td>\n",
       "      <td>0</td>\n",
       "      <td>0</td>\n",
       "      <td>0</td>\n",
       "      <td>0</td>\n",
       "      <td>0</td>\n",
       "      <td>0</td>\n",
       "    </tr>\n",
       "  </tbody>\n",
       "</table>\n",
       "<p>5 rows × 24 columns</p>\n",
       "</div>"
      ],
      "text/plain": [
       "   price  registration_year  power  kilometer  model  brand  \\\n",
       "0    480               1993      0     150000    116     38   \n",
       "1  18300               2011    190     125000     29      1   \n",
       "2   9800               2004    163     125000    117     14   \n",
       "3   1500               2001     75     150000    116     38   \n",
       "4   3600               2008     69      90000    101     31   \n",
       "\n",
       "   vehicle_type_convertible  vehicle_type_coupe  vehicle_type_other  \\\n",
       "0                         0                   0                   0   \n",
       "1                         0                   1                   0   \n",
       "2                         0                   0                   0   \n",
       "3                         0                   0                   0   \n",
       "4                         0                   0                   0   \n",
       "\n",
       "   vehicle_type_sedan  ...  gearbox_manual  gearbox_unknown  \\\n",
       "0                   0  ...               1                0   \n",
       "1                   0  ...               1                0   \n",
       "2                   0  ...               0                0   \n",
       "3                   0  ...               1                0   \n",
       "4                   0  ...               1                0   \n",
       "\n",
       "   fuel_type_electric  fuel_type_gasoline  fuel_type_hybrid  fuel_type_lpg  \\\n",
       "0                   0                   0                 0              0   \n",
       "1                   0                   1                 0              0   \n",
       "2                   0                   1                 0              0   \n",
       "3                   0                   0                 0              0   \n",
       "4                   0                   1                 0              0   \n",
       "\n",
       "   fuel_type_other  fuel_type_petrol  fuel_type_unknown  not_repaired_yes  \n",
       "0                0                 1                  0                 0  \n",
       "1                0                 0                  0                 1  \n",
       "2                0                 0                  0                 0  \n",
       "3                0                 1                  0                 0  \n",
       "4                0                 0                  0                 0  \n",
       "\n",
       "[5 rows x 24 columns]"
      ]
     },
     "metadata": {},
     "output_type": "display_data"
    },
    {
     "name": "stdout",
     "output_type": "stream",
     "text": [
      "(354106, 24)\n"
     ]
    }
   ],
   "source": [
    "# Объединим полученные датафреймы в единый:\n",
    "data_autos_final = data_autos[numeric_columns].join([data_autos_ordinal, data_autos_ohe])\n",
    "display(data_autos_final.head())\n",
    "print(data_autos_final.shape)"
   ]
  },
  {
   "cell_type": "markdown",
   "metadata": {},
   "source": [
    "Проведем анализ количественных переменных."
   ]
  },
  {
   "cell_type": "code",
   "execution_count": 23,
   "metadata": {
    "scrolled": false
   },
   "outputs": [
    {
     "name": "stdout",
     "output_type": "stream",
     "text": [
      "count    354106.000000\n",
      "mean       4417.971706\n",
      "std        4514.251411\n",
      "min           0.000000\n",
      "25%        1050.000000\n",
      "50%        2700.000000\n",
      "75%        6400.000000\n",
      "max       20000.000000\n",
      "Name: price, dtype: float64\n",
      "count    354106.000000\n",
      "mean       2003.084822\n",
      "std           7.536140\n",
      "min        1910.000000\n",
      "25%        1999.000000\n",
      "50%        2003.000000\n",
      "75%        2008.000000\n",
      "max        2019.000000\n",
      "Name: registration_year, dtype: float64\n",
      "count    354106.000000\n",
      "mean        107.532835\n",
      "std          74.573773\n",
      "min           0.000000\n",
      "25%          69.000000\n",
      "50%         105.000000\n",
      "75%         143.000000\n",
      "max        3500.000000\n",
      "Name: power, dtype: float64\n",
      "count    354106.000000\n",
      "mean     128270.108386\n",
      "std       37820.060383\n",
      "min        5000.000000\n",
      "25%      125000.000000\n",
      "50%      150000.000000\n",
      "75%      150000.000000\n",
      "max      150000.000000\n",
      "Name: kilometer, dtype: float64\n"
     ]
    }
   ],
   "source": [
    "for i in data_autos_final[numeric_columns].columns:\n",
    "    #fig = go.Figure()\n",
    "    #fig.add_trace(go.Box(y=data_autos_final[i], name=i))\n",
    "    #fig.show()\n",
    "    print(data_autos_final[i].describe())"
   ]
  },
  {
   "cell_type": "markdown",
   "metadata": {},
   "source": [
    "'price': цена продажи авто колеблется в интервале от 0 до 20 тыс. евро. Медиана значительно меньше среднего значения (2.7 против 4.4 тыс. евро), что свидетельствует о положительной ассимметрии графика распределения и значительном влиянии аномально высоких значений цены (дороже 14.4 тыс. евро)\n",
    "'registration_year': год регистрации автомобиля лежит в интервале 1910-2019 гг. Медианное значение практически соответствует среднему (2003 год), что свидетельствует о распределении, близком к нормальному. Машины, зарегистрированные ранее 1986 года достаточно редки.\n",
    "'power': мощность двигателя автомобилей изменяется от 0 до 3500 л.с. Медиана близка к среднему значению (105 и 107.5 л.с. соответственно), что свидетельствует о распределении, близком к нормальному. Машины, с мощностью двигателя свыше 254 л.с. достаточно редки.\n",
    "'kilometer': пробег автомобилей изменяется от 5 тыс. км. до 150 тыс. км. Медиана выше среднего значения (105 и 107.5 л.с. соответственно), что говорит нам о наличии отрицательной ассимметрии графика распределения и влияния аномально низких значений.\n",
    "\n",
    "Рассмотрим данные признаки на наличие мультиколлинеарности, чтобы исключить утечку целевого признака."
   ]
  },
  {
   "cell_type": "code",
   "execution_count": 24,
   "metadata": {
    "scrolled": false
   },
   "outputs": [
    {
     "data": {
      "image/png": "[encoded data removed]",
      "text/plain": [
       "<Figure size 360x360 with 2 Axes>"
      ]
     },
     "metadata": {
      "needs_background": "light"
     },
     "output_type": "display_data"
    }
   ],
   "source": [
    "# Выведем матрицу корреляции для датафрейма, предварительно создав соответствующую \n",
    "# функцию, исключив столбцы с качественными переменными:\n",
    "\n",
    "matrix = np.triu(data_autos_final.loc[:, numeric_columns].corr())\n",
    "plt.figure(figsize=(5,5))\n",
    "sns.heatmap(data_autos_final.loc[:, numeric_columns].corr(), annot=True, mask=matrix, fmt='.3g', square=True)\n",
    "plt.show()"
   ]
  },
  {
   "cell_type": "markdown",
   "metadata": {},
   "source": [
    "Коэффициенты коррелляции не превышают значения 0.41 по абсолютному значению, что говорит об отсутствии мультиколлинеарности между признаками.  \n",
    "\n",
    "Разобьем итоговый датафрейм на обучающую и валидационную выборки в соотношении 75:25, после чего проведем масштабирование количественных признаков."
   ]
  },
  {
   "cell_type": "code",
   "execution_count": 25,
   "metadata": {
    "scrolled": false
   },
   "outputs": [
    {
     "name": "stdout",
     "output_type": "stream",
     "text": [
      "(354106, 23) (354106,)\n",
      "(265579, 23) (88527, 23) (265579,) (88527,)\n"
     ]
    }
   ],
   "source": [
    "# Для стандартизации признаков предварительно разделим набор данных на выборки\n",
    "# В соответствии с условиями задачи - обучающая и валидационная в соотношении 75:25\n",
    "\n",
    "features = data_autos_final.drop('price', axis=1)\n",
    "target = data_autos_final['price']\n",
    "print(features.shape, target.shape)\n",
    "\n",
    "r=42\n",
    "\n",
    "\n",
    "features_train, features_valid, target_train, target_valid = train_test_split(features, target,  \n",
    "                                            test_size=0.25, random_state=r)\n",
    "\n",
    "print(features_train.shape, features_valid.shape, target_train.shape, target_valid.shape)"
   ]
  },
  {
   "cell_type": "code",
   "execution_count": 26,
   "metadata": {},
   "outputs": [
    {
     "name": "stdout",
     "output_type": "stream",
     "text": [
      "['registration_year', 'power', 'kilometer']\n"
     ]
    }
   ],
   "source": [
    "features_numeric_columns = numeric_columns[1:4]\n",
    "print(features_numeric_columns)"
   ]
  },
  {
   "cell_type": "code",
   "execution_count": 27,
   "metadata": {},
   "outputs": [],
   "source": [
    "# Масштабируем признаки\n",
    "pd.options.mode.chained_assignment = None  # убираем предупреждение\n",
    "scaler=StandardScaler()\n",
    "scaler.fit(features_train[features_numeric_columns])\n",
    "features_train.loc[:, features_numeric_columns] = scaler.transform(features_train.\n",
    "                                                                   loc[:, features_numeric_columns])\n",
    "features_valid.loc[:, features_numeric_columns] = scaler.transform(features_valid.\n",
    "                                                                   loc[:, features_numeric_columns])"
   ]
  },
  {
   "cell_type": "markdown",
   "metadata": {},
   "source": [
    "**Вывод**  \n",
    "\n",
    "Мы подготовили данные для обучения модели: провели кодирование, масштабирование, разделение выборок."
   ]
  },
  {
   "cell_type": "markdown",
   "metadata": {},
   "source": [
    "## Обучение моделей"
   ]
  },
  {
   "cell_type": "markdown",
   "metadata": {},
   "source": [
    "После проведения подготовки признаков, обучим, проанализируем скорость работы и оценим качество различных моделей, используя метрику RMSE. \n",
    "Для начала рассмотрим простые модели линейной регрессии, дерева решений и случайного леса, после чего применим градиентный бустинг с использованием библиотек LightGBM и Catboost."
   ]
  },
  {
   "cell_type": "markdown",
   "metadata": {},
   "source": [
    "### Модели дерева решений, линейной регрессии и случайного леса"
   ]
  },
  {
   "cell_type": "code",
   "execution_count": 58,
   "metadata": {},
   "outputs": [],
   "source": [
    "r=42 #random_state\n",
    "\n",
    "# Создадим функцию для поиска лучших параметров модели при помощи GrindSearch:\n",
    "def grind_simple_model(model, params):\n",
    "    grind_model = GridSearchCV(model, param_grid=params, scoring='neg_mean_squared_error', cv=5, verbose=10)  \n",
    "    return grind_model\n",
    "warnings.filterwarnings(\"ignore\")"
   ]
  },
  {
   "cell_type": "markdown",
   "metadata": {},
   "source": [
    "- *Дерево решений:*"
   ]
  },
  {
   "cell_type": "code",
   "execution_count": 29,
   "metadata": {},
   "outputs": [],
   "source": [
    "# Дерево решениЙ:\n",
    "model_tree = DecisionTreeRegressor(random_state=r)\n",
    "greed_params_tree = {'max_depth': range(1, 21)}\n",
    "\n",
    "# Создаём GridSearch для модели\n",
    "grind_model = grind_simple_model(model_tree, greed_params_tree)"
   ]
  },
  {
   "cell_type": "code",
   "execution_count": 30,
   "metadata": {
    "scrolled": true
   },
   "outputs": [
    {
     "name": "stdout",
     "output_type": "stream",
     "text": [
      "Fitting 5 folds for each of 20 candidates, totalling 100 fits\n",
      "[CV] max_depth=1 .....................................................\n",
      "[CV] ................. max_depth=1, score=-14205793.016, total=   0.2s\n",
      "[CV] max_depth=1 .....................................................\n"
     ]
    },
    {
     "name": "stderr",
     "output_type": "stream",
     "text": [
      "[Parallel(n_jobs=1)]: Using backend SequentialBackend with 1 concurrent workers.\n",
      "[Parallel(n_jobs=1)]: Done   1 out of   1 | elapsed:    0.2s remaining:    0.0s\n"
     ]
    },
    {
     "name": "stdout",
     "output_type": "stream",
     "text": [
      "[CV] ................. max_depth=1, score=-14501107.969, total=   0.2s\n",
      "[CV] max_depth=1 .....................................................\n",
      "[CV] ................. max_depth=1, score=-14369033.662, total=   0.2s\n",
      "[CV] max_depth=1 .....................................................\n"
     ]
    },
    {
     "name": "stderr",
     "output_type": "stream",
     "text": [
      "[Parallel(n_jobs=1)]: Done   2 out of   2 | elapsed:    0.3s remaining:    0.0s\n",
      "[Parallel(n_jobs=1)]: Done   3 out of   3 | elapsed:    0.5s remaining:    0.0s\n"
     ]
    },
    {
     "name": "stdout",
     "output_type": "stream",
     "text": [
      "[CV] ................. max_depth=1, score=-14376129.275, total=   0.2s\n",
      "[CV] max_depth=1 .....................................................\n",
      "[CV] ................. max_depth=1, score=-14360224.668, total=   0.2s\n",
      "[CV] max_depth=2 .....................................................\n"
     ]
    },
    {
     "name": "stderr",
     "output_type": "stream",
     "text": [
      "[Parallel(n_jobs=1)]: Done   4 out of   4 | elapsed:    0.7s remaining:    0.0s\n",
      "[Parallel(n_jobs=1)]: Done   5 out of   5 | elapsed:    0.8s remaining:    0.0s\n"
     ]
    },
    {
     "name": "stdout",
     "output_type": "stream",
     "text": [
      "[CV] ................. max_depth=2, score=-10777073.508, total=   0.2s\n",
      "[CV] max_depth=2 .....................................................\n"
     ]
    },
    {
     "name": "stderr",
     "output_type": "stream",
     "text": [
      "[Parallel(n_jobs=1)]: Done   6 out of   6 | elapsed:    1.1s remaining:    0.0s\n"
     ]
    },
    {
     "name": "stdout",
     "output_type": "stream",
     "text": [
      "[CV] ................. max_depth=2, score=-11014379.672, total=   0.2s\n",
      "[CV] max_depth=2 .....................................................\n"
     ]
    },
    {
     "name": "stderr",
     "output_type": "stream",
     "text": [
      "[Parallel(n_jobs=1)]: Done   7 out of   7 | elapsed:    1.3s remaining:    0.0s\n"
     ]
    },
    {
     "name": "stdout",
     "output_type": "stream",
     "text": [
      "[CV] ................. max_depth=2, score=-11023429.451, total=   0.2s\n",
      "[CV] max_depth=2 .....................................................\n"
     ]
    },
    {
     "name": "stderr",
     "output_type": "stream",
     "text": [
      "[Parallel(n_jobs=1)]: Done   8 out of   8 | elapsed:    1.6s remaining:    0.0s\n"
     ]
    },
    {
     "name": "stdout",
     "output_type": "stream",
     "text": [
      "[CV] ................. max_depth=2, score=-10911417.895, total=   0.3s\n",
      "[CV] max_depth=2 .....................................................\n"
     ]
    },
    {
     "name": "stderr",
     "output_type": "stream",
     "text": [
      "[Parallel(n_jobs=1)]: Done   9 out of   9 | elapsed:    1.8s remaining:    0.0s\n"
     ]
    },
    {
     "name": "stdout",
     "output_type": "stream",
     "text": [
      "[CV] ................. max_depth=2, score=-10934379.470, total=   0.2s\n",
      "[CV] max_depth=3 .....................................................\n",
      "[CV] .................. max_depth=3, score=-8932601.625, total=   0.3s\n",
      "[CV] max_depth=3 .....................................................\n",
      "[CV] .................. max_depth=3, score=-9156335.580, total=   0.3s\n",
      "[CV] max_depth=3 .....................................................\n",
      "[CV] .................. max_depth=3, score=-9310299.643, total=   0.3s\n",
      "[CV] max_depth=3 .....................................................\n",
      "[CV] .................. max_depth=3, score=-9225656.185, total=   0.3s\n",
      "[CV] max_depth=3 .....................................................\n",
      "[CV] .................. max_depth=3, score=-9267250.301, total=   0.3s\n",
      "[CV] max_depth=4 .....................................................\n",
      "[CV] .................. max_depth=4, score=-7358335.549, total=   0.4s\n",
      "[CV] max_depth=4 .....................................................\n",
      "[CV] .................. max_depth=4, score=-7484287.452, total=   0.4s\n",
      "[CV] max_depth=4 .....................................................\n",
      "[CV] .................. max_depth=4, score=-7681502.794, total=   0.4s\n",
      "[CV] max_depth=4 .....................................................\n",
      "[CV] .................. max_depth=4, score=-7678160.864, total=   0.4s\n",
      "[CV] max_depth=4 .....................................................\n",
      "[CV] .................. max_depth=4, score=-7621737.301, total=   0.4s\n",
      "[CV] max_depth=5 .....................................................\n",
      "[CV] .................. max_depth=5, score=-6423515.410, total=   0.5s\n",
      "[CV] max_depth=5 .....................................................\n",
      "[CV] .................. max_depth=5, score=-6510061.713, total=   0.5s\n",
      "[CV] max_depth=5 .....................................................\n",
      "[CV] .................. max_depth=5, score=-6631106.845, total=   0.5s\n",
      "[CV] max_depth=5 .....................................................\n",
      "[CV] .................. max_depth=5, score=-6553042.213, total=   0.5s\n",
      "[CV] max_depth=5 .....................................................\n",
      "[CV] .................. max_depth=5, score=-6552935.197, total=   0.5s\n",
      "[CV] max_depth=6 .....................................................\n",
      "[CV] .................. max_depth=6, score=-5808700.809, total=   0.6s\n",
      "[CV] max_depth=6 .....................................................\n",
      "[CV] .................. max_depth=6, score=-5905305.084, total=   0.6s\n",
      "[CV] max_depth=6 .....................................................\n",
      "[CV] .................. max_depth=6, score=-5922442.206, total=   0.6s\n",
      "[CV] max_depth=6 .....................................................\n",
      "[CV] .................. max_depth=6, score=-5870814.616, total=   0.6s\n",
      "[CV] max_depth=6 .....................................................\n",
      "[CV] .................. max_depth=6, score=-5906342.927, total=   0.5s\n",
      "[CV] max_depth=7 .....................................................\n",
      "[CV] .................. max_depth=7, score=-5359369.015, total=   0.6s\n",
      "[CV] max_depth=7 .....................................................\n",
      "[CV] .................. max_depth=7, score=-5438304.317, total=   0.6s\n",
      "[CV] max_depth=7 .....................................................\n",
      "[CV] .................. max_depth=7, score=-5375369.468, total=   0.7s\n",
      "[CV] max_depth=7 .....................................................\n",
      "[CV] .................. max_depth=7, score=-5372383.100, total=   0.6s\n",
      "[CV] max_depth=7 .....................................................\n",
      "[CV] .................. max_depth=7, score=-5442117.717, total=   0.7s\n",
      "[CV] max_depth=8 .....................................................\n",
      "[CV] .................. max_depth=8, score=-4999946.564, total=   0.7s\n",
      "[CV] max_depth=8 .....................................................\n",
      "[CV] .................. max_depth=8, score=-5054366.347, total=   0.7s\n",
      "[CV] max_depth=8 .....................................................\n",
      "[CV] .................. max_depth=8, score=-5005696.268, total=   0.8s\n",
      "[CV] max_depth=8 .....................................................\n",
      "[CV] .................. max_depth=8, score=-5048127.903, total=   0.7s\n",
      "[CV] max_depth=8 .....................................................\n",
      "[CV] .................. max_depth=8, score=-5057248.721, total=   0.8s\n",
      "[CV] max_depth=9 .....................................................\n",
      "[CV] .................. max_depth=9, score=-4770994.170, total=   0.8s\n",
      "[CV] max_depth=9 .....................................................\n",
      "[CV] .................. max_depth=9, score=-4796200.197, total=   0.8s\n",
      "[CV] max_depth=9 .....................................................\n",
      "[CV] .................. max_depth=9, score=-4727827.858, total=   0.8s\n",
      "[CV] max_depth=9 .....................................................\n",
      "[CV] .................. max_depth=9, score=-4777664.756, total=   0.9s\n",
      "[CV] max_depth=9 .....................................................\n",
      "[CV] .................. max_depth=9, score=-4738951.127, total=   0.9s\n",
      "[CV] max_depth=10 ....................................................\n",
      "[CV] ................. max_depth=10, score=-4592906.047, total=   0.9s\n",
      "[CV] max_depth=10 ....................................................\n",
      "[CV] ................. max_depth=10, score=-4555103.438, total=   0.9s\n",
      "[CV] max_depth=10 ....................................................\n",
      "[CV] ................. max_depth=10, score=-4537285.456, total=   0.9s\n",
      "[CV] max_depth=10 ....................................................\n",
      "[CV] ................. max_depth=10, score=-4594345.991, total=   0.9s\n",
      "[CV] max_depth=10 ....................................................\n",
      "[CV] ................. max_depth=10, score=-4536132.043, total=   0.9s\n",
      "[CV] max_depth=11 ....................................................\n",
      "[CV] ................. max_depth=11, score=-4410687.593, total=   1.0s\n",
      "[CV] max_depth=11 ....................................................\n",
      "[CV] ................. max_depth=11, score=-4370460.699, total=   1.3s\n",
      "[CV] max_depth=11 ....................................................\n",
      "[CV] ................. max_depth=11, score=-4379227.809, total=   1.3s\n",
      "[CV] max_depth=11 ....................................................\n",
      "[CV] ................. max_depth=11, score=-4456046.123, total=   1.3s\n",
      "[CV] max_depth=11 ....................................................\n",
      "[CV] ................. max_depth=11, score=-4426134.880, total=   1.3s\n",
      "[CV] max_depth=12 ....................................................\n",
      "[CV] ................. max_depth=12, score=-4280575.928, total=   1.4s\n",
      "[CV] max_depth=12 ....................................................\n",
      "[CV] ................. max_depth=12, score=-4215591.022, total=   1.5s\n",
      "[CV] max_depth=12 ....................................................\n",
      "[CV] ................. max_depth=12, score=-4222493.838, total=   1.4s\n",
      "[CV] max_depth=12 ....................................................\n",
      "[CV] ................. max_depth=12, score=-4357300.706, total=   1.4s\n",
      "[CV] max_depth=12 ....................................................\n",
      "[CV] ................. max_depth=12, score=-4337205.267, total=   1.0s\n",
      "[CV] max_depth=13 ....................................................\n",
      "[CV] ................. max_depth=13, score=-4208876.482, total=   1.2s\n",
      "[CV] max_depth=13 ....................................................\n",
      "[CV] ................. max_depth=13, score=-4151588.411, total=   1.1s\n",
      "[CV] max_depth=13 ....................................................\n",
      "[CV] ................. max_depth=13, score=-4200529.902, total=   1.1s\n",
      "[CV] max_depth=13 ....................................................\n",
      "[CV] ................. max_depth=13, score=-4291015.826, total=   1.0s\n",
      "[CV] max_depth=13 ....................................................\n",
      "[CV] ................. max_depth=13, score=-4241496.743, total=   1.1s\n",
      "[CV] max_depth=14 ....................................................\n",
      "[CV] ................. max_depth=14, score=-4224373.512, total=   1.2s\n",
      "[CV] max_depth=14 ....................................................\n",
      "[CV] ................. max_depth=14, score=-4125744.317, total=   1.1s\n",
      "[CV] max_depth=14 ....................................................\n",
      "[CV] ................. max_depth=14, score=-4178638.457, total=   1.1s\n",
      "[CV] max_depth=14 ....................................................\n",
      "[CV] ................. max_depth=14, score=-4244553.657, total=   1.1s\n",
      "[CV] max_depth=14 ....................................................\n",
      "[CV] ................. max_depth=14, score=-4215912.389, total=   1.1s\n",
      "[CV] max_depth=15 ....................................................\n",
      "[CV] ................. max_depth=15, score=-4222157.901, total=   1.2s\n",
      "[CV] max_depth=15 ....................................................\n",
      "[CV] ................. max_depth=15, score=-4161525.436, total=   1.1s\n",
      "[CV] max_depth=15 ....................................................\n",
      "[CV] ................. max_depth=15, score=-4167885.542, total=   1.2s\n",
      "[CV] max_depth=15 ....................................................\n",
      "[CV] ................. max_depth=15, score=-4255894.877, total=   1.2s\n",
      "[CV] max_depth=15 ....................................................\n",
      "[CV] ................. max_depth=15, score=-4205671.644, total=   1.2s\n",
      "[CV] max_depth=16 ....................................................\n",
      "[CV] ................. max_depth=16, score=-4323379.694, total=   1.3s\n",
      "[CV] max_depth=16 ....................................................\n",
      "[CV] ................. max_depth=16, score=-4244843.657, total=   1.2s\n",
      "[CV] max_depth=16 ....................................................\n",
      "[CV] ................. max_depth=16, score=-4251878.632, total=   1.3s\n",
      "[CV] max_depth=16 ....................................................\n",
      "[CV] ................. max_depth=16, score=-4295411.884, total=   1.3s\n",
      "[CV] max_depth=16 ....................................................\n",
      "[CV] ................. max_depth=16, score=-4276138.365, total=   1.2s\n",
      "[CV] max_depth=17 ....................................................\n",
      "[CV] ................. max_depth=17, score=-4319537.844, total=   1.3s\n",
      "[CV] max_depth=17 ....................................................\n",
      "[CV] ................. max_depth=17, score=-4350126.626, total=   1.3s\n",
      "[CV] max_depth=17 ....................................................\n",
      "[CV] ................. max_depth=17, score=-4333024.208, total=   1.3s\n",
      "[CV] max_depth=17 ....................................................\n",
      "[CV] ................. max_depth=17, score=-4425345.764, total=   1.3s\n",
      "[CV] max_depth=17 ....................................................\n",
      "[CV] ................. max_depth=17, score=-4333775.849, total=   1.3s\n",
      "[CV] max_depth=18 ....................................................\n",
      "[CV] ................. max_depth=18, score=-4357082.612, total=   1.3s\n",
      "[CV] max_depth=18 ....................................................\n",
      "[CV] ................. max_depth=18, score=-4381880.241, total=   1.3s\n",
      "[CV] max_depth=18 ....................................................\n",
      "[CV] ................. max_depth=18, score=-4419250.979, total=   1.3s\n",
      "[CV] max_depth=18 ....................................................\n",
      "[CV] ................. max_depth=18, score=-4457811.704, total=   1.5s\n",
      "[CV] max_depth=18 ....................................................\n",
      "[CV] ................. max_depth=18, score=-4370356.336, total=   1.4s\n",
      "[CV] max_depth=19 ....................................................\n",
      "[CV] ................. max_depth=19, score=-4437558.995, total=   1.4s\n",
      "[CV] max_depth=19 ....................................................\n",
      "[CV] ................. max_depth=19, score=-4499133.054, total=   1.5s\n",
      "[CV] max_depth=19 ....................................................\n",
      "[CV] ................. max_depth=19, score=-4465842.723, total=   1.4s\n",
      "[CV] max_depth=19 ....................................................\n",
      "[CV] ................. max_depth=19, score=-4485257.472, total=   1.4s\n",
      "[CV] max_depth=19 ....................................................\n",
      "[CV] ................. max_depth=19, score=-4442340.364, total=   1.4s\n",
      "[CV] max_depth=20 ....................................................\n",
      "[CV] ................. max_depth=20, score=-4496736.685, total=   1.5s\n",
      "[CV] max_depth=20 ....................................................\n",
      "[CV] ................. max_depth=20, score=-4557595.877, total=   1.4s\n",
      "[CV] max_depth=20 ....................................................\n",
      "[CV] ................. max_depth=20, score=-4565557.358, total=   1.5s\n",
      "[CV] max_depth=20 ....................................................\n",
      "[CV] ................. max_depth=20, score=-4543961.540, total=   1.7s\n",
      "[CV] max_depth=20 ....................................................\n",
      "[CV] ................. max_depth=20, score=-4522472.522, total=   1.6s\n"
     ]
    },
    {
     "name": "stderr",
     "output_type": "stream",
     "text": [
      "[Parallel(n_jobs=1)]: Done 100 out of 100 | elapsed:  1.5min finished\n"
     ]
    },
    {
     "name": "stdout",
     "output_type": "stream",
     "text": [
      "CPU times: user 1min 30s, sys: 1.36 s, total: 1min 31s\n",
      "Wall time: 1min 32s\n"
     ]
    },
    {
     "data": {
      "text/plain": [
       "GridSearchCV(cv=5, error_score='raise-deprecating',\n",
       "             estimator=DecisionTreeRegressor(criterion='mse', max_depth=None,\n",
       "                                             max_features=None,\n",
       "                                             max_leaf_nodes=None,\n",
       "                                             min_impurity_decrease=0.0,\n",
       "                                             min_impurity_split=None,\n",
       "                                             min_samples_leaf=1,\n",
       "                                             min_samples_split=2,\n",
       "                                             min_weight_fraction_leaf=0.0,\n",
       "                                             presort=False, random_state=42,\n",
       "                                             splitter='best'),\n",
       "             iid='warn', n_jobs=None, param_grid={'max_depth': range(1, 21)},\n",
       "             pre_dispatch='2*n_jobs', refit=True, return_train_score=False,\n",
       "             scoring='neg_mean_squared_error', verbose=10)"
      ]
     },
     "execution_count": 30,
     "metadata": {},
     "output_type": "execute_result"
    }
   ],
   "source": [
    "%%time\n",
    "# Обучим модель\n",
    "# CPU times: user 1min 27s, sys: 1.14 s, total: 1min 28s\n",
    "# Wall time: 1min 28s\n",
    "grind_model.fit(features_train, target_train)"
   ]
  },
  {
   "cell_type": "code",
   "execution_count": 31,
   "metadata": {},
   "outputs": [
    {
     "name": "stdout",
     "output_type": "stream",
     "text": [
      "Лучшая модель дерева решений:\n",
      "DecisionTreeRegressor(criterion='mse', max_depth=14, max_features=None,\n",
      "                      max_leaf_nodes=None, min_impurity_decrease=0.0,\n",
      "                      min_impurity_split=None, min_samples_leaf=1,\n",
      "                      min_samples_split=2, min_weight_fraction_leaf=0.0,\n",
      "                      presort=False, random_state=42, splitter='best')\n",
      "Лучшее значение RMSE: 2048.8642\n"
     ]
    }
   ],
   "source": [
    "print('Лучшая модель дерева решений:')\n",
    "print(grind_model.best_estimator_)\n",
    "print('Лучшее значение RMSE: {:.4f}'.format((-grind_model.best_score_)**0.5))"
   ]
  },
  {
   "cell_type": "code",
   "execution_count": 32,
   "metadata": {},
   "outputs": [
    {
     "name": "stdout",
     "output_type": "stream",
     "text": [
      "Лучшее значение RMSE тестовой выборки для дерева решений: 2028.6059\n"
     ]
    }
   ],
   "source": [
    "predictions = grind_model.predict(features_valid)\n",
    "rmse_valid = mean_squared_error(target_valid, predictions)**0.5\n",
    "print('Лучшее значение RMSE тестовой выборки для дерева решений: {:.4f}'.format(rmse_valid))"
   ]
  },
  {
   "cell_type": "code",
   "execution_count": 43,
   "metadata": {},
   "outputs": [],
   "source": [
    "#Сохраним результаты модели:\n",
    "model_des_tree = [2028.6259, '00:01:32']"
   ]
  },
  {
   "cell_type": "markdown",
   "metadata": {},
   "source": [
    "- *Линейная регрессия:*"
   ]
  },
  {
   "cell_type": "code",
   "execution_count": 37,
   "metadata": {},
   "outputs": [],
   "source": [
    "model_linear = LinearRegression()\n",
    "greed_params_linear = {'normalize': [True, False]}\n",
    "\n",
    "grind_model = grind_simple_model(model_linear, greed_params_linear)"
   ]
  },
  {
   "cell_type": "code",
   "execution_count": 38,
   "metadata": {
    "scrolled": true
   },
   "outputs": [
    {
     "name": "stdout",
     "output_type": "stream",
     "text": [
      "Fitting 5 folds for each of 2 candidates, totalling 10 fits\n",
      "[CV] normalize=True ..................................................\n"
     ]
    },
    {
     "name": "stderr",
     "output_type": "stream",
     "text": [
      "[Parallel(n_jobs=1)]: Using backend SequentialBackend with 1 concurrent workers.\n"
     ]
    },
    {
     "name": "stdout",
     "output_type": "stream",
     "text": [
      "[CV] ............... normalize=True, score=-9767504.664, total=   0.5s\n",
      "[CV] normalize=True ..................................................\n"
     ]
    },
    {
     "name": "stderr",
     "output_type": "stream",
     "text": [
      "[Parallel(n_jobs=1)]: Done   1 out of   1 | elapsed:    0.5s remaining:    0.0s\n"
     ]
    },
    {
     "name": "stdout",
     "output_type": "stream",
     "text": [
      "[CV] .............. normalize=True, score=-10052943.925, total=   0.7s\n",
      "[CV] normalize=True ..................................................\n"
     ]
    },
    {
     "name": "stderr",
     "output_type": "stream",
     "text": [
      "[Parallel(n_jobs=1)]: Done   2 out of   2 | elapsed:    1.2s remaining:    0.0s\n"
     ]
    },
    {
     "name": "stdout",
     "output_type": "stream",
     "text": [
      "[CV] ............... normalize=True, score=-9932246.127, total=   0.7s\n",
      "[CV] normalize=True ..................................................\n"
     ]
    },
    {
     "name": "stderr",
     "output_type": "stream",
     "text": [
      "[Parallel(n_jobs=1)]: Done   3 out of   3 | elapsed:    1.9s remaining:    0.0s\n"
     ]
    },
    {
     "name": "stdout",
     "output_type": "stream",
     "text": [
      "[CV] ............... normalize=True, score=-9869032.883, total=   0.7s\n",
      "[CV] normalize=True ..................................................\n"
     ]
    },
    {
     "name": "stderr",
     "output_type": "stream",
     "text": [
      "[Parallel(n_jobs=1)]: Done   4 out of   4 | elapsed:    2.6s remaining:    0.0s\n"
     ]
    },
    {
     "name": "stdout",
     "output_type": "stream",
     "text": [
      "[CV] .............. normalize=True, score=-10014818.239, total=   0.7s\n",
      "[CV] normalize=False .................................................\n"
     ]
    },
    {
     "name": "stderr",
     "output_type": "stream",
     "text": [
      "[Parallel(n_jobs=1)]: Done   5 out of   5 | elapsed:    3.3s remaining:    0.0s\n"
     ]
    },
    {
     "name": "stdout",
     "output_type": "stream",
     "text": [
      "[CV] .............. normalize=False, score=-9767504.664, total=   0.7s\n",
      "[CV] normalize=False .................................................\n"
     ]
    },
    {
     "name": "stderr",
     "output_type": "stream",
     "text": [
      "[Parallel(n_jobs=1)]: Done   6 out of   6 | elapsed:    4.0s remaining:    0.0s\n"
     ]
    },
    {
     "name": "stdout",
     "output_type": "stream",
     "text": [
      "[CV] ............. normalize=False, score=-10052943.925, total=   0.6s\n",
      "[CV] normalize=False .................................................\n"
     ]
    },
    {
     "name": "stderr",
     "output_type": "stream",
     "text": [
      "[Parallel(n_jobs=1)]: Done   7 out of   7 | elapsed:    4.6s remaining:    0.0s\n"
     ]
    },
    {
     "name": "stdout",
     "output_type": "stream",
     "text": [
      "[CV] .............. normalize=False, score=-9932246.127, total=   0.7s\n",
      "[CV] normalize=False .................................................\n"
     ]
    },
    {
     "name": "stderr",
     "output_type": "stream",
     "text": [
      "[Parallel(n_jobs=1)]: Done   8 out of   8 | elapsed:    5.3s remaining:    0.0s\n"
     ]
    },
    {
     "name": "stdout",
     "output_type": "stream",
     "text": [
      "[CV] .............. normalize=False, score=-9869032.883, total=   0.7s\n",
      "[CV] normalize=False .................................................\n"
     ]
    },
    {
     "name": "stderr",
     "output_type": "stream",
     "text": [
      "[Parallel(n_jobs=1)]: Done   9 out of   9 | elapsed:    6.0s remaining:    0.0s\n"
     ]
    },
    {
     "name": "stdout",
     "output_type": "stream",
     "text": [
      "[CV] ............. normalize=False, score=-10014818.239, total=   0.8s\n"
     ]
    },
    {
     "name": "stderr",
     "output_type": "stream",
     "text": [
      "[Parallel(n_jobs=1)]: Done  10 out of  10 | elapsed:    6.8s finished\n"
     ]
    },
    {
     "name": "stdout",
     "output_type": "stream",
     "text": [
      "CPU times: user 5.09 s, sys: 2.38 s, total: 7.46 s\n",
      "Wall time: 7.51 s\n"
     ]
    },
    {
     "data": {
      "text/plain": [
       "GridSearchCV(cv=5, error_score='raise-deprecating',\n",
       "             estimator=LinearRegression(copy_X=True, fit_intercept=True,\n",
       "                                        n_jobs=None, normalize=False),\n",
       "             iid='warn', n_jobs=None, param_grid={'normalize': [True, False]},\n",
       "             pre_dispatch='2*n_jobs', refit=True, return_train_score=False,\n",
       "             scoring='neg_mean_squared_error', verbose=10)"
      ]
     },
     "execution_count": 38,
     "metadata": {},
     "output_type": "execute_result"
    }
   ],
   "source": [
    "%%time\n",
    "# Обучим модель\n",
    "#CPU times: user 4.73 s, sys: 2.21 s, total: 6.95 s\n",
    "#Wall time: 6.99 s\n",
    "grind_model.fit(features_train, target_train)"
   ]
  },
  {
   "cell_type": "code",
   "execution_count": 39,
   "metadata": {},
   "outputs": [
    {
     "name": "stdout",
     "output_type": "stream",
     "text": [
      "Лучшая модель линейной регрессии:\n",
      "LinearRegression(copy_X=True, fit_intercept=True, n_jobs=None, normalize=True)\n",
      "Лучшее значение RMSE: 3150.7632\n"
     ]
    }
   ],
   "source": [
    "print('Лучшая модель линейной регрессии:')\n",
    "print(grind_model.best_estimator_)\n",
    "print('Лучшее значение RMSE: {:.4f}'.format((-grind_model.best_score_)**0.5))"
   ]
  },
  {
   "cell_type": "code",
   "execution_count": 40,
   "metadata": {},
   "outputs": [
    {
     "name": "stdout",
     "output_type": "stream",
     "text": [
      "Лучшее значение RMSE тестовой выборки для случайного леса: 3150.9635\n"
     ]
    }
   ],
   "source": [
    "predictions = grind_model.predict(features_valid)\n",
    "rmse_valid = mean_squared_error(target_valid, predictions)**0.5\n",
    "print('Лучшее значение RMSE тестовой выборки для случайного леса: {:.4f}'.format(rmse_valid))"
   ]
  },
  {
   "cell_type": "code",
   "execution_count": 44,
   "metadata": {},
   "outputs": [],
   "source": [
    "#Сохраним результаты модели:\n",
    "model_lin_regr = [3150.9635, '00:00:08']"
   ]
  },
  {
   "cell_type": "markdown",
   "metadata": {},
   "source": [
    "- *Случайный лес:*"
   ]
  },
  {
   "cell_type": "code",
   "execution_count": 59,
   "metadata": {},
   "outputs": [],
   "source": [
    "model_forest = RandomForestRegressor(random_state=r)\n",
    "\n",
    "greed_params_forest = {'max_depth': range(1, 21),\n",
    "                     'n_estimators': range(1, 51, 5)}\n",
    "\n",
    "grind_model = grind_simple_model(model_forest, greed_params_forest)"
   ]
  },
  {
   "cell_type": "code",
   "execution_count": 60,
   "metadata": {
    "scrolled": true
   },
   "outputs": [
    {
     "name": "stdout",
     "output_type": "stream",
     "text": [
      "Fitting 5 folds for each of 200 candidates, totalling 1000 fits\n",
      "[CV] max_depth=1, n_estimators=1 .....................................\n",
      "[CV] . max_depth=1, n_estimators=1, score=-14206341.005, total=   0.2s\n",
      "[CV] max_depth=1, n_estimators=1 .....................................\n"
     ]
    },
    {
     "name": "stderr",
     "output_type": "stream",
     "text": [
      "[Parallel(n_jobs=1)]: Using backend SequentialBackend with 1 concurrent workers.\n",
      "[Parallel(n_jobs=1)]: Done   1 out of   1 | elapsed:    0.2s remaining:    0.0s\n"
     ]
    },
    {
     "name": "stdout",
     "output_type": "stream",
     "text": [
      "[CV] . max_depth=1, n_estimators=1, score=-14502088.495, total=   0.1s\n",
      "[CV] max_depth=1, n_estimators=1 .....................................\n",
      "[CV] . max_depth=1, n_estimators=1, score=-14368915.192, total=   0.1s\n",
      "[CV] max_depth=1, n_estimators=1 .....................................\n"
     ]
    },
    {
     "name": "stderr",
     "output_type": "stream",
     "text": [
      "[Parallel(n_jobs=1)]: Done   2 out of   2 | elapsed:    0.3s remaining:    0.0s\n",
      "[Parallel(n_jobs=1)]: Done   3 out of   3 | elapsed:    0.4s remaining:    0.0s\n"
     ]
    },
    {
     "name": "stdout",
     "output_type": "stream",
     "text": [
      "[CV] . max_depth=1, n_estimators=1, score=-14376008.219, total=   0.2s\n",
      "[CV] max_depth=1, n_estimators=1 .....................................\n",
      "[CV] . max_depth=1, n_estimators=1, score=-14360192.772, total=   0.1s\n",
      "[CV] max_depth=1, n_estimators=6 .....................................\n"
     ]
    },
    {
     "name": "stderr",
     "output_type": "stream",
     "text": [
      "[Parallel(n_jobs=1)]: Done   4 out of   4 | elapsed:    0.6s remaining:    0.0s\n",
      "[Parallel(n_jobs=1)]: Done   5 out of   5 | elapsed:    0.8s remaining:    0.0s\n"
     ]
    },
    {
     "name": "stdout",
     "output_type": "stream",
     "text": [
      "[CV] . max_depth=1, n_estimators=6, score=-14205779.927, total=   0.5s\n",
      "[CV] max_depth=1, n_estimators=6 .....................................\n"
     ]
    },
    {
     "name": "stderr",
     "output_type": "stream",
     "text": [
      "[Parallel(n_jobs=1)]: Done   6 out of   6 | elapsed:    1.3s remaining:    0.0s\n"
     ]
    },
    {
     "name": "stdout",
     "output_type": "stream",
     "text": [
      "[CV] . max_depth=1, n_estimators=6, score=-14501266.842, total=   0.5s\n",
      "[CV] max_depth=1, n_estimators=6 .....................................\n"
     ]
    },
    {
     "name": "stderr",
     "output_type": "stream",
     "text": [
      "[Parallel(n_jobs=1)]: Done   7 out of   7 | elapsed:    1.8s remaining:    0.0s\n"
     ]
    },
    {
     "name": "stdout",
     "output_type": "stream",
     "text": [
      "[CV] . max_depth=1, n_estimators=6, score=-14368957.479, total=   0.4s\n",
      "[CV] max_depth=1, n_estimators=6 .....................................\n"
     ]
    },
    {
     "name": "stderr",
     "output_type": "stream",
     "text": [
      "[Parallel(n_jobs=1)]: Done   8 out of   8 | elapsed:    2.3s remaining:    0.0s\n"
     ]
    },
    {
     "name": "stdout",
     "output_type": "stream",
     "text": [
      "[CV] . max_depth=1, n_estimators=6, score=-14376070.301, total=   0.5s\n",
      "[CV] max_depth=1, n_estimators=6 .....................................\n"
     ]
    },
    {
     "name": "stderr",
     "output_type": "stream",
     "text": [
      "[Parallel(n_jobs=1)]: Done   9 out of   9 | elapsed:    2.7s remaining:    0.0s\n"
     ]
    },
    {
     "name": "stdout",
     "output_type": "stream",
     "text": [
      "[CV] . max_depth=1, n_estimators=6, score=-14360216.537, total=   0.5s\n",
      "[CV] max_depth=1, n_estimators=11 ....................................\n",
      "[CV]  max_depth=1, n_estimators=11, score=-14205787.155, total=   0.8s\n",
      "[CV] max_depth=1, n_estimators=11 ....................................\n",
      "[CV]  max_depth=1, n_estimators=11, score=-14501212.649, total=   0.8s\n",
      "[CV] max_depth=1, n_estimators=11 ....................................\n",
      "[CV]  max_depth=1, n_estimators=11, score=-14368920.581, total=   0.9s\n",
      "[CV] max_depth=1, n_estimators=11 ....................................\n",
      "[CV]  max_depth=1, n_estimators=11, score=-14376125.405, total=   0.8s\n",
      "[CV] max_depth=1, n_estimators=11 ....................................\n",
      "[CV]  max_depth=1, n_estimators=11, score=-14360245.710, total=   0.8s\n",
      "[CV] max_depth=1, n_estimators=16 ....................................\n",
      "[CV]  max_depth=1, n_estimators=16, score=-14205775.082, total=   1.1s\n",
      "[CV] max_depth=1, n_estimators=16 ....................................\n",
      "[CV]  max_depth=1, n_estimators=16, score=-14501153.914, total=   1.1s\n",
      "[CV] max_depth=1, n_estimators=16 ....................................\n",
      "[CV]  max_depth=1, n_estimators=16, score=-14368927.121, total=   1.1s\n",
      "[CV] max_depth=1, n_estimators=16 ....................................\n",
      "[CV]  max_depth=1, n_estimators=16, score=-14376117.371, total=   1.1s\n",
      "[CV] max_depth=1, n_estimators=16 ....................................\n",
      "[CV]  max_depth=1, n_estimators=16, score=-14360236.964, total=   1.1s\n",
      "[CV] max_depth=1, n_estimators=21 ....................................\n",
      "[CV]  max_depth=1, n_estimators=21, score=-14205772.770, total=   1.4s\n",
      "[CV] max_depth=1, n_estimators=21 ....................................\n",
      "[CV]  max_depth=1, n_estimators=21, score=-14501207.369, total=   1.4s\n",
      "[CV] max_depth=1, n_estimators=21 ....................................\n",
      "[CV]  max_depth=1, n_estimators=21, score=-14368879.379, total=   1.4s\n",
      "[CV] max_depth=1, n_estimators=21 ....................................\n",
      "[CV]  max_depth=1, n_estimators=21, score=-14376111.098, total=   1.4s\n",
      "[CV] max_depth=1, n_estimators=21 ....................................\n",
      "[CV]  max_depth=1, n_estimators=21, score=-14360217.211, total=   1.4s\n",
      "[CV] max_depth=1, n_estimators=26 ....................................\n",
      "[CV]  max_depth=1, n_estimators=26, score=-14205771.048, total=   1.7s\n",
      "[CV] max_depth=1, n_estimators=26 ....................................\n",
      "[CV]  max_depth=1, n_estimators=26, score=-14501260.485, total=   1.7s\n",
      "[CV] max_depth=1, n_estimators=26 ....................................\n",
      "[CV]  max_depth=1, n_estimators=26, score=-14368899.362, total=   1.8s\n",
      "[CV] max_depth=1, n_estimators=26 ....................................\n",
      "[CV]  max_depth=1, n_estimators=26, score=-14376109.246, total=   1.6s\n",
      "[CV] max_depth=1, n_estimators=26 ....................................\n",
      "[CV]  max_depth=1, n_estimators=26, score=-14360218.691, total=   1.7s\n",
      "[CV] max_depth=1, n_estimators=31 ....................................\n",
      "[CV]  max_depth=1, n_estimators=31, score=-14205776.231, total=   2.0s\n",
      "[CV] max_depth=1, n_estimators=31 ....................................\n",
      "[CV]  max_depth=1, n_estimators=31, score=-14501185.788, total=   2.1s\n",
      "[CV] max_depth=1, n_estimators=31 ....................................\n",
      "[CV]  max_depth=1, n_estimators=31, score=-14368917.815, total=   2.0s\n",
      "[CV] max_depth=1, n_estimators=31 ....................................\n",
      "[CV]  max_depth=1, n_estimators=31, score=-14376115.732, total=   2.3s\n",
      "[CV] max_depth=1, n_estimators=31 ....................................\n",
      "[CV]  max_depth=1, n_estimators=31, score=-14360222.599, total=   2.0s\n",
      "[CV] max_depth=1, n_estimators=36 ....................................\n",
      "[CV]  max_depth=1, n_estimators=36, score=-14205775.925, total=   2.3s\n",
      "[CV] max_depth=1, n_estimators=36 ....................................\n",
      "[CV]  max_depth=1, n_estimators=36, score=-14501137.693, total=   2.3s\n",
      "[CV] max_depth=1, n_estimators=36 ....................................\n",
      "[CV]  max_depth=1, n_estimators=36, score=-14368905.260, total=   2.3s\n",
      "[CV] max_depth=1, n_estimators=36 ....................................\n",
      "[CV]  max_depth=1, n_estimators=36, score=-14376138.800, total=   2.3s\n",
      "[CV] max_depth=1, n_estimators=36 ....................................\n",
      "[CV]  max_depth=1, n_estimators=36, score=-14360230.053, total=   2.4s\n",
      "[CV] max_depth=1, n_estimators=41 ....................................\n",
      "[CV]  max_depth=1, n_estimators=41, score=-14205777.634, total=   2.6s\n",
      "[CV] max_depth=1, n_estimators=41 ....................................\n",
      "[CV]  max_depth=1, n_estimators=41, score=-14501091.197, total=   2.7s\n",
      "[CV] max_depth=1, n_estimators=41 ....................................\n",
      "[CV]  max_depth=1, n_estimators=41, score=-14368958.990, total=   2.6s\n",
      "[CV] max_depth=1, n_estimators=41 ....................................\n",
      "[CV]  max_depth=1, n_estimators=41, score=-14376145.132, total=   2.6s\n",
      "[CV] max_depth=1, n_estimators=41 ....................................\n",
      "[CV]  max_depth=1, n_estimators=41, score=-14360237.435, total=   2.6s\n",
      "[CV] max_depth=1, n_estimators=46 ....................................\n",
      "[CV]  max_depth=1, n_estimators=46, score=-14205788.672, total=   2.9s\n",
      "[CV] max_depth=1, n_estimators=46 ....................................\n",
      "[CV]  max_depth=1, n_estimators=46, score=-14501093.367, total=   3.0s\n",
      "[CV] max_depth=1, n_estimators=46 ....................................\n",
      "[CV]  max_depth=1, n_estimators=46, score=-14368985.688, total=   3.2s\n",
      "[CV] max_depth=1, n_estimators=46 ....................................\n",
      "[CV]  max_depth=1, n_estimators=46, score=-14376154.425, total=   3.0s\n",
      "[CV] max_depth=1, n_estimators=46 ....................................\n",
      "[CV]  max_depth=1, n_estimators=46, score=-14360245.838, total=   2.9s\n",
      "[CV] max_depth=2, n_estimators=1 .....................................\n",
      "[CV] . max_depth=2, n_estimators=1, score=-10765564.086, total=   0.2s\n",
      "[CV] max_depth=2, n_estimators=1 .....................................\n",
      "[CV] . max_depth=2, n_estimators=1, score=-11022512.245, total=   0.2s\n",
      "[CV] max_depth=2, n_estimators=1 .....................................\n",
      "[CV] . max_depth=2, n_estimators=1, score=-11004119.867, total=   0.2s\n",
      "[CV] max_depth=2, n_estimators=1 .....................................\n",
      "[CV] . max_depth=2, n_estimators=1, score=-10879538.968, total=   0.2s\n",
      "[CV] max_depth=2, n_estimators=1 .....................................\n",
      "[CV] . max_depth=2, n_estimators=1, score=-10879417.785, total=   0.2s\n",
      "[CV] max_depth=2, n_estimators=6 .....................................\n",
      "[CV] . max_depth=2, n_estimators=6, score=-10457818.483, total=   0.8s\n",
      "[CV] max_depth=2, n_estimators=6 .....................................\n",
      "[CV] . max_depth=2, n_estimators=6, score=-11006044.881, total=   0.8s\n",
      "[CV] max_depth=2, n_estimators=6 .....................................\n",
      "[CV] . max_depth=2, n_estimators=6, score=-10711040.595, total=   0.8s\n",
      "[CV] max_depth=2, n_estimators=6 .....................................\n",
      "[CV] . max_depth=2, n_estimators=6, score=-10700361.255, total=   0.8s\n",
      "[CV] max_depth=2, n_estimators=6 .....................................\n",
      "[CV] . max_depth=2, n_estimators=6, score=-10754754.937, total=   0.8s\n",
      "[CV] max_depth=2, n_estimators=11 ....................................\n",
      "[CV]  max_depth=2, n_estimators=11, score=-10459444.518, total=   1.4s\n",
      "[CV] max_depth=2, n_estimators=11 ....................................\n",
      "[CV]  max_depth=2, n_estimators=11, score=-10890015.234, total=   1.5s\n",
      "[CV] max_depth=2, n_estimators=11 ....................................\n",
      "[CV]  max_depth=2, n_estimators=11, score=-10693107.022, total=   1.4s\n",
      "[CV] max_depth=2, n_estimators=11 ....................................\n",
      "[CV]  max_depth=2, n_estimators=11, score=-10689762.499, total=   1.4s\n",
      "[CV] max_depth=2, n_estimators=11 ....................................\n",
      "[CV]  max_depth=2, n_estimators=11, score=-10677999.675, total=   1.4s\n",
      "[CV] max_depth=2, n_estimators=16 ....................................\n",
      "[CV]  max_depth=2, n_estimators=16, score=-10503957.991, total=   2.0s\n",
      "[CV] max_depth=2, n_estimators=16 ....................................\n",
      "[CV]  max_depth=2, n_estimators=16, score=-10853116.333, total=   2.1s\n",
      "[CV] max_depth=2, n_estimators=16 ....................................\n",
      "[CV]  max_depth=2, n_estimators=16, score=-10686210.125, total=   2.0s\n",
      "[CV] max_depth=2, n_estimators=16 ....................................\n",
      "[CV]  max_depth=2, n_estimators=16, score=-10634412.629, total=   2.2s\n",
      "[CV] max_depth=2, n_estimators=16 ....................................\n",
      "[CV]  max_depth=2, n_estimators=16, score=-10638009.064, total=   2.1s\n",
      "[CV] max_depth=2, n_estimators=21 ....................................\n",
      "[CV]  max_depth=2, n_estimators=21, score=-10475847.236, total=   2.6s\n",
      "[CV] max_depth=2, n_estimators=21 ....................................\n",
      "[CV]  max_depth=2, n_estimators=21, score=-10788004.037, total=   2.6s\n",
      "[CV] max_depth=2, n_estimators=21 ....................................\n",
      "[CV]  max_depth=2, n_estimators=21, score=-10670558.988, total=   2.5s\n",
      "[CV] max_depth=2, n_estimators=21 ....................................\n",
      "[CV]  max_depth=2, n_estimators=21, score=-10636334.995, total=   2.5s\n",
      "[CV] max_depth=2, n_estimators=21 ....................................\n",
      "[CV]  max_depth=2, n_estimators=21, score=-10645394.769, total=   2.5s\n",
      "[CV] max_depth=2, n_estimators=26 ....................................\n",
      "[CV]  max_depth=2, n_estimators=26, score=-10459096.194, total=   3.1s\n",
      "[CV] max_depth=2, n_estimators=26 ....................................\n",
      "[CV]  max_depth=2, n_estimators=26, score=-10785957.718, total=   3.0s\n",
      "[CV] max_depth=2, n_estimators=26 ....................................\n",
      "[CV]  max_depth=2, n_estimators=26, score=-10663587.835, total=   3.1s\n",
      "[CV] max_depth=2, n_estimators=26 ....................................\n",
      "[CV]  max_depth=2, n_estimators=26, score=-10617040.965, total=   3.1s\n",
      "[CV] max_depth=2, n_estimators=26 ....................................\n",
      "[CV]  max_depth=2, n_estimators=26, score=-10619449.214, total=   3.3s\n",
      "[CV] max_depth=2, n_estimators=31 ....................................\n",
      "[CV]  max_depth=2, n_estimators=31, score=-10454520.545, total=   3.8s\n",
      "[CV] max_depth=2, n_estimators=31 ....................................\n",
      "[CV]  max_depth=2, n_estimators=31, score=-10760041.740, total=   3.8s\n",
      "[CV] max_depth=2, n_estimators=31 ....................................\n",
      "[CV]  max_depth=2, n_estimators=31, score=-10670993.931, total=   4.0s\n",
      "[CV] max_depth=2, n_estimators=31 ....................................\n",
      "[CV]  max_depth=2, n_estimators=31, score=-10621228.917, total=   3.8s\n",
      "[CV] max_depth=2, n_estimators=31 ....................................\n",
      "[CV]  max_depth=2, n_estimators=31, score=-10623610.543, total=   3.8s\n",
      "[CV] max_depth=2, n_estimators=36 ....................................\n",
      "[CV]  max_depth=2, n_estimators=36, score=-10461592.476, total=   4.4s\n",
      "[CV] max_depth=2, n_estimators=36 ....................................\n",
      "[CV]  max_depth=2, n_estimators=36, score=-10764452.655, total=   4.3s\n",
      "[CV] max_depth=2, n_estimators=36 ....................................\n",
      "[CV]  max_depth=2, n_estimators=36, score=-10666521.680, total=   4.3s\n",
      "[CV] max_depth=2, n_estimators=36 ....................................\n",
      "[CV]  max_depth=2, n_estimators=36, score=-10625467.140, total=   4.2s\n",
      "[CV] max_depth=2, n_estimators=36 ....................................\n",
      "[CV]  max_depth=2, n_estimators=36, score=-10632038.913, total=   4.3s\n",
      "[CV] max_depth=2, n_estimators=41 ....................................\n",
      "[CV]  max_depth=2, n_estimators=41, score=-10454213.332, total=   5.9s\n",
      "[CV] max_depth=2, n_estimators=41 ....................................\n",
      "[CV]  max_depth=2, n_estimators=41, score=-10768345.714, total=   4.9s\n",
      "[CV] max_depth=2, n_estimators=41 ....................................\n",
      "[CV]  max_depth=2, n_estimators=41, score=-10673086.401, total=   4.8s\n",
      "[CV] max_depth=2, n_estimators=41 ....................................\n",
      "[CV]  max_depth=2, n_estimators=41, score=-10612593.965, total=   5.8s\n",
      "[CV] max_depth=2, n_estimators=41 ....................................\n",
      "[CV]  max_depth=2, n_estimators=41, score=-10634938.023, total=   4.9s\n",
      "[CV] max_depth=2, n_estimators=46 ....................................\n",
      "[CV]  max_depth=2, n_estimators=46, score=-10455911.263, total=   5.4s\n",
      "[CV] max_depth=2, n_estimators=46 ....................................\n",
      "[CV]  max_depth=2, n_estimators=46, score=-10769716.080, total=   5.3s\n",
      "[CV] max_depth=2, n_estimators=46 ....................................\n",
      "[CV]  max_depth=2, n_estimators=46, score=-10668870.111, total=   5.4s\n",
      "[CV] max_depth=2, n_estimators=46 ....................................\n",
      "[CV]  max_depth=2, n_estimators=46, score=-10630748.230, total=   5.5s\n",
      "[CV] max_depth=2, n_estimators=46 ....................................\n"
     ]
    },
    {
     "ename": "KeyboardInterrupt",
     "evalue": "",
     "output_type": "error",
     "traceback": [
      "\u001b[0;31m---------------------------------------------------------------------------\u001b[0m",
      "\u001b[0;31mKeyboardInterrupt\u001b[0m                         Traceback (most recent call last)",
      "\u001b[0;32m<timed eval>\u001b[0m in \u001b[0;36m<module>\u001b[0;34m\u001b[0m\n",
      "\u001b[0;32m/opt/conda/lib/python3.7/site-packages/sklearn/model_selection/_search.py\u001b[0m in \u001b[0;36mfit\u001b[0;34m(self, X, y, groups, **fit_params)\u001b[0m\n\u001b[1;32m    685\u001b[0m                 \u001b[0;32mreturn\u001b[0m \u001b[0mresults\u001b[0m\u001b[0;34m\u001b[0m\u001b[0;34m\u001b[0m\u001b[0m\n\u001b[1;32m    686\u001b[0m \u001b[0;34m\u001b[0m\u001b[0m\n\u001b[0;32m--> 687\u001b[0;31m             \u001b[0mself\u001b[0m\u001b[0;34m.\u001b[0m\u001b[0m_run_search\u001b[0m\u001b[0;34m(\u001b[0m\u001b[0mevaluate_candidates\u001b[0m\u001b[0;34m)\u001b[0m\u001b[0;34m\u001b[0m\u001b[0;34m\u001b[0m\u001b[0m\n\u001b[0m\u001b[1;32m    688\u001b[0m \u001b[0;34m\u001b[0m\u001b[0m\n\u001b[1;32m    689\u001b[0m         \u001b[0;31m# For multi-metric evaluation, store the best_index_, best_params_ and\u001b[0m\u001b[0;34m\u001b[0m\u001b[0;34m\u001b[0m\u001b[0;34m\u001b[0m\u001b[0m\n",
      "\u001b[0;32m/opt/conda/lib/python3.7/site-packages/sklearn/model_selection/_search.py\u001b[0m in \u001b[0;36m_run_search\u001b[0;34m(self, evaluate_candidates)\u001b[0m\n\u001b[1;32m   1146\u001b[0m     \u001b[0;32mdef\u001b[0m \u001b[0m_run_search\u001b[0m\u001b[0;34m(\u001b[0m\u001b[0mself\u001b[0m\u001b[0;34m,\u001b[0m \u001b[0mevaluate_candidates\u001b[0m\u001b[0;34m)\u001b[0m\u001b[0;34m:\u001b[0m\u001b[0;34m\u001b[0m\u001b[0;34m\u001b[0m\u001b[0m\n\u001b[1;32m   1147\u001b[0m         \u001b[0;34m\"\"\"Search all candidates in param_grid\"\"\"\u001b[0m\u001b[0;34m\u001b[0m\u001b[0;34m\u001b[0m\u001b[0m\n\u001b[0;32m-> 1148\u001b[0;31m         \u001b[0mevaluate_candidates\u001b[0m\u001b[0;34m(\u001b[0m\u001b[0mParameterGrid\u001b[0m\u001b[0;34m(\u001b[0m\u001b[0mself\u001b[0m\u001b[0;34m.\u001b[0m\u001b[0mparam_grid\u001b[0m\u001b[0;34m)\u001b[0m\u001b[0;34m)\u001b[0m\u001b[0;34m\u001b[0m\u001b[0;34m\u001b[0m\u001b[0m\n\u001b[0m\u001b[1;32m   1149\u001b[0m \u001b[0;34m\u001b[0m\u001b[0m\n\u001b[1;32m   1150\u001b[0m \u001b[0;34m\u001b[0m\u001b[0m\n",
      "\u001b[0;32m/opt/conda/lib/python3.7/site-packages/sklearn/model_selection/_search.py\u001b[0m in \u001b[0;36mevaluate_candidates\u001b[0;34m(candidate_params)\u001b[0m\n\u001b[1;32m    664\u001b[0m                                \u001b[0;32mfor\u001b[0m \u001b[0mparameters\u001b[0m\u001b[0;34m,\u001b[0m \u001b[0;34m(\u001b[0m\u001b[0mtrain\u001b[0m\u001b[0;34m,\u001b[0m \u001b[0mtest\u001b[0m\u001b[0;34m)\u001b[0m\u001b[0;34m\u001b[0m\u001b[0;34m\u001b[0m\u001b[0m\n\u001b[1;32m    665\u001b[0m                                in product(candidate_params,\n\u001b[0;32m--> 666\u001b[0;31m                                           cv.split(X, y, groups)))\n\u001b[0m\u001b[1;32m    667\u001b[0m \u001b[0;34m\u001b[0m\u001b[0m\n\u001b[1;32m    668\u001b[0m                 \u001b[0;32mif\u001b[0m \u001b[0mlen\u001b[0m\u001b[0;34m(\u001b[0m\u001b[0mout\u001b[0m\u001b[0;34m)\u001b[0m \u001b[0;34m<\u001b[0m \u001b[0;36m1\u001b[0m\u001b[0;34m:\u001b[0m\u001b[0;34m\u001b[0m\u001b[0;34m\u001b[0m\u001b[0m\n",
      "\u001b[0;32m/opt/conda/lib/python3.7/site-packages/joblib/parallel.py\u001b[0m in \u001b[0;36m__call__\u001b[0;34m(self, iterable)\u001b[0m\n\u001b[1;32m   1042\u001b[0m                 \u001b[0mself\u001b[0m\u001b[0;34m.\u001b[0m\u001b[0m_iterating\u001b[0m \u001b[0;34m=\u001b[0m \u001b[0mself\u001b[0m\u001b[0;34m.\u001b[0m\u001b[0m_original_iterator\u001b[0m \u001b[0;32mis\u001b[0m \u001b[0;32mnot\u001b[0m \u001b[0;32mNone\u001b[0m\u001b[0;34m\u001b[0m\u001b[0;34m\u001b[0m\u001b[0m\n\u001b[1;32m   1043\u001b[0m \u001b[0;34m\u001b[0m\u001b[0m\n\u001b[0;32m-> 1044\u001b[0;31m             \u001b[0;32mwhile\u001b[0m \u001b[0mself\u001b[0m\u001b[0;34m.\u001b[0m\u001b[0mdispatch_one_batch\u001b[0m\u001b[0;34m(\u001b[0m\u001b[0miterator\u001b[0m\u001b[0;34m)\u001b[0m\u001b[0;34m:\u001b[0m\u001b[0;34m\u001b[0m\u001b[0;34m\u001b[0m\u001b[0m\n\u001b[0m\u001b[1;32m   1045\u001b[0m                 \u001b[0;32mpass\u001b[0m\u001b[0;34m\u001b[0m\u001b[0;34m\u001b[0m\u001b[0m\n\u001b[1;32m   1046\u001b[0m \u001b[0;34m\u001b[0m\u001b[0m\n",
      "\u001b[0;32m/opt/conda/lib/python3.7/site-packages/joblib/parallel.py\u001b[0m in \u001b[0;36mdispatch_one_batch\u001b[0;34m(self, iterator)\u001b[0m\n\u001b[1;32m    857\u001b[0m                 \u001b[0;32mreturn\u001b[0m \u001b[0;32mFalse\u001b[0m\u001b[0;34m\u001b[0m\u001b[0;34m\u001b[0m\u001b[0m\n\u001b[1;32m    858\u001b[0m             \u001b[0;32melse\u001b[0m\u001b[0;34m:\u001b[0m\u001b[0;34m\u001b[0m\u001b[0;34m\u001b[0m\u001b[0m\n\u001b[0;32m--> 859\u001b[0;31m                 \u001b[0mself\u001b[0m\u001b[0;34m.\u001b[0m\u001b[0m_dispatch\u001b[0m\u001b[0;34m(\u001b[0m\u001b[0mtasks\u001b[0m\u001b[0;34m)\u001b[0m\u001b[0;34m\u001b[0m\u001b[0;34m\u001b[0m\u001b[0m\n\u001b[0m\u001b[1;32m    860\u001b[0m                 \u001b[0;32mreturn\u001b[0m \u001b[0;32mTrue\u001b[0m\u001b[0;34m\u001b[0m\u001b[0;34m\u001b[0m\u001b[0m\n\u001b[1;32m    861\u001b[0m \u001b[0;34m\u001b[0m\u001b[0m\n",
      "\u001b[0;32m/opt/conda/lib/python3.7/site-packages/joblib/parallel.py\u001b[0m in \u001b[0;36m_dispatch\u001b[0;34m(self, batch)\u001b[0m\n\u001b[1;32m    775\u001b[0m         \u001b[0;32mwith\u001b[0m \u001b[0mself\u001b[0m\u001b[0;34m.\u001b[0m\u001b[0m_lock\u001b[0m\u001b[0;34m:\u001b[0m\u001b[0;34m\u001b[0m\u001b[0;34m\u001b[0m\u001b[0m\n\u001b[1;32m    776\u001b[0m             \u001b[0mjob_idx\u001b[0m \u001b[0;34m=\u001b[0m \u001b[0mlen\u001b[0m\u001b[0;34m(\u001b[0m\u001b[0mself\u001b[0m\u001b[0;34m.\u001b[0m\u001b[0m_jobs\u001b[0m\u001b[0;34m)\u001b[0m\u001b[0;34m\u001b[0m\u001b[0;34m\u001b[0m\u001b[0m\n\u001b[0;32m--> 777\u001b[0;31m             \u001b[0mjob\u001b[0m \u001b[0;34m=\u001b[0m \u001b[0mself\u001b[0m\u001b[0;34m.\u001b[0m\u001b[0m_backend\u001b[0m\u001b[0;34m.\u001b[0m\u001b[0mapply_async\u001b[0m\u001b[0;34m(\u001b[0m\u001b[0mbatch\u001b[0m\u001b[0;34m,\u001b[0m \u001b[0mcallback\u001b[0m\u001b[0;34m=\u001b[0m\u001b[0mcb\u001b[0m\u001b[0;34m)\u001b[0m\u001b[0;34m\u001b[0m\u001b[0;34m\u001b[0m\u001b[0m\n\u001b[0m\u001b[1;32m    778\u001b[0m             \u001b[0;31m# A job can complete so quickly than its callback is\u001b[0m\u001b[0;34m\u001b[0m\u001b[0;34m\u001b[0m\u001b[0;34m\u001b[0m\u001b[0m\n\u001b[1;32m    779\u001b[0m             \u001b[0;31m# called before we get here, causing self._jobs to\u001b[0m\u001b[0;34m\u001b[0m\u001b[0;34m\u001b[0m\u001b[0;34m\u001b[0m\u001b[0m\n",
      "\u001b[0;32m/opt/conda/lib/python3.7/site-packages/joblib/_parallel_backends.py\u001b[0m in \u001b[0;36mapply_async\u001b[0;34m(self, func, callback)\u001b[0m\n\u001b[1;32m    206\u001b[0m     \u001b[0;32mdef\u001b[0m \u001b[0mapply_async\u001b[0m\u001b[0;34m(\u001b[0m\u001b[0mself\u001b[0m\u001b[0;34m,\u001b[0m \u001b[0mfunc\u001b[0m\u001b[0;34m,\u001b[0m \u001b[0mcallback\u001b[0m\u001b[0;34m=\u001b[0m\u001b[0;32mNone\u001b[0m\u001b[0;34m)\u001b[0m\u001b[0;34m:\u001b[0m\u001b[0;34m\u001b[0m\u001b[0;34m\u001b[0m\u001b[0m\n\u001b[1;32m    207\u001b[0m         \u001b[0;34m\"\"\"Schedule a func to be run\"\"\"\u001b[0m\u001b[0;34m\u001b[0m\u001b[0;34m\u001b[0m\u001b[0m\n\u001b[0;32m--> 208\u001b[0;31m         \u001b[0mresult\u001b[0m \u001b[0;34m=\u001b[0m \u001b[0mImmediateResult\u001b[0m\u001b[0;34m(\u001b[0m\u001b[0mfunc\u001b[0m\u001b[0;34m)\u001b[0m\u001b[0;34m\u001b[0m\u001b[0;34m\u001b[0m\u001b[0m\n\u001b[0m\u001b[1;32m    209\u001b[0m         \u001b[0;32mif\u001b[0m \u001b[0mcallback\u001b[0m\u001b[0;34m:\u001b[0m\u001b[0;34m\u001b[0m\u001b[0;34m\u001b[0m\u001b[0m\n\u001b[1;32m    210\u001b[0m             \u001b[0mcallback\u001b[0m\u001b[0;34m(\u001b[0m\u001b[0mresult\u001b[0m\u001b[0;34m)\u001b[0m\u001b[0;34m\u001b[0m\u001b[0;34m\u001b[0m\u001b[0m\n",
      "\u001b[0;32m/opt/conda/lib/python3.7/site-packages/joblib/_parallel_backends.py\u001b[0m in \u001b[0;36m__init__\u001b[0;34m(self, batch)\u001b[0m\n\u001b[1;32m    570\u001b[0m         \u001b[0;31m# Don't delay the application, to avoid keeping the input\u001b[0m\u001b[0;34m\u001b[0m\u001b[0;34m\u001b[0m\u001b[0;34m\u001b[0m\u001b[0m\n\u001b[1;32m    571\u001b[0m         \u001b[0;31m# arguments in memory\u001b[0m\u001b[0;34m\u001b[0m\u001b[0;34m\u001b[0m\u001b[0;34m\u001b[0m\u001b[0m\n\u001b[0;32m--> 572\u001b[0;31m         \u001b[0mself\u001b[0m\u001b[0;34m.\u001b[0m\u001b[0mresults\u001b[0m \u001b[0;34m=\u001b[0m \u001b[0mbatch\u001b[0m\u001b[0;34m(\u001b[0m\u001b[0;34m)\u001b[0m\u001b[0;34m\u001b[0m\u001b[0;34m\u001b[0m\u001b[0m\n\u001b[0m\u001b[1;32m    573\u001b[0m \u001b[0;34m\u001b[0m\u001b[0m\n\u001b[1;32m    574\u001b[0m     \u001b[0;32mdef\u001b[0m \u001b[0mget\u001b[0m\u001b[0;34m(\u001b[0m\u001b[0mself\u001b[0m\u001b[0;34m)\u001b[0m\u001b[0;34m:\u001b[0m\u001b[0;34m\u001b[0m\u001b[0;34m\u001b[0m\u001b[0m\n",
      "\u001b[0;32m/opt/conda/lib/python3.7/site-packages/joblib/parallel.py\u001b[0m in \u001b[0;36m__call__\u001b[0;34m(self)\u001b[0m\n\u001b[1;32m    261\u001b[0m         \u001b[0;32mwith\u001b[0m \u001b[0mparallel_backend\u001b[0m\u001b[0;34m(\u001b[0m\u001b[0mself\u001b[0m\u001b[0;34m.\u001b[0m\u001b[0m_backend\u001b[0m\u001b[0;34m,\u001b[0m \u001b[0mn_jobs\u001b[0m\u001b[0;34m=\u001b[0m\u001b[0mself\u001b[0m\u001b[0;34m.\u001b[0m\u001b[0m_n_jobs\u001b[0m\u001b[0;34m)\u001b[0m\u001b[0;34m:\u001b[0m\u001b[0;34m\u001b[0m\u001b[0;34m\u001b[0m\u001b[0m\n\u001b[1;32m    262\u001b[0m             return [func(*args, **kwargs)\n\u001b[0;32m--> 263\u001b[0;31m                     for func, args, kwargs in self.items]\n\u001b[0m\u001b[1;32m    264\u001b[0m \u001b[0;34m\u001b[0m\u001b[0m\n\u001b[1;32m    265\u001b[0m     \u001b[0;32mdef\u001b[0m \u001b[0m__reduce__\u001b[0m\u001b[0;34m(\u001b[0m\u001b[0mself\u001b[0m\u001b[0;34m)\u001b[0m\u001b[0;34m:\u001b[0m\u001b[0;34m\u001b[0m\u001b[0;34m\u001b[0m\u001b[0m\n",
      "\u001b[0;32m/opt/conda/lib/python3.7/site-packages/joblib/parallel.py\u001b[0m in \u001b[0;36m<listcomp>\u001b[0;34m(.0)\u001b[0m\n\u001b[1;32m    261\u001b[0m         \u001b[0;32mwith\u001b[0m \u001b[0mparallel_backend\u001b[0m\u001b[0;34m(\u001b[0m\u001b[0mself\u001b[0m\u001b[0;34m.\u001b[0m\u001b[0m_backend\u001b[0m\u001b[0;34m,\u001b[0m \u001b[0mn_jobs\u001b[0m\u001b[0;34m=\u001b[0m\u001b[0mself\u001b[0m\u001b[0;34m.\u001b[0m\u001b[0m_n_jobs\u001b[0m\u001b[0;34m)\u001b[0m\u001b[0;34m:\u001b[0m\u001b[0;34m\u001b[0m\u001b[0;34m\u001b[0m\u001b[0m\n\u001b[1;32m    262\u001b[0m             return [func(*args, **kwargs)\n\u001b[0;32m--> 263\u001b[0;31m                     for func, args, kwargs in self.items]\n\u001b[0m\u001b[1;32m    264\u001b[0m \u001b[0;34m\u001b[0m\u001b[0m\n\u001b[1;32m    265\u001b[0m     \u001b[0;32mdef\u001b[0m \u001b[0m__reduce__\u001b[0m\u001b[0;34m(\u001b[0m\u001b[0mself\u001b[0m\u001b[0;34m)\u001b[0m\u001b[0;34m:\u001b[0m\u001b[0;34m\u001b[0m\u001b[0;34m\u001b[0m\u001b[0m\n",
      "\u001b[0;32m/opt/conda/lib/python3.7/site-packages/sklearn/model_selection/_validation.py\u001b[0m in \u001b[0;36m_fit_and_score\u001b[0;34m(estimator, X, y, scorer, train, test, verbose, parameters, fit_params, return_train_score, return_parameters, return_n_test_samples, return_times, return_estimator, error_score)\u001b[0m\n\u001b[1;32m    512\u001b[0m             \u001b[0mestimator\u001b[0m\u001b[0;34m.\u001b[0m\u001b[0mfit\u001b[0m\u001b[0;34m(\u001b[0m\u001b[0mX_train\u001b[0m\u001b[0;34m,\u001b[0m \u001b[0;34m**\u001b[0m\u001b[0mfit_params\u001b[0m\u001b[0;34m)\u001b[0m\u001b[0;34m\u001b[0m\u001b[0;34m\u001b[0m\u001b[0m\n\u001b[1;32m    513\u001b[0m         \u001b[0;32melse\u001b[0m\u001b[0;34m:\u001b[0m\u001b[0;34m\u001b[0m\u001b[0;34m\u001b[0m\u001b[0m\n\u001b[0;32m--> 514\u001b[0;31m             \u001b[0mestimator\u001b[0m\u001b[0;34m.\u001b[0m\u001b[0mfit\u001b[0m\u001b[0;34m(\u001b[0m\u001b[0mX_train\u001b[0m\u001b[0;34m,\u001b[0m \u001b[0my_train\u001b[0m\u001b[0;34m,\u001b[0m \u001b[0;34m**\u001b[0m\u001b[0mfit_params\u001b[0m\u001b[0;34m)\u001b[0m\u001b[0;34m\u001b[0m\u001b[0;34m\u001b[0m\u001b[0m\n\u001b[0m\u001b[1;32m    515\u001b[0m \u001b[0;34m\u001b[0m\u001b[0m\n\u001b[1;32m    516\u001b[0m     \u001b[0;32mexcept\u001b[0m \u001b[0mException\u001b[0m \u001b[0;32mas\u001b[0m \u001b[0me\u001b[0m\u001b[0;34m:\u001b[0m\u001b[0;34m\u001b[0m\u001b[0;34m\u001b[0m\u001b[0m\n",
      "\u001b[0;32m/opt/conda/lib/python3.7/site-packages/sklearn/ensemble/forest.py\u001b[0m in \u001b[0;36mfit\u001b[0;34m(self, X, y, sample_weight)\u001b[0m\n\u001b[1;32m    328\u001b[0m                     \u001b[0mt\u001b[0m\u001b[0;34m,\u001b[0m \u001b[0mself\u001b[0m\u001b[0;34m,\u001b[0m \u001b[0mX\u001b[0m\u001b[0;34m,\u001b[0m \u001b[0my\u001b[0m\u001b[0;34m,\u001b[0m \u001b[0msample_weight\u001b[0m\u001b[0;34m,\u001b[0m \u001b[0mi\u001b[0m\u001b[0;34m,\u001b[0m \u001b[0mlen\u001b[0m\u001b[0;34m(\u001b[0m\u001b[0mtrees\u001b[0m\u001b[0;34m)\u001b[0m\u001b[0;34m,\u001b[0m\u001b[0;34m\u001b[0m\u001b[0;34m\u001b[0m\u001b[0m\n\u001b[1;32m    329\u001b[0m                     verbose=self.verbose, class_weight=self.class_weight)\n\u001b[0;32m--> 330\u001b[0;31m                 for i, t in enumerate(trees))\n\u001b[0m\u001b[1;32m    331\u001b[0m \u001b[0;34m\u001b[0m\u001b[0m\n\u001b[1;32m    332\u001b[0m             \u001b[0;31m# Collect newly grown trees\u001b[0m\u001b[0;34m\u001b[0m\u001b[0;34m\u001b[0m\u001b[0;34m\u001b[0m\u001b[0m\n",
      "\u001b[0;32m/opt/conda/lib/python3.7/site-packages/joblib/parallel.py\u001b[0m in \u001b[0;36m__call__\u001b[0;34m(self, iterable)\u001b[0m\n\u001b[1;32m   1042\u001b[0m                 \u001b[0mself\u001b[0m\u001b[0;34m.\u001b[0m\u001b[0m_iterating\u001b[0m \u001b[0;34m=\u001b[0m \u001b[0mself\u001b[0m\u001b[0;34m.\u001b[0m\u001b[0m_original_iterator\u001b[0m \u001b[0;32mis\u001b[0m \u001b[0;32mnot\u001b[0m \u001b[0;32mNone\u001b[0m\u001b[0;34m\u001b[0m\u001b[0;34m\u001b[0m\u001b[0m\n\u001b[1;32m   1043\u001b[0m \u001b[0;34m\u001b[0m\u001b[0m\n\u001b[0;32m-> 1044\u001b[0;31m             \u001b[0;32mwhile\u001b[0m \u001b[0mself\u001b[0m\u001b[0;34m.\u001b[0m\u001b[0mdispatch_one_batch\u001b[0m\u001b[0;34m(\u001b[0m\u001b[0miterator\u001b[0m\u001b[0;34m)\u001b[0m\u001b[0;34m:\u001b[0m\u001b[0;34m\u001b[0m\u001b[0;34m\u001b[0m\u001b[0m\n\u001b[0m\u001b[1;32m   1045\u001b[0m                 \u001b[0;32mpass\u001b[0m\u001b[0;34m\u001b[0m\u001b[0;34m\u001b[0m\u001b[0m\n\u001b[1;32m   1046\u001b[0m \u001b[0;34m\u001b[0m\u001b[0m\n",
      "\u001b[0;32m/opt/conda/lib/python3.7/site-packages/joblib/parallel.py\u001b[0m in \u001b[0;36mdispatch_one_batch\u001b[0;34m(self, iterator)\u001b[0m\n\u001b[1;32m    857\u001b[0m                 \u001b[0;32mreturn\u001b[0m \u001b[0;32mFalse\u001b[0m\u001b[0;34m\u001b[0m\u001b[0;34m\u001b[0m\u001b[0m\n\u001b[1;32m    858\u001b[0m             \u001b[0;32melse\u001b[0m\u001b[0;34m:\u001b[0m\u001b[0;34m\u001b[0m\u001b[0;34m\u001b[0m\u001b[0m\n\u001b[0;32m--> 859\u001b[0;31m                 \u001b[0mself\u001b[0m\u001b[0;34m.\u001b[0m\u001b[0m_dispatch\u001b[0m\u001b[0;34m(\u001b[0m\u001b[0mtasks\u001b[0m\u001b[0;34m)\u001b[0m\u001b[0;34m\u001b[0m\u001b[0;34m\u001b[0m\u001b[0m\n\u001b[0m\u001b[1;32m    860\u001b[0m                 \u001b[0;32mreturn\u001b[0m \u001b[0;32mTrue\u001b[0m\u001b[0;34m\u001b[0m\u001b[0;34m\u001b[0m\u001b[0m\n\u001b[1;32m    861\u001b[0m \u001b[0;34m\u001b[0m\u001b[0m\n",
      "\u001b[0;32m/opt/conda/lib/python3.7/site-packages/joblib/parallel.py\u001b[0m in \u001b[0;36m_dispatch\u001b[0;34m(self, batch)\u001b[0m\n\u001b[1;32m    775\u001b[0m         \u001b[0;32mwith\u001b[0m \u001b[0mself\u001b[0m\u001b[0;34m.\u001b[0m\u001b[0m_lock\u001b[0m\u001b[0;34m:\u001b[0m\u001b[0;34m\u001b[0m\u001b[0;34m\u001b[0m\u001b[0m\n\u001b[1;32m    776\u001b[0m             \u001b[0mjob_idx\u001b[0m \u001b[0;34m=\u001b[0m \u001b[0mlen\u001b[0m\u001b[0;34m(\u001b[0m\u001b[0mself\u001b[0m\u001b[0;34m.\u001b[0m\u001b[0m_jobs\u001b[0m\u001b[0;34m)\u001b[0m\u001b[0;34m\u001b[0m\u001b[0;34m\u001b[0m\u001b[0m\n\u001b[0;32m--> 777\u001b[0;31m             \u001b[0mjob\u001b[0m \u001b[0;34m=\u001b[0m \u001b[0mself\u001b[0m\u001b[0;34m.\u001b[0m\u001b[0m_backend\u001b[0m\u001b[0;34m.\u001b[0m\u001b[0mapply_async\u001b[0m\u001b[0;34m(\u001b[0m\u001b[0mbatch\u001b[0m\u001b[0;34m,\u001b[0m \u001b[0mcallback\u001b[0m\u001b[0;34m=\u001b[0m\u001b[0mcb\u001b[0m\u001b[0;34m)\u001b[0m\u001b[0;34m\u001b[0m\u001b[0;34m\u001b[0m\u001b[0m\n\u001b[0m\u001b[1;32m    778\u001b[0m             \u001b[0;31m# A job can complete so quickly than its callback is\u001b[0m\u001b[0;34m\u001b[0m\u001b[0;34m\u001b[0m\u001b[0;34m\u001b[0m\u001b[0m\n\u001b[1;32m    779\u001b[0m             \u001b[0;31m# called before we get here, causing self._jobs to\u001b[0m\u001b[0;34m\u001b[0m\u001b[0;34m\u001b[0m\u001b[0;34m\u001b[0m\u001b[0m\n",
      "\u001b[0;32m/opt/conda/lib/python3.7/site-packages/joblib/_parallel_backends.py\u001b[0m in \u001b[0;36mapply_async\u001b[0;34m(self, func, callback)\u001b[0m\n\u001b[1;32m    206\u001b[0m     \u001b[0;32mdef\u001b[0m \u001b[0mapply_async\u001b[0m\u001b[0;34m(\u001b[0m\u001b[0mself\u001b[0m\u001b[0;34m,\u001b[0m \u001b[0mfunc\u001b[0m\u001b[0;34m,\u001b[0m \u001b[0mcallback\u001b[0m\u001b[0;34m=\u001b[0m\u001b[0;32mNone\u001b[0m\u001b[0;34m)\u001b[0m\u001b[0;34m:\u001b[0m\u001b[0;34m\u001b[0m\u001b[0;34m\u001b[0m\u001b[0m\n\u001b[1;32m    207\u001b[0m         \u001b[0;34m\"\"\"Schedule a func to be run\"\"\"\u001b[0m\u001b[0;34m\u001b[0m\u001b[0;34m\u001b[0m\u001b[0m\n\u001b[0;32m--> 208\u001b[0;31m         \u001b[0mresult\u001b[0m \u001b[0;34m=\u001b[0m \u001b[0mImmediateResult\u001b[0m\u001b[0;34m(\u001b[0m\u001b[0mfunc\u001b[0m\u001b[0;34m)\u001b[0m\u001b[0;34m\u001b[0m\u001b[0;34m\u001b[0m\u001b[0m\n\u001b[0m\u001b[1;32m    209\u001b[0m         \u001b[0;32mif\u001b[0m \u001b[0mcallback\u001b[0m\u001b[0;34m:\u001b[0m\u001b[0;34m\u001b[0m\u001b[0;34m\u001b[0m\u001b[0m\n\u001b[1;32m    210\u001b[0m             \u001b[0mcallback\u001b[0m\u001b[0;34m(\u001b[0m\u001b[0mresult\u001b[0m\u001b[0;34m)\u001b[0m\u001b[0;34m\u001b[0m\u001b[0;34m\u001b[0m\u001b[0m\n",
      "\u001b[0;32m/opt/conda/lib/python3.7/site-packages/joblib/_parallel_backends.py\u001b[0m in \u001b[0;36m__init__\u001b[0;34m(self, batch)\u001b[0m\n\u001b[1;32m    570\u001b[0m         \u001b[0;31m# Don't delay the application, to avoid keeping the input\u001b[0m\u001b[0;34m\u001b[0m\u001b[0;34m\u001b[0m\u001b[0;34m\u001b[0m\u001b[0m\n\u001b[1;32m    571\u001b[0m         \u001b[0;31m# arguments in memory\u001b[0m\u001b[0;34m\u001b[0m\u001b[0;34m\u001b[0m\u001b[0;34m\u001b[0m\u001b[0m\n\u001b[0;32m--> 572\u001b[0;31m         \u001b[0mself\u001b[0m\u001b[0;34m.\u001b[0m\u001b[0mresults\u001b[0m \u001b[0;34m=\u001b[0m \u001b[0mbatch\u001b[0m\u001b[0;34m(\u001b[0m\u001b[0;34m)\u001b[0m\u001b[0;34m\u001b[0m\u001b[0;34m\u001b[0m\u001b[0m\n\u001b[0m\u001b[1;32m    573\u001b[0m \u001b[0;34m\u001b[0m\u001b[0m\n\u001b[1;32m    574\u001b[0m     \u001b[0;32mdef\u001b[0m \u001b[0mget\u001b[0m\u001b[0;34m(\u001b[0m\u001b[0mself\u001b[0m\u001b[0;34m)\u001b[0m\u001b[0;34m:\u001b[0m\u001b[0;34m\u001b[0m\u001b[0;34m\u001b[0m\u001b[0m\n",
      "\u001b[0;32m/opt/conda/lib/python3.7/site-packages/joblib/parallel.py\u001b[0m in \u001b[0;36m__call__\u001b[0;34m(self)\u001b[0m\n\u001b[1;32m    261\u001b[0m         \u001b[0;32mwith\u001b[0m \u001b[0mparallel_backend\u001b[0m\u001b[0;34m(\u001b[0m\u001b[0mself\u001b[0m\u001b[0;34m.\u001b[0m\u001b[0m_backend\u001b[0m\u001b[0;34m,\u001b[0m \u001b[0mn_jobs\u001b[0m\u001b[0;34m=\u001b[0m\u001b[0mself\u001b[0m\u001b[0;34m.\u001b[0m\u001b[0m_n_jobs\u001b[0m\u001b[0;34m)\u001b[0m\u001b[0;34m:\u001b[0m\u001b[0;34m\u001b[0m\u001b[0;34m\u001b[0m\u001b[0m\n\u001b[1;32m    262\u001b[0m             return [func(*args, **kwargs)\n\u001b[0;32m--> 263\u001b[0;31m                     for func, args, kwargs in self.items]\n\u001b[0m\u001b[1;32m    264\u001b[0m \u001b[0;34m\u001b[0m\u001b[0m\n\u001b[1;32m    265\u001b[0m     \u001b[0;32mdef\u001b[0m \u001b[0m__reduce__\u001b[0m\u001b[0;34m(\u001b[0m\u001b[0mself\u001b[0m\u001b[0;34m)\u001b[0m\u001b[0;34m:\u001b[0m\u001b[0;34m\u001b[0m\u001b[0;34m\u001b[0m\u001b[0m\n",
      "\u001b[0;32m/opt/conda/lib/python3.7/site-packages/joblib/parallel.py\u001b[0m in \u001b[0;36m<listcomp>\u001b[0;34m(.0)\u001b[0m\n\u001b[1;32m    261\u001b[0m         \u001b[0;32mwith\u001b[0m \u001b[0mparallel_backend\u001b[0m\u001b[0;34m(\u001b[0m\u001b[0mself\u001b[0m\u001b[0;34m.\u001b[0m\u001b[0m_backend\u001b[0m\u001b[0;34m,\u001b[0m \u001b[0mn_jobs\u001b[0m\u001b[0;34m=\u001b[0m\u001b[0mself\u001b[0m\u001b[0;34m.\u001b[0m\u001b[0m_n_jobs\u001b[0m\u001b[0;34m)\u001b[0m\u001b[0;34m:\u001b[0m\u001b[0;34m\u001b[0m\u001b[0;34m\u001b[0m\u001b[0m\n\u001b[1;32m    262\u001b[0m             return [func(*args, **kwargs)\n\u001b[0;32m--> 263\u001b[0;31m                     for func, args, kwargs in self.items]\n\u001b[0m\u001b[1;32m    264\u001b[0m \u001b[0;34m\u001b[0m\u001b[0m\n\u001b[1;32m    265\u001b[0m     \u001b[0;32mdef\u001b[0m \u001b[0m__reduce__\u001b[0m\u001b[0;34m(\u001b[0m\u001b[0mself\u001b[0m\u001b[0;34m)\u001b[0m\u001b[0;34m:\u001b[0m\u001b[0;34m\u001b[0m\u001b[0;34m\u001b[0m\u001b[0m\n",
      "\u001b[0;32m/opt/conda/lib/python3.7/site-packages/sklearn/ensemble/forest.py\u001b[0m in \u001b[0;36m_parallel_build_trees\u001b[0;34m(tree, forest, X, y, sample_weight, tree_idx, n_trees, verbose, class_weight)\u001b[0m\n\u001b[1;32m    116\u001b[0m             \u001b[0mcurr_sample_weight\u001b[0m \u001b[0;34m*=\u001b[0m \u001b[0mcompute_sample_weight\u001b[0m\u001b[0;34m(\u001b[0m\u001b[0;34m'balanced'\u001b[0m\u001b[0;34m,\u001b[0m \u001b[0my\u001b[0m\u001b[0;34m,\u001b[0m \u001b[0mindices\u001b[0m\u001b[0;34m)\u001b[0m\u001b[0;34m\u001b[0m\u001b[0;34m\u001b[0m\u001b[0m\n\u001b[1;32m    117\u001b[0m \u001b[0;34m\u001b[0m\u001b[0m\n\u001b[0;32m--> 118\u001b[0;31m         \u001b[0mtree\u001b[0m\u001b[0;34m.\u001b[0m\u001b[0mfit\u001b[0m\u001b[0;34m(\u001b[0m\u001b[0mX\u001b[0m\u001b[0;34m,\u001b[0m \u001b[0my\u001b[0m\u001b[0;34m,\u001b[0m \u001b[0msample_weight\u001b[0m\u001b[0;34m=\u001b[0m\u001b[0mcurr_sample_weight\u001b[0m\u001b[0;34m,\u001b[0m \u001b[0mcheck_input\u001b[0m\u001b[0;34m=\u001b[0m\u001b[0;32mFalse\u001b[0m\u001b[0;34m)\u001b[0m\u001b[0;34m\u001b[0m\u001b[0;34m\u001b[0m\u001b[0m\n\u001b[0m\u001b[1;32m    119\u001b[0m     \u001b[0;32melse\u001b[0m\u001b[0;34m:\u001b[0m\u001b[0;34m\u001b[0m\u001b[0;34m\u001b[0m\u001b[0m\n\u001b[1;32m    120\u001b[0m         \u001b[0mtree\u001b[0m\u001b[0;34m.\u001b[0m\u001b[0mfit\u001b[0m\u001b[0;34m(\u001b[0m\u001b[0mX\u001b[0m\u001b[0;34m,\u001b[0m \u001b[0my\u001b[0m\u001b[0;34m,\u001b[0m \u001b[0msample_weight\u001b[0m\u001b[0;34m=\u001b[0m\u001b[0msample_weight\u001b[0m\u001b[0;34m,\u001b[0m \u001b[0mcheck_input\u001b[0m\u001b[0;34m=\u001b[0m\u001b[0;32mFalse\u001b[0m\u001b[0;34m)\u001b[0m\u001b[0;34m\u001b[0m\u001b[0;34m\u001b[0m\u001b[0m\n",
      "\u001b[0;32m/opt/conda/lib/python3.7/site-packages/sklearn/tree/tree.py\u001b[0m in \u001b[0;36mfit\u001b[0;34m(self, X, y, sample_weight, check_input, X_idx_sorted)\u001b[0m\n\u001b[1;32m   1155\u001b[0m             \u001b[0msample_weight\u001b[0m\u001b[0;34m=\u001b[0m\u001b[0msample_weight\u001b[0m\u001b[0;34m,\u001b[0m\u001b[0;34m\u001b[0m\u001b[0;34m\u001b[0m\u001b[0m\n\u001b[1;32m   1156\u001b[0m             \u001b[0mcheck_input\u001b[0m\u001b[0;34m=\u001b[0m\u001b[0mcheck_input\u001b[0m\u001b[0;34m,\u001b[0m\u001b[0;34m\u001b[0m\u001b[0;34m\u001b[0m\u001b[0m\n\u001b[0;32m-> 1157\u001b[0;31m             X_idx_sorted=X_idx_sorted)\n\u001b[0m\u001b[1;32m   1158\u001b[0m         \u001b[0;32mreturn\u001b[0m \u001b[0mself\u001b[0m\u001b[0;34m\u001b[0m\u001b[0;34m\u001b[0m\u001b[0m\n\u001b[1;32m   1159\u001b[0m \u001b[0;34m\u001b[0m\u001b[0m\n",
      "\u001b[0;32m/opt/conda/lib/python3.7/site-packages/sklearn/tree/tree.py\u001b[0m in \u001b[0;36mfit\u001b[0;34m(self, X, y, sample_weight, check_input, X_idx_sorted)\u001b[0m\n\u001b[1;32m    378\u001b[0m                                            min_impurity_split)\n\u001b[1;32m    379\u001b[0m \u001b[0;34m\u001b[0m\u001b[0m\n\u001b[0;32m--> 380\u001b[0;31m         \u001b[0mbuilder\u001b[0m\u001b[0;34m.\u001b[0m\u001b[0mbuild\u001b[0m\u001b[0;34m(\u001b[0m\u001b[0mself\u001b[0m\u001b[0;34m.\u001b[0m\u001b[0mtree_\u001b[0m\u001b[0;34m,\u001b[0m \u001b[0mX\u001b[0m\u001b[0;34m,\u001b[0m \u001b[0my\u001b[0m\u001b[0;34m,\u001b[0m \u001b[0msample_weight\u001b[0m\u001b[0;34m,\u001b[0m \u001b[0mX_idx_sorted\u001b[0m\u001b[0;34m)\u001b[0m\u001b[0;34m\u001b[0m\u001b[0;34m\u001b[0m\u001b[0m\n\u001b[0m\u001b[1;32m    381\u001b[0m \u001b[0;34m\u001b[0m\u001b[0m\n\u001b[1;32m    382\u001b[0m         \u001b[0;32mif\u001b[0m \u001b[0mself\u001b[0m\u001b[0;34m.\u001b[0m\u001b[0mn_outputs_\u001b[0m \u001b[0;34m==\u001b[0m \u001b[0;36m1\u001b[0m\u001b[0;34m:\u001b[0m\u001b[0;34m\u001b[0m\u001b[0;34m\u001b[0m\u001b[0m\n",
      "\u001b[0;31mKeyboardInterrupt\u001b[0m: "
     ]
    }
   ],
   "source": [
    "%%time\n",
    "#CPU times: user 3h 21min 9s, sys: 46.2 s, total: 3h 21min 55s\n",
    "#Wall time: 3h 24min 53s\n",
    "# Обучим модель\n",
    "grind_model.fit(features_train, target_train)"
   ]
  },
  {
   "cell_type": "code",
   "execution_count": null,
   "metadata": {},
   "outputs": [],
   "source": [
    "#GridSearchCV(cv=5, error_score='raise-deprecating',\n",
    "#             estimator=RandomForestRegressor(bootstrap=True, criterion='mse',\n",
    "#                                             max_depth=None,\n",
    "#                                             max_features='auto',\n",
    "#                                             max_leaf_nodes=None,\n",
    "#                                             min_impurity_decrease=0.0,\n",
    "#                                             min_impurity_split=None,\n",
    "#                                             min_samples_leaf=1,\n",
    "#                                             min_samples_split=2,\n",
    "#                                             min_weight_fraction_leaf=0.0,\n",
    "#                                             n_estimators='warn', n_jobs=None,\n",
    "#                                             oob_score=False, random_state=42,\n",
    "#                                             verbose=0, warm_start=False),\n",
    "#             iid='warn', n_jobs=None,\n",
    "#             param_grid={'max_depth': range(1, 21),\n",
    "#                         'n_estimators': range(1, 51, 5)},\n",
    "#             pre_dispatch='2*n_jobs', refit=True, return_train_score=False,\n",
    "#             scoring='neg_mean_squared_error', verbose=10)"
   ]
  },
  {
   "cell_type": "code",
   "execution_count": null,
   "metadata": {},
   "outputs": [],
   "source": [
    "print('Лучшая модель случайного леса:')\n",
    "print(grind_model.best_estimator_)\n",
    "print('Лучшее значение RMSE: {:.4f}'.format((-grind_model.best_score_)**0.5))"
   ]
  },
  {
   "cell_type": "code",
   "execution_count": null,
   "metadata": {},
   "outputs": [],
   "source": [
    "#Лучшая модель случайного леса:\n",
    "#RandomForestRegressor(bootstrap=True, criterion='mse', max_depth=20,\n",
    "#                      max_features='auto', max_leaf_nodes=None,\n",
    "#                      min_impurity_decrease=0.0, min_impurity_split=None,\n",
    "#                      min_samples_leaf=1, min_samples_split=2,\n",
    "#                      min_weight_fraction_leaf=0.0, n_estimators=46,\n",
    "#                      n_jobs=None, oob_score=False, random_state=42, verbose=0,\n",
    "#                      warm_start=False)\n",
    "#Лучшее значение RMSE: 1774.5430"
   ]
  },
  {
   "cell_type": "code",
   "execution_count": null,
   "metadata": {},
   "outputs": [],
   "source": [
    "predictions = grind_model.predict(features_valid)\n",
    "rmse_valid = mean_squared_error(target_valid, predictions)**0.5\n",
    "print('Лучшее значение RMSE тестовой выборки для случайного леса: {:.4f}'.format(rmse_valid))"
   ]
  },
  {
   "cell_type": "code",
   "execution_count": null,
   "metadata": {},
   "outputs": [],
   "source": [
    "#Лучшее значение RMSE тестовой выборки для случайного леса: 1748.0892"
   ]
  },
  {
   "cell_type": "code",
   "execution_count": 45,
   "metadata": {},
   "outputs": [],
   "source": [
    "#Сохраним результаты модели:\n",
    "model_rand_for = [1748.0892, '03:24:53']"
   ]
  },
  {
   "cell_type": "markdown",
   "metadata": {},
   "source": [
    "**Вывод**\n",
    "Лучшее значение RMSE = 1774.543 на тестовой выборке показала модель случайного леса:  \n",
    "RandomForestRegressor(bootstrap=True, criterion='mse', max_depth=20,  \n",
    "                      max_features='auto', max_leaf_nodes=None,  \n",
    "                      min_impurity_decrease=0.0, min_impurity_split=None,  \n",
    "                      min_samples_leaf=1, min_samples_split=2,  \n",
    "                      min_weight_fraction_leaf=0.0, n_estimators=46,  \n",
    "                      n_jobs=None, oob_score=False, random_state=42, verbose=0,  \n",
    "                      warm_start=False)"
   ]
  },
  {
   "cell_type": "markdown",
   "metadata": {},
   "source": [
    "### Градиентный бустинг Catboost"
   ]
  },
  {
   "cell_type": "code",
   "execution_count": 46,
   "metadata": {},
   "outputs": [],
   "source": [
    "# Создадим функцию для поиска лучших параметров модели при помощи GrindSearch:\n",
    "def grind_boost_model(model, params):\n",
    "    grind_model = GridSearchCV(model, param_grid=params, scoring='neg_mean_squared_error', \n",
    "                               cv=5, verbose=10)  \n",
    "    return grind_model\n",
    "\n",
    "# Выделим категориальные переменные:\n",
    "categorical_features = features.columns[3:].to_list()"
   ]
  },
  {
   "cell_type": "code",
   "execution_count": 47,
   "metadata": {},
   "outputs": [],
   "source": [
    "model_catboost =  CatBoostRegressor(random_state=r, cat_features=categorical_features, verbose=20)\n",
    "\n",
    "params_catboost = {'depth': range(1, 11),\n",
    "                   'iterations': range(1, 51, 10)}\n",
    "\n",
    "grind_model = grind_boost_model(model_catboost, params_catboost)"
   ]
  },
  {
   "cell_type": "code",
   "execution_count": null,
   "metadata": {
    "scrolled": true
   },
   "outputs": [],
   "source": [
    "%%time\n",
    "#CPU times: user 1h 20min 2s, sys: 3min, total: 1h 23min 3s\n",
    "#Wall time: 1h 30min 42s\n",
    "# Обучим модель\n",
    "grind_model.fit(features_train, target_train)"
   ]
  },
  {
   "cell_type": "code",
   "execution_count": null,
   "metadata": {},
   "outputs": [],
   "source": [
    "print('Лучшая модель CatboostRegressor:')\n",
    "print(grind_model.best_estimator_)\n",
    "print('Лучшее значение RMSE: {:.4f}'.format((-grind_model.best_score_)**0.5))"
   ]
  },
  {
   "cell_type": "code",
   "execution_count": null,
   "metadata": {},
   "outputs": [],
   "source": [
    "predictions = grind_model.predict(features_valid)\n",
    "rmse_valid = mean_squared_error(target_valid, predictions)**0.5\n",
    "print('Лучшее значение RMSE тестовой выборки модели CatboostRegressor: {:.4f}'.format(rmse_valid))"
   ]
  },
  {
   "cell_type": "code",
   "execution_count": null,
   "metadata": {},
   "outputs": [],
   "source": [
    "#Лучшая модель CatboostRegressor:\n",
    "#<catboost.core.CatBoostRegressor object at 0x7fcca044ee10>\n",
    "#Лучшее значение RMSE: 2544.3463\n",
    "#Лучшее значение RMSE тестовой выборки модели CatboostRegressor: 2539.4088"
   ]
  },
  {
   "cell_type": "code",
   "execution_count": 64,
   "metadata": {},
   "outputs": [],
   "source": [
    "#Сохраним результаты модели:\n",
    "model_catb = [2539.4088, '01:30:42']"
   ]
  },
  {
   "cell_type": "markdown",
   "metadata": {},
   "source": [
    "### Градиентный бустинг LightGBM"
   ]
  },
  {
   "cell_type": "markdown",
   "metadata": {},
   "source": [
    "Базовая модель"
   ]
  },
  {
   "cell_type": "code",
   "execution_count": 52,
   "metadata": {},
   "outputs": [],
   "source": [
    "model_lgbm = lgb.LGBMRegressor(boosting_type='gbdt', random_state=r)\n",
    "#params_lgbm = {'max_depth': range(1, 6)"
   ]
  },
  {
   "cell_type": "code",
   "execution_count": 53,
   "metadata": {
    "scrolled": true
   },
   "outputs": [
    {
     "name": "stdout",
     "output_type": "stream",
     "text": [
      "CPU times: user 19.7 s, sys: 162 ms, total: 19.9 s\n",
      "Wall time: 20.1 s\n"
     ]
    },
    {
     "data": {
      "text/plain": [
       "LGBMRegressor(boosting_type='gbdt', class_weight=None, colsample_bytree=1.0,\n",
       "              importance_type='split', learning_rate=0.1, max_depth=-1,\n",
       "              min_child_samples=20, min_child_weight=0.001, min_split_gain=0.0,\n",
       "              n_estimators=100, n_jobs=-1, num_leaves=31, objective=None,\n",
       "              random_state=42, reg_alpha=0.0, reg_lambda=0.0, silent=True,\n",
       "              subsample=1.0, subsample_for_bin=200000, subsample_freq=0)"
      ]
     },
     "execution_count": 53,
     "metadata": {},
     "output_type": "execute_result"
    }
   ],
   "source": [
    "%%time\n",
    "#CPU times: user 20.1s, sys: 666 ms, total: 1min 48s\n",
    "#Wall time: 1min 49s\n",
    "# Обучим модель\n",
    "model_lgbm.fit(features_train, target_train, categorical_feature=categorical_features)"
   ]
  },
  {
   "cell_type": "code",
   "execution_count": 54,
   "metadata": {},
   "outputs": [
    {
     "name": "stdout",
     "output_type": "stream",
     "text": [
      "Значение RMSE тестовой выборки модели LGBMRegressor: 1790.2629\n"
     ]
    }
   ],
   "source": [
    "predictions = model_lgbm.predict(features_valid)\n",
    "rmse_valid = mean_squared_error(target_valid, predictions)**0.5\n",
    "print('Значение RMSE тестовой выборки модели LGBMRegressor: {:.4f}'.format(rmse_valid))"
   ]
  },
  {
   "cell_type": "code",
   "execution_count": 78,
   "metadata": {},
   "outputs": [],
   "source": [
    "model_lgbm = lgb.LGBMRegressor(boosting_type='gbdt', random_state=r, num_leaves=101, n_estomators=200)"
   ]
  },
  {
   "cell_type": "code",
   "execution_count": 79,
   "metadata": {
    "scrolled": true
   },
   "outputs": [
    {
     "name": "stdout",
     "output_type": "stream",
     "text": [
      "CPU times: user 16.5 s, sys: 142 ms, total: 16.6 s\n",
      "Wall time: 16.8 s\n"
     ]
    },
    {
     "data": {
      "text/plain": [
       "LGBMRegressor(boosting_type='gbdt', class_weight=None, colsample_bytree=1.0,\n",
       "              importance_type='split', learning_rate=0.1, max_depth=-1,\n",
       "              min_child_samples=20, min_child_weight=0.001, min_split_gain=0.0,\n",
       "              n_estimators=100, n_estomators=200, n_jobs=-1, num_leaves=101,\n",
       "              objective=None, random_state=42, reg_alpha=0.0, reg_lambda=0.0,\n",
       "              silent=True, subsample=1.0, subsample_for_bin=200000,\n",
       "              subsample_freq=0)"
      ]
     },
     "execution_count": 79,
     "metadata": {},
     "output_type": "execute_result"
    }
   ],
   "source": [
    "%%time\n",
    "#CPU times: user 26.7 s, sys: 269 ms, total: 27 s\n",
    "#Wall time: 27.3 s\n",
    "# Обучим модель\n",
    "model_lgbm.fit(features_train, target_train, categorical_feature=categorical_features)"
   ]
  },
  {
   "cell_type": "code",
   "execution_count": 80,
   "metadata": {},
   "outputs": [
    {
     "name": "stdout",
     "output_type": "stream",
     "text": [
      "Значение RMSE тестовой выборки модели LGBMRegressor: 1722.5767\n"
     ]
    }
   ],
   "source": [
    "predictions = model_lgbm.predict(features_valid)\n",
    "rmse_valid = mean_squared_error(target_valid, predictions)**0.5\n",
    "print('Значение RMSE тестовой выборки модели LGBMRegressor: {:.4f}'.format(rmse_valid))"
   ]
  },
  {
   "cell_type": "code",
   "execution_count": 81,
   "metadata": {},
   "outputs": [],
   "source": [
    "#Сохраним результаты модели:\n",
    "model_lgb = [1722.5767, '00:00:26']"
   ]
  },
  {
   "cell_type": "markdown",
   "metadata": {},
   "source": [
    "## Вывод"
   ]
  },
  {
   "cell_type": "markdown",
   "metadata": {},
   "source": [
    "Сведем итоговую информацию с показателем RMSE и Wall time по полученным моделям в одну таблицу."
   ]
  },
  {
   "cell_type": "code",
   "execution_count": 77,
   "metadata": {},
   "outputs": [
    {
     "data": {
      "text/html": [
       "<div>\n",
       "<style scoped>\n",
       "    .dataframe tbody tr th:only-of-type {\n",
       "        vertical-align: middle;\n",
       "    }\n",
       "\n",
       "    .dataframe tbody tr th {\n",
       "        vertical-align: top;\n",
       "    }\n",
       "\n",
       "    .dataframe thead th {\n",
       "        text-align: right;\n",
       "    }\n",
       "</style>\n",
       "<table border=\"1\" class=\"dataframe\">\n",
       "  <thead>\n",
       "    <tr style=\"text-align: right;\">\n",
       "      <th></th>\n",
       "      <th>rmse</th>\n",
       "      <th>wall_time</th>\n",
       "    </tr>\n",
       "  </thead>\n",
       "  <tbody>\n",
       "    <tr>\n",
       "      <td>LightGBM</td>\n",
       "      <td>1722.5767</td>\n",
       "      <td>00:00:26</td>\n",
       "    </tr>\n",
       "    <tr>\n",
       "      <td>RandomForest</td>\n",
       "      <td>1748.0892</td>\n",
       "      <td>03:24:53</td>\n",
       "    </tr>\n",
       "    <tr>\n",
       "      <td>DecisionTree</td>\n",
       "      <td>2028.6259</td>\n",
       "      <td>00:01:32</td>\n",
       "    </tr>\n",
       "    <tr>\n",
       "      <td>CatBoostGBM</td>\n",
       "      <td>2539.4088</td>\n",
       "      <td>01:30:42</td>\n",
       "    </tr>\n",
       "    <tr>\n",
       "      <td>LinearRegression</td>\n",
       "      <td>3150.9635</td>\n",
       "      <td>00:00:08</td>\n",
       "    </tr>\n",
       "  </tbody>\n",
       "</table>\n",
       "</div>"
      ],
      "text/plain": [
       "                       rmse wall_time\n",
       "LightGBM          1722.5767  00:00:26\n",
       "RandomForest      1748.0892  03:24:53\n",
       "DecisionTree      2028.6259  00:01:32\n",
       "CatBoostGBM       2539.4088  01:30:42\n",
       "LinearRegression  3150.9635  00:00:08"
      ]
     },
     "metadata": {},
     "output_type": "display_data"
    }
   ],
   "source": [
    "index = ['DecisionTree', 'LinearRegression', 'RandomForest', 'CatBoostGBM', 'LightGBM']\n",
    "comparison_table = pd.DataFrame([model_des_tree, model_lin_regr, model_rand_for, model_catb, model_lgb], \n",
    "                                columns=['rmse', 'wall_time'], index=index)\n",
    "#comparison_table['wall_time'] = pd.to_datetime(comparison_table['wall_time'], format='%H:%M:%S')\n",
    "display(comparison_table.sort_values('rmse', ascending=True))"
   ]
  },
  {
   "cell_type": "markdown",
   "metadata": {},
   "source": [
    "Рассмотрев и обучив несколько моделей, мы видим, что для решения поставленной задачи наилучший результат показала модель градиентного бустинга библиотеки LightGBM: мы получили наименьшее значение метрики rmse, при этом затратив наименьшее количество времени.\n",
    "\n",
    "Учитывая вышеизложенное, отразим параметры полученной модели:"
   ]
  },
  {
   "cell_type": "markdown",
   "metadata": {},
   "source": [
    "**LGBMRegressor**  \n",
    "(boosting_type='gbdt', class_weight=None, colsample_bytree=1.0, importance_type='split', learning_rate=0.1, max_depth=-1, min_child_samples=20, min_child_weight=0.001, min_split_gain=0.0, n_estimators=100, n_estomators=200, n_jobs=-1, num_leaves=101, objective=None, random_state=42, reg_alpha=0.0, reg_lambda=0.0, silent=True, subsample=1.0, subsample_for_bin=200000, subsample_freq=0)"
   ]
  },
  {
   "cell_type": "markdown",
   "metadata": {},
   "source": [
    "Анализ важности факторов показывает, что наиболее значимыми для построенной моели являются количественные переменные: *год регистрации*, *мощность* и *пройденный километраж*, а также качественные: *бренд* и *модель*."
   ]
  },
  {
   "cell_type": "code",
   "execution_count": 92,
   "metadata": {},
   "outputs": [
    {
     "data": {
      "text/plain": [
       "<matplotlib.axes._subplots.AxesSubplot at 0x7fa95990d250>"
      ]
     },
     "execution_count": 92,
     "metadata": {},
     "output_type": "execute_result"
    },
    {
     "data": {
      "image/png": "[encoded data removed]",
      "text/plain": [
       "<Figure size 432x288 with 1 Axes>"
      ]
     },
     "metadata": {
      "needs_background": "light"
     },
     "output_type": "display_data"
    }
   ],
   "source": [
    "lgb.plot_importance(model_lgbm)"
   ]
  }
 ],
 "metadata": {
  "kernelspec": {
   "display_name": "Python 3",
   "language": "python",
   "name": "python3"
  },
  "language_info": {
   "codemirror_mode": {
    "name": "ipython",
    "version": 3
   },
   "file_extension": ".py",
   "mimetype": "text/x-python",
   "name": "python",
   "nbconvert_exporter": "python",
   "pygments_lexer": "ipython3",
   "version": "3.8.3"
  },
  "toc": {
   "base_numbering": 1,
   "nav_menu": {},
   "number_sections": true,
   "sideBar": true,
   "skip_h1_title": true,
   "title_cell": "Table of Contents",
   "title_sidebar": "Contents",
   "toc_cell": false,
   "toc_position": {},
   "toc_section_display": true,
   "toc_window_display": false
  }
 },
 "nbformat": 4,
 "nbformat_minor": 2
}
